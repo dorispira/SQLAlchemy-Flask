{
 "cells": [
  {
   "cell_type": "code",
   "execution_count": 8,
   "metadata": {},
   "outputs": [],
   "source": [
    "%matplotlib inline\n",
    "from matplotlib import style\n",
    "style.use('fivethirtyeight')\n",
    "import matplotlib.pyplot as plt"
   ]
  },
  {
   "cell_type": "code",
   "execution_count": 9,
   "metadata": {},
   "outputs": [],
   "source": [
    "import numpy as np\n",
    "import pandas as pd"
   ]
  },
  {
   "cell_type": "code",
   "execution_count": 10,
   "metadata": {},
   "outputs": [],
   "source": [
    "import datetime as dt"
   ]
  },
  {
   "cell_type": "markdown",
   "metadata": {},
   "source": [
    "# Reflect Tables into SQLAlchemy ORM"
   ]
  },
  {
   "cell_type": "code",
   "execution_count": 11,
   "metadata": {},
   "outputs": [],
   "source": [
    "# Python SQL toolkit and Object Relational Mapper\n",
    "import sqlalchemy\n",
    "from sqlalchemy.ext.automap import automap_base\n",
    "from sqlalchemy.orm import Session\n",
    "from sqlalchemy import create_engine, func"
   ]
  },
  {
   "cell_type": "code",
   "execution_count": 12,
   "metadata": {},
   "outputs": [],
   "source": [
    "engine = create_engine(\"sqlite:///Resources/hawaiiV2.sqlite\")"
   ]
  },
  {
   "cell_type": "code",
   "execution_count": 13,
   "metadata": {},
   "outputs": [],
   "source": [
    "# reflect an existing database into a new model\n",
    "Base = automap_base()\n",
    "# reflect the tables\n",
    "Base.prepare(engine, reflect=True)"
   ]
  },
  {
   "cell_type": "code",
   "execution_count": 14,
   "metadata": {},
   "outputs": [
    {
     "data": {
      "text/plain": [
       "['measurement', 'station']"
      ]
     },
     "execution_count": 14,
     "metadata": {},
     "output_type": "execute_result"
    }
   ],
   "source": [
    "# We can view all of the classes that automap found\n",
    "Base.classes.keys()"
   ]
  },
  {
   "cell_type": "code",
   "execution_count": 15,
   "metadata": {},
   "outputs": [],
   "source": [
    "# Save references to each table\n",
    "Measurement = Base.classes.measurement\n",
    "Station = Base.classes.station"
   ]
  },
  {
   "cell_type": "code",
   "execution_count": 16,
   "metadata": {},
   "outputs": [],
   "source": [
    "# Create our session (link) from Python to the DB\n",
    "session = Session(engine)"
   ]
  },
  {
   "cell_type": "markdown",
   "metadata": {},
   "source": [
    "# Exploratory Climate Analysis"
   ]
  },
  {
   "cell_type": "code",
   "execution_count": 17,
   "metadata": {},
   "outputs": [
    {
     "data": {
      "text/plain": [
       "{'_sa_instance_state': <sqlalchemy.orm.state.InstanceState at 0x11cd3fe80>,\n",
       " 'prcp': 0.08,\n",
       " 'station': 'USC00519397',\n",
       " 'tobs': 65.0,\n",
       " 'date': '2010-01-01',\n",
       " 'id': 1}"
      ]
     },
     "execution_count": 17,
     "metadata": {},
     "output_type": "execute_result"
    }
   ],
   "source": [
    "first_row = session.query(Measurement).first()\n",
    "first_row.__dict__"
   ]
  },
  {
   "cell_type": "code",
   "execution_count": 18,
   "metadata": {},
   "outputs": [
    {
     "data": {
      "text/plain": [
       "('2017-08-23')"
      ]
     },
     "execution_count": 18,
     "metadata": {},
     "output_type": "execute_result"
    }
   ],
   "source": [
    "# Design a query to retrieve the last 12 months of precipitation data and plot the results\n",
    "\n",
    "latest_date = session.query(Measurement.date).order_by(Measurement.date.desc()).first()\n",
    "latest_date"
   ]
  },
  {
   "cell_type": "code",
   "execution_count": 19,
   "metadata": {
    "scrolled": true
   },
   "outputs": [
    {
     "data": {
      "text/html": [
       "<div>\n",
       "<style scoped>\n",
       "    .dataframe tbody tr th:only-of-type {\n",
       "        vertical-align: middle;\n",
       "    }\n",
       "\n",
       "    .dataframe tbody tr th {\n",
       "        vertical-align: top;\n",
       "    }\n",
       "\n",
       "    .dataframe thead th {\n",
       "        text-align: right;\n",
       "    }\n",
       "</style>\n",
       "<table border=\"1\" class=\"dataframe\">\n",
       "  <thead>\n",
       "    <tr style=\"text-align: right;\">\n",
       "      <th></th>\n",
       "      <th>precipitation</th>\n",
       "    </tr>\n",
       "    <tr>\n",
       "      <th>date</th>\n",
       "      <th></th>\n",
       "    </tr>\n",
       "  </thead>\n",
       "  <tbody>\n",
       "    <tr>\n",
       "      <th>2016-08-23</th>\n",
       "      <td>0.00</td>\n",
       "    </tr>\n",
       "    <tr>\n",
       "      <th>2016-08-23</th>\n",
       "      <td>NaN</td>\n",
       "    </tr>\n",
       "    <tr>\n",
       "      <th>2016-08-23</th>\n",
       "      <td>1.79</td>\n",
       "    </tr>\n",
       "    <tr>\n",
       "      <th>2016-08-23</th>\n",
       "      <td>0.05</td>\n",
       "    </tr>\n",
       "    <tr>\n",
       "      <th>2016-08-23</th>\n",
       "      <td>0.15</td>\n",
       "    </tr>\n",
       "  </tbody>\n",
       "</table>\n",
       "</div>"
      ],
      "text/plain": [
       "            precipitation\n",
       "date                     \n",
       "2016-08-23           0.00\n",
       "2016-08-23            NaN\n",
       "2016-08-23           1.79\n",
       "2016-08-23           0.05\n",
       "2016-08-23           0.15"
      ]
     },
     "execution_count": 19,
     "metadata": {},
     "output_type": "execute_result"
    }
   ],
   "source": [
    "# Calculate the date 1 year ago from the last data point in the database\n",
    "prev_year = dt.date(2017, 8, 23) - dt.timedelta(days=365)\n",
    "\n",
    "# Perform a query to retrieve the data and precipitation scores\n",
    "results = session.query(Measurement.date, Measurement.prcp).filter(Measurement.date >= prev_year).all()\n",
    "# results\n",
    "\n",
    "# Save the query results as a Pandas DataFrame and set the index to the date column\n",
    "results_df = pd.DataFrame(results, columns=['date', 'precipitation'])\n",
    "results_df.set_index('date', inplace=True)\n",
    "\n",
    "# Sort the dataframe by date\n",
    "results_df = results_df.sort_values(by='date', ascending=True)\n",
    "results_df.head()"
   ]
  },
  {
   "cell_type": "code",
   "execution_count": 20,
   "metadata": {},
   "outputs": [],
   "source": [
    "# Convert df to dictionary\n",
    "results_df_dict = results_df.reset_index().to_dict('records')"
   ]
  },
  {
   "cell_type": "code",
   "execution_count": 21,
   "metadata": {},
   "outputs": [
    {
     "data": {
      "text/plain": [
       "'[\\n    {\\n        \"date\": \"2016-08-23\",\\n        \"precipitation\": 0.0\\n    },\\n    {\\n        \"date\": \"2016-08-23\",\\n        \"precipitation\": NaN\\n    },\\n    {\\n        \"date\": \"2016-08-23\",\\n        \"precipitation\": 1.79\\n    },\\n    {\\n        \"date\": \"2016-08-23\",\\n        \"precipitation\": 0.05\\n    },\\n    {\\n        \"date\": \"2016-08-23\",\\n        \"precipitation\": 0.15\\n    },\\n    {\\n        \"date\": \"2016-08-23\",\\n        \"precipitation\": 0.7\\n    },\\n    {\\n        \"date\": \"2016-08-23\",\\n        \"precipitation\": 0.02\\n    },\\n    {\\n        \"date\": \"2016-08-24\",\\n        \"precipitation\": 0.08\\n    },\\n    {\\n        \"date\": \"2016-08-24\",\\n        \"precipitation\": 2.15\\n    },\\n    {\\n        \"date\": \"2016-08-24\",\\n        \"precipitation\": 2.28\\n    },\\n    {\\n        \"date\": \"2016-08-24\",\\n        \"precipitation\": NaN\\n    },\\n    {\\n        \"date\": \"2016-08-24\",\\n        \"precipitation\": 1.45\\n    },\\n    {\\n        \"date\": \"2016-08-24\",\\n        \"precipitation\": 1.22\\n    },\\n    {\\n        \"date\": \"2016-08-24\",\\n        \"precipitation\": 2.15\\n    },\\n    {\\n        \"date\": \"2016-08-25\",\\n        \"precipitation\": 0.08\\n    },\\n    {\\n        \"date\": \"2016-08-25\",\\n        \"precipitation\": 0.0\\n    },\\n    {\\n        \"date\": \"2016-08-25\",\\n        \"precipitation\": 0.21\\n    },\\n    {\\n        \"date\": \"2016-08-25\",\\n        \"precipitation\": 0.06\\n    },\\n    {\\n        \"date\": \"2016-08-25\",\\n        \"precipitation\": 0.0\\n    },\\n    {\\n        \"date\": \"2016-08-25\",\\n        \"precipitation\": 0.11\\n    },\\n    {\\n        \"date\": \"2016-08-25\",\\n        \"precipitation\": 0.08\\n    },\\n    {\\n        \"date\": \"2016-08-26\",\\n        \"precipitation\": 0.03\\n    },\\n    {\\n        \"date\": \"2016-08-26\",\\n        \"precipitation\": 0.01\\n    },\\n    {\\n        \"date\": \"2016-08-26\",\\n        \"precipitation\": 0.0\\n    },\\n    {\\n        \"date\": \"2016-08-26\",\\n        \"precipitation\": 0.04\\n    },\\n    {\\n        \"date\": \"2016-08-26\",\\n        \"precipitation\": 0.02\\n    },\\n    {\\n        \"date\": \"2016-08-26\",\\n        \"precipitation\": 0.0\\n    },\\n    {\\n        \"date\": \"2016-08-27\",\\n        \"precipitation\": 0.18\\n    },\\n    {\\n        \"date\": \"2016-08-27\",\\n        \"precipitation\": 0.12\\n    },\\n    {\\n        \"date\": \"2016-08-27\",\\n        \"precipitation\": 0.0\\n    },\\n    {\\n        \"date\": \"2016-08-27\",\\n        \"precipitation\": 0.0\\n    },\\n    {\\n        \"date\": \"2016-08-27\",\\n        \"precipitation\": 0.02\\n    },\\n    {\\n        \"date\": \"2016-08-27\",\\n        \"precipitation\": NaN\\n    },\\n    {\\n        \"date\": \"2016-08-28\",\\n        \"precipitation\": 0.6\\n    },\\n    {\\n        \"date\": \"2016-08-28\",\\n        \"precipitation\": 0.14\\n    },\\n    {\\n        \"date\": \"2016-08-28\",\\n        \"precipitation\": 0.01\\n    },\\n    {\\n        \"date\": \"2016-08-28\",\\n        \"precipitation\": 0.14\\n    },\\n    {\\n        \"date\": \"2016-08-28\",\\n        \"precipitation\": 0.14\\n    },\\n    {\\n        \"date\": \"2016-08-28\",\\n        \"precipitation\": 2.07\\n    },\\n    {\\n        \"date\": \"2016-08-29\",\\n        \"precipitation\": 0.0\\n    },\\n    {\\n        \"date\": \"2016-08-29\",\\n        \"precipitation\": NaN\\n    },\\n    {\\n        \"date\": \"2016-08-29\",\\n        \"precipitation\": 0.04\\n    },\\n    {\\n        \"date\": \"2016-08-29\",\\n        \"precipitation\": 0.0\\n    },\\n    {\\n        \"date\": \"2016-08-29\",\\n        \"precipitation\": 0.17\\n    },\\n    {\\n        \"date\": \"2016-08-29\",\\n        \"precipitation\": 0.9\\n    },\\n    {\\n        \"date\": \"2016-08-29\",\\n        \"precipitation\": 0.35\\n    },\\n    {\\n        \"date\": \"2016-08-30\",\\n        \"precipitation\": 0.0\\n    },\\n    {\\n        \"date\": \"2016-08-30\",\\n        \"precipitation\": 0.02\\n    },\\n    {\\n        \"date\": \"2016-08-30\",\\n        \"precipitation\": 0.0\\n    },\\n    {\\n        \"date\": \"2016-08-30\",\\n        \"precipitation\": 0.05\\n    },\\n    {\\n        \"date\": \"2016-08-30\",\\n        \"precipitation\": 0.0\\n    },\\n    {\\n        \"date\": \"2016-08-30\",\\n        \"precipitation\": 0.0\\n    },\\n    {\\n        \"date\": \"2016-08-31\",\\n        \"precipitation\": 0.1\\n    },\\n    {\\n        \"date\": \"2016-08-31\",\\n        \"precipitation\": NaN\\n    },\\n    {\\n        \"date\": \"2016-08-31\",\\n        \"precipitation\": 0.24\\n    },\\n    {\\n        \"date\": \"2016-08-31\",\\n        \"precipitation\": 0.13\\n    },\\n    {\\n        \"date\": \"2016-08-31\",\\n        \"precipitation\": NaN\\n    },\\n    {\\n        \"date\": \"2016-08-31\",\\n        \"precipitation\": 2.46\\n    },\\n    {\\n        \"date\": \"2016-08-31\",\\n        \"precipitation\": 0.25\\n    },\\n    {\\n        \"date\": \"2016-09-01\",\\n        \"precipitation\": 0.0\\n    },\\n    {\\n        \"date\": \"2016-09-01\",\\n        \"precipitation\": 0.02\\n    },\\n    {\\n        \"date\": \"2016-09-01\",\\n        \"precipitation\": 0.0\\n    },\\n    {\\n        \"date\": \"2016-09-01\",\\n        \"precipitation\": NaN\\n    },\\n    {\\n        \"date\": \"2016-09-01\",\\n        \"precipitation\": 0.01\\n    },\\n    {\\n        \"date\": \"2016-09-01\",\\n        \"precipitation\": 0.0\\n    },\\n    {\\n        \"date\": \"2016-09-02\",\\n        \"precipitation\": 0.0\\n    },\\n    {\\n        \"date\": \"2016-09-02\",\\n        \"precipitation\": 0.03\\n    },\\n    {\\n        \"date\": \"2016-09-02\",\\n        \"precipitation\": 0.02\\n    },\\n    {\\n        \"date\": \"2016-09-02\",\\n        \"precipitation\": NaN\\n    },\\n    {\\n        \"date\": \"2016-09-02\",\\n        \"precipitation\": NaN\\n    },\\n    {\\n        \"date\": \"2016-09-02\",\\n        \"precipitation\": 0.01\\n    },\\n    {\\n        \"date\": \"2016-09-02\",\\n        \"precipitation\": 0.19\\n    },\\n    {\\n        \"date\": \"2016-09-03\",\\n        \"precipitation\": 1.0\\n    },\\n    {\\n        \"date\": \"2016-09-03\",\\n        \"precipitation\": 0.08\\n    },\\n    {\\n        \"date\": \"2016-09-03\",\\n        \"precipitation\": 0.12\\n    },\\n    {\\n        \"date\": \"2016-09-03\",\\n        \"precipitation\": 0.0\\n    },\\n    {\\n        \"date\": \"2016-09-03\",\\n        \"precipitation\": 0.07\\n    },\\n    {\\n        \"date\": \"2016-09-04\",\\n        \"precipitation\": 0.03\\n    },\\n    {\\n        \"date\": \"2016-09-04\",\\n        \"precipitation\": 0.14\\n    },\\n    {\\n        \"date\": \"2016-09-04\",\\n        \"precipitation\": 0.74\\n    },\\n    {\\n        \"date\": \"2016-09-04\",\\n        \"precipitation\": 0.03\\n    },\\n    {\\n        \"date\": \"2016-09-04\",\\n        \"precipitation\": 0.44\\n    },\\n    {\\n        \"date\": \"2016-09-05\",\\n        \"precipitation\": 0.02\\n    },\\n    {\\n        \"date\": \"2016-09-05\",\\n        \"precipitation\": 0.03\\n    },\\n    {\\n        \"date\": \"2016-09-05\",\\n        \"precipitation\": 0.11\\n    },\\n    {\\n        \"date\": \"2016-09-05\",\\n        \"precipitation\": NaN\\n    },\\n    {\\n        \"date\": \"2016-09-05\",\\n        \"precipitation\": NaN\\n    },\\n    {\\n        \"date\": \"2016-09-05\",\\n        \"precipitation\": 0.18\\n    },\\n    {\\n        \"date\": \"2016-09-06\",\\n        \"precipitation\": NaN\\n    },\\n    {\\n        \"date\": \"2016-09-06\",\\n        \"precipitation\": 0.05\\n    },\\n    {\\n        \"date\": \"2016-09-06\",\\n        \"precipitation\": 0.03\\n    },\\n    {\\n        \"date\": \"2016-09-06\",\\n        \"precipitation\": 1.0\\n    },\\n    {\\n        \"date\": \"2016-09-06\",\\n        \"precipitation\": 0.11\\n    },\\n    {\\n        \"date\": \"2016-09-06\",\\n        \"precipitation\": 0.04\\n    },\\n    {\\n        \"date\": \"2016-09-07\",\\n        \"precipitation\": 0.16\\n    },\\n    {\\n        \"date\": \"2016-09-07\",\\n        \"precipitation\": 0.05\\n    },\\n    {\\n        \"date\": \"2016-09-07\",\\n        \"precipitation\": 0.11\\n    },\\n    {\\n        \"date\": \"2016-09-07\",\\n        \"precipitation\": 0.1\\n    },\\n    {\\n        \"date\": \"2016-09-07\",\\n        \"precipitation\": 1.35\\n    },\\n    {\\n        \"date\": \"2016-09-07\",\\n        \"precipitation\": 0.23\\n    },\\n    {\\n        \"date\": \"2016-09-08\",\\n        \"precipitation\": 0.07\\n    },\\n    {\\n        \"date\": \"2016-09-08\",\\n        \"precipitation\": 0.01\\n    },\\n    {\\n        \"date\": \"2016-09-08\",\\n        \"precipitation\": 0.15\\n    },\\n    {\\n        \"date\": \"2016-09-08\",\\n        \"precipitation\": 0.22\\n    },\\n    {\\n        \"date\": \"2016-09-08\",\\n        \"precipitation\": 0.01\\n    },\\n    {\\n        \"date\": \"2016-09-08\",\\n        \"precipitation\": NaN\\n    },\\n    {\\n        \"date\": \"2016-09-08\",\\n        \"precipitation\": 0.0\\n    },\\n    {\\n        \"date\": \"2016-09-09\",\\n        \"precipitation\": 0.23\\n    },\\n    {\\n        \"date\": \"2016-09-09\",\\n        \"precipitation\": 0.35\\n    },\\n    {\\n        \"date\": \"2016-09-09\",\\n        \"precipitation\": 0.29\\n    },\\n    {\\n        \"date\": \"2016-09-09\",\\n        \"precipitation\": NaN\\n    },\\n    {\\n        \"date\": \"2016-09-09\",\\n        \"precipitation\": 0.01\\n    },\\n    {\\n        \"date\": \"2016-09-09\",\\n        \"precipitation\": 0.03\\n    },\\n    {\\n        \"date\": \"2016-09-09\",\\n        \"precipitation\": 0.16\\n    },\\n    {\\n        \"date\": \"2016-09-10\",\\n        \"precipitation\": 0.0\\n    },\\n    {\\n        \"date\": \"2016-09-10\",\\n        \"precipitation\": 0.14\\n    },\\n    {\\n        \"date\": \"2016-09-10\",\\n        \"precipitation\": 1.16\\n    },\\n    {\\n        \"date\": \"2016-09-10\",\\n        \"precipitation\": 0.01\\n    },\\n    {\\n        \"date\": \"2016-09-10\",\\n        \"precipitation\": 0.09\\n    },\\n    {\\n        \"date\": \"2016-09-11\",\\n        \"precipitation\": 0.3\\n    },\\n    {\\n        \"date\": \"2016-09-11\",\\n        \"precipitation\": 0.12\\n    },\\n    {\\n        \"date\": \"2016-09-11\",\\n        \"precipitation\": 0.18\\n    },\\n    {\\n        \"date\": \"2016-09-11\",\\n        \"precipitation\": 0.05\\n    },\\n    {\\n        \"date\": \"2016-09-11\",\\n        \"precipitation\": 0.6\\n    },\\n    {\\n        \"date\": \"2016-09-12\",\\n        \"precipitation\": 1.04\\n    },\\n    {\\n        \"date\": \"2016-09-12\",\\n        \"precipitation\": NaN\\n    },\\n    {\\n        \"date\": \"2016-09-12\",\\n        \"precipitation\": 0.04\\n    },\\n    {\\n        \"date\": \"2016-09-12\",\\n        \"precipitation\": NaN\\n    },\\n    {\\n        \"date\": \"2016-09-12\",\\n        \"precipitation\": 0.31\\n    },\\n    {\\n        \"date\": \"2016-09-12\",\\n        \"precipitation\": 0.0\\n    },\\n    {\\n        \"date\": \"2016-09-12\",\\n        \"precipitation\": 0.15\\n    },\\n    {\\n        \"date\": \"2016-09-13\",\\n        \"precipitation\": NaN\\n    },\\n    {\\n        \"date\": \"2016-09-13\",\\n        \"precipitation\": 0.02\\n    },\\n    {\\n        \"date\": \"2016-09-13\",\\n        \"precipitation\": 1.2\\n    },\\n    {\\n        \"date\": \"2016-09-13\",\\n        \"precipitation\": 0.32\\n    },\\n    {\\n        \"date\": \"2016-09-13\",\\n        \"precipitation\": 0.46\\n    },\\n    {\\n        \"date\": \"2016-09-13\",\\n        \"precipitation\": 0.34\\n    },\\n    {\\n        \"date\": \"2016-09-13\",\\n        \"precipitation\": 0.37\\n    },\\n    {\\n        \"date\": \"2016-09-14\",\\n        \"precipitation\": 1.32\\n    },\\n    {\\n        \"date\": \"2016-09-14\",\\n        \"precipitation\": 0.9\\n    },\\n    {\\n        \"date\": \"2016-09-14\",\\n        \"precipitation\": 1.19\\n    },\\n    {\\n        \"date\": \"2016-09-14\",\\n        \"precipitation\": 1.84\\n    },\\n    {\\n        \"date\": \"2016-09-14\",\\n        \"precipitation\": 6.7\\n    },\\n    {\\n        \"date\": \"2016-09-14\",\\n        \"precipitation\": 2.33\\n    },\\n    {\\n        \"date\": \"2016-09-14\",\\n        \"precipitation\": NaN\\n    },\\n    {\\n        \"date\": \"2016-09-15\",\\n        \"precipitation\": 0.42\\n    },\\n    {\\n        \"date\": \"2016-09-15\",\\n        \"precipitation\": NaN\\n    },\\n    {\\n        \"date\": \"2016-09-15\",\\n        \"precipitation\": 0.17\\n    },\\n    {\\n        \"date\": \"2016-09-15\",\\n        \"precipitation\": 0.12\\n    },\\n    {\\n        \"date\": \"2016-09-15\",\\n        \"precipitation\": 0.07\\n    },\\n    {\\n        \"date\": \"2016-09-15\",\\n        \"precipitation\": 3.35\\n    },\\n    {\\n        \"date\": \"2016-09-15\",\\n        \"precipitation\": 0.83\\n    },\\n    {\\n        \"date\": \"2016-09-16\",\\n        \"precipitation\": 0.61\\n    },\\n    {\\n        \"date\": \"2016-09-16\",\\n        \"precipitation\": 0.0\\n    },\\n    {\\n        \"date\": \"2016-09-16\",\\n        \"precipitation\": 0.06\\n    },\\n    {\\n        \"date\": \"2016-09-16\",\\n        \"precipitation\": 0.07\\n    },\\n    {\\n        \"date\": \"2016-09-16\",\\n        \"precipitation\": 0.06\\n    },\\n    {\\n        \"date\": \"2016-09-16\",\\n        \"precipitation\": 0.01\\n    },\\n    {\\n        \"date\": \"2016-09-16\",\\n        \"precipitation\": 0.01\\n    },\\n    {\\n        \"date\": \"2016-09-17\",\\n        \"precipitation\": 0.0\\n    },\\n    {\\n        \"date\": \"2016-09-17\",\\n        \"precipitation\": 0.23\\n    },\\n    {\\n        \"date\": \"2016-09-17\",\\n        \"precipitation\": 0.04\\n    },\\n    {\\n        \"date\": \"2016-09-17\",\\n        \"precipitation\": 0.36\\n    },\\n    {\\n        \"date\": \"2016-09-17\",\\n        \"precipitation\": 0.05\\n    },\\n    {\\n        \"date\": \"2016-09-18\",\\n        \"precipitation\": 0.0\\n    },\\n    {\\n        \"date\": \"2016-09-18\",\\n        \"precipitation\": 0.07\\n    },\\n    {\\n        \"date\": \"2016-09-18\",\\n        \"precipitation\": 0.04\\n    },\\n    {\\n        \"date\": \"2016-09-18\",\\n        \"precipitation\": 0.42\\n    },\\n    {\\n        \"date\": \"2016-09-18\",\\n        \"precipitation\": 0.0\\n    },\\n    {\\n        \"date\": \"2016-09-19\",\\n        \"precipitation\": 0.25\\n    },\\n    {\\n        \"date\": \"2016-09-19\",\\n        \"precipitation\": 0.01\\n    },\\n    {\\n        \"date\": \"2016-09-19\",\\n        \"precipitation\": 0.05\\n    },\\n    {\\n        \"date\": \"2016-09-19\",\\n        \"precipitation\": 0.0\\n    },\\n    {\\n        \"date\": \"2016-09-19\",\\n        \"precipitation\": 0.01\\n    },\\n    {\\n        \"date\": \"2016-09-19\",\\n        \"precipitation\": NaN\\n    },\\n    {\\n        \"date\": \"2016-09-19\",\\n        \"precipitation\": NaN\\n    },\\n    {\\n        \"date\": \"2016-09-20\",\\n        \"precipitation\": 0.0\\n    },\\n    {\\n        \"date\": \"2016-09-20\",\\n        \"precipitation\": 0.09\\n    },\\n    {\\n        \"date\": \"2016-09-20\",\\n        \"precipitation\": 0.22\\n    },\\n    {\\n        \"date\": \"2016-09-20\",\\n        \"precipitation\": 0.0\\n    },\\n    {\\n        \"date\": \"2016-09-20\",\\n        \"precipitation\": 0.04\\n    },\\n    {\\n        \"date\": \"2016-09-20\",\\n        \"precipitation\": 0.25\\n    },\\n    {\\n        \"date\": \"2016-09-20\",\\n        \"precipitation\": 0.43\\n    },\\n    {\\n        \"date\": \"2016-09-21\",\\n        \"precipitation\": 0.06\\n    },\\n    {\\n        \"date\": \"2016-09-21\",\\n        \"precipitation\": 0.0\\n    },\\n    {\\n        \"date\": \"2016-09-21\",\\n        \"precipitation\": 0.07\\n    },\\n    {\\n        \"date\": \"2016-09-21\",\\n        \"precipitation\": 0.02\\n    },\\n    {\\n        \"date\": \"2016-09-21\",\\n        \"precipitation\": 1.02\\n    },\\n    {\\n        \"date\": \"2016-09-21\",\\n        \"precipitation\": 0.0\\n    },\\n    {\\n        \"date\": \"2016-09-22\",\\n        \"precipitation\": 0.75\\n    },\\n    {\\n        \"date\": \"2016-09-22\",\\n        \"precipitation\": 0.09\\n    },\\n    {\\n        \"date\": \"2016-09-22\",\\n        \"precipitation\": 0.06\\n    },\\n    {\\n        \"date\": \"2016-09-22\",\\n        \"precipitation\": 0.01\\n    },\\n    {\\n        \"date\": \"2016-09-22\",\\n        \"precipitation\": 0.17\\n    },\\n    {\\n        \"date\": \"2016-09-22\",\\n        \"precipitation\": 0.34\\n    },\\n    {\\n        \"date\": \"2016-09-22\",\\n        \"precipitation\": 0.02\\n    },\\n    {\\n        \"date\": \"2016-09-23\",\\n        \"precipitation\": 0.33\\n    },\\n    {\\n        \"date\": \"2016-09-23\",\\n        \"precipitation\": 0.0\\n    },\\n    {\\n        \"date\": \"2016-09-23\",\\n        \"precipitation\": 0.94\\n    },\\n    {\\n        \"date\": \"2016-09-23\",\\n        \"precipitation\": 0.15\\n    },\\n    {\\n        \"date\": \"2016-09-23\",\\n        \"precipitation\": 0.0\\n    },\\n    {\\n        \"date\": \"2016-09-23\",\\n        \"precipitation\": 0.15\\n    },\\n    {\\n        \"date\": \"2016-09-23\",\\n        \"precipitation\": 0.0\\n    },\\n    {\\n        \"date\": \"2016-09-24\",\\n        \"precipitation\": 0.0\\n    },\\n    {\\n        \"date\": \"2016-09-24\",\\n        \"precipitation\": 0.27\\n    },\\n    {\\n        \"date\": \"2016-09-24\",\\n        \"precipitation\": 0.0\\n    },\\n    {\\n        \"date\": \"2016-09-24\",\\n        \"precipitation\": 0.0\\n    },\\n    {\\n        \"date\": \"2016-09-24\",\\n        \"precipitation\": 0.0\\n    },\\n    {\\n        \"date\": \"2016-09-24\",\\n        \"precipitation\": 0.01\\n    },\\n    {\\n        \"date\": \"2016-09-25\",\\n        \"precipitation\": 0.0\\n    },\\n    {\\n        \"date\": \"2016-09-25\",\\n        \"precipitation\": 0.02\\n    },\\n    {\\n        \"date\": \"2016-09-25\",\\n        \"precipitation\": 0.03\\n    },\\n    {\\n        \"date\": \"2016-09-25\",\\n        \"precipitation\": 0.0\\n    },\\n    {\\n        \"date\": \"2016-09-25\",\\n        \"precipitation\": 0.0\\n    },\\n    {\\n        \"date\": \"2016-09-25\",\\n        \"precipitation\": 0.04\\n    },\\n    {\\n        \"date\": \"2016-09-26\",\\n        \"precipitation\": 0.02\\n    },\\n    {\\n        \"date\": \"2016-09-26\",\\n        \"precipitation\": 0.17\\n    },\\n    {\\n        \"date\": \"2016-09-26\",\\n        \"precipitation\": 1.02\\n    },\\n    {\\n        \"date\": \"2016-09-26\",\\n        \"precipitation\": 0.06\\n    },\\n    {\\n        \"date\": \"2016-09-26\",\\n        \"precipitation\": 0.34\\n    },\\n    {\\n        \"date\": \"2016-09-26\",\\n        \"precipitation\": 0.06\\n    },\\n    {\\n        \"date\": \"2016-09-26\",\\n        \"precipitation\": NaN\\n    },\\n    {\\n        \"date\": \"2016-09-27\",\\n        \"precipitation\": 0.12\\n    },\\n    {\\n        \"date\": \"2016-09-27\",\\n        \"precipitation\": 0.05\\n    },\\n    {\\n        \"date\": \"2016-09-27\",\\n        \"precipitation\": 0.0\\n    },\\n    {\\n        \"date\": \"2016-09-27\",\\n        \"precipitation\": 1.0\\n    },\\n    {\\n        \"date\": \"2016-09-27\",\\n        \"precipitation\": 0.17\\n    },\\n    {\\n        \"date\": \"2016-09-27\",\\n        \"precipitation\": 0.02\\n    },\\n    {\\n        \"date\": \"2016-09-28\",\\n        \"precipitation\": 0.0\\n    },\\n    {\\n        \"date\": \"2016-09-28\",\\n        \"precipitation\": 0.0\\n    },\\n    {\\n        \"date\": \"2016-09-28\",\\n        \"precipitation\": 0.0\\n    },\\n    {\\n        \"date\": \"2016-09-28\",\\n        \"precipitation\": 0.05\\n    },\\n    {\\n        \"date\": \"2016-09-28\",\\n        \"precipitation\": 0.08\\n    },\\n    {\\n        \"date\": \"2016-09-28\",\\n        \"precipitation\": 0.0\\n    },\\n    {\\n        \"date\": \"2016-09-28\",\\n        \"precipitation\": 0.0\\n    },\\n    {\\n        \"date\": \"2016-09-29\",\\n        \"precipitation\": 0.2\\n    },\\n    {\\n        \"date\": \"2016-09-29\",\\n        \"precipitation\": 0.0\\n    },\\n    {\\n        \"date\": \"2016-09-29\",\\n        \"precipitation\": 0.04\\n    },\\n    {\\n        \"date\": \"2016-09-29\",\\n        \"precipitation\": 0.59\\n    },\\n    {\\n        \"date\": \"2016-09-29\",\\n        \"precipitation\": 0.49\\n    },\\n    {\\n        \"date\": \"2016-09-29\",\\n        \"precipitation\": 1.49\\n    },\\n    {\\n        \"date\": \"2016-09-29\",\\n        \"precipitation\": 0.18\\n    },\\n    {\\n        \"date\": \"2016-09-30\",\\n        \"precipitation\": 0.25\\n    },\\n    {\\n        \"date\": \"2016-09-30\",\\n        \"precipitation\": 0.31\\n    },\\n    {\\n        \"date\": \"2016-09-30\",\\n        \"precipitation\": NaN\\n    },\\n    {\\n        \"date\": \"2016-09-30\",\\n        \"precipitation\": 0.38\\n    },\\n    {\\n        \"date\": \"2016-09-30\",\\n        \"precipitation\": 0.0\\n    },\\n    {\\n        \"date\": \"2016-09-30\",\\n        \"precipitation\": 0.06\\n    },\\n    {\\n        \"date\": \"2016-09-30\",\\n        \"precipitation\": 0.15\\n    },\\n    {\\n        \"date\": \"2016-10-01\",\\n        \"precipitation\": 0.0\\n    },\\n    {\\n        \"date\": \"2016-10-01\",\\n        \"precipitation\": 0.14\\n    },\\n    {\\n        \"date\": \"2016-10-01\",\\n        \"precipitation\": 0.08\\n    },\\n    {\\n        \"date\": \"2016-10-01\",\\n        \"precipitation\": 0.14\\n    },\\n    {\\n        \"date\": \"2016-10-01\",\\n        \"precipitation\": 0.07\\n    },\\n    {\\n        \"date\": \"2016-10-01\",\\n        \"precipitation\": 1.02\\n    },\\n    {\\n        \"date\": \"2016-10-02\",\\n        \"precipitation\": 0.61\\n    },\\n    {\\n        \"date\": \"2016-10-02\",\\n        \"precipitation\": 0.0\\n    },\\n    {\\n        \"date\": \"2016-10-02\",\\n        \"precipitation\": 0.02\\n    },\\n    {\\n        \"date\": \"2016-10-02\",\\n        \"precipitation\": 0.03\\n    },\\n    {\\n        \"date\": \"2016-10-02\",\\n        \"precipitation\": 0.06\\n    },\\n    {\\n        \"date\": \"2016-10-02\",\\n        \"precipitation\": 0.0\\n    },\\n    {\\n        \"date\": \"2016-10-03\",\\n        \"precipitation\": 0.03\\n    },\\n    {\\n        \"date\": \"2016-10-03\",\\n        \"precipitation\": 0.46\\n    },\\n    {\\n        \"date\": \"2016-10-03\",\\n        \"precipitation\": 0.0\\n    },\\n    {\\n        \"date\": \"2016-10-03\",\\n        \"precipitation\": NaN\\n    },\\n    {\\n        \"date\": \"2016-10-03\",\\n        \"precipitation\": 0.04\\n    },\\n    {\\n        \"date\": \"2016-10-03\",\\n        \"precipitation\": 0.16\\n    },\\n    {\\n        \"date\": \"2016-10-03\",\\n        \"precipitation\": 0.0\\n    },\\n    {\\n        \"date\": \"2016-10-04\",\\n        \"precipitation\": 3.46\\n    },\\n    {\\n        \"date\": \"2016-10-04\",\\n        \"precipitation\": 0.0\\n    },\\n    {\\n        \"date\": \"2016-10-04\",\\n        \"precipitation\": NaN\\n    },\\n    {\\n        \"date\": \"2016-10-04\",\\n        \"precipitation\": 0.03\\n    },\\n    {\\n        \"date\": \"2016-10-04\",\\n        \"precipitation\": 0.0\\n    },\\n    {\\n        \"date\": \"2016-10-04\",\\n        \"precipitation\": 0.0\\n    },\\n    {\\n        \"date\": \"2016-10-04\",\\n        \"precipitation\": 0.0\\n    },\\n    {\\n        \"date\": \"2016-10-05\",\\n        \"precipitation\": 0.81\\n    },\\n    {\\n        \"date\": \"2016-10-05\",\\n        \"precipitation\": 0.0\\n    },\\n    {\\n        \"date\": \"2016-10-05\",\\n        \"precipitation\": 0.01\\n    },\\n    {\\n        \"date\": \"2016-10-05\",\\n        \"precipitation\": 0.0\\n    },\\n    {\\n        \"date\": \"2016-10-05\",\\n        \"precipitation\": 0.0\\n    },\\n    {\\n        \"date\": \"2016-10-05\",\\n        \"precipitation\": NaN\\n    },\\n    {\\n        \"date\": \"2016-10-05\",\\n        \"precipitation\": 0.0\\n    },\\n    {\\n        \"date\": \"2016-10-06\",\\n        \"precipitation\": 0.0\\n    },\\n    {\\n        \"date\": \"2016-10-06\",\\n        \"precipitation\": 0.0\\n    },\\n    {\\n        \"date\": \"2016-10-06\",\\n        \"precipitation\": 0.04\\n    },\\n    {\\n        \"date\": \"2016-10-06\",\\n        \"precipitation\": 0.07\\n    },\\n    {\\n        \"date\": \"2016-10-06\",\\n        \"precipitation\": 0.0\\n    },\\n    {\\n        \"date\": \"2016-10-06\",\\n        \"precipitation\": 0.05\\n    },\\n    {\\n        \"date\": \"2016-10-06\",\\n        \"precipitation\": 0.0\\n    },\\n    {\\n        \"date\": \"2016-10-07\",\\n        \"precipitation\": 0.0\\n    },\\n    {\\n        \"date\": \"2016-10-07\",\\n        \"precipitation\": NaN\\n    },\\n    {\\n        \"date\": \"2016-10-07\",\\n        \"precipitation\": 0.0\\n    },\\n    {\\n        \"date\": \"2016-10-07\",\\n        \"precipitation\": 0.0\\n    },\\n    {\\n        \"date\": \"2016-10-07\",\\n        \"precipitation\": 0.01\\n    },\\n    {\\n        \"date\": \"2016-10-07\",\\n        \"precipitation\": 0.0\\n    },\\n    {\\n        \"date\": \"2016-10-07\",\\n        \"precipitation\": 0.0\\n    },\\n    {\\n        \"date\": \"2016-10-08\",\\n        \"precipitation\": 0.04\\n    },\\n    {\\n        \"date\": \"2016-10-08\",\\n        \"precipitation\": 0.0\\n    },\\n    {\\n        \"date\": \"2016-10-08\",\\n        \"precipitation\": 0.0\\n    },\\n    {\\n        \"date\": \"2016-10-08\",\\n        \"precipitation\": 0.0\\n    },\\n    {\\n        \"date\": \"2016-10-08\",\\n        \"precipitation\": 0.0\\n    },\\n    {\\n        \"date\": \"2016-10-09\",\\n        \"precipitation\": 0.0\\n    },\\n    {\\n        \"date\": \"2016-10-09\",\\n        \"precipitation\": 0.0\\n    },\\n    {\\n        \"date\": \"2016-10-09\",\\n        \"precipitation\": 0.0\\n    },\\n    {\\n        \"date\": \"2016-10-09\",\\n        \"precipitation\": 0.0\\n    },\\n    {\\n        \"date\": \"2016-10-09\",\\n        \"precipitation\": 0.0\\n    },\\n    {\\n        \"date\": \"2016-10-10\",\\n        \"precipitation\": 0.0\\n    },\\n    {\\n        \"date\": \"2016-10-10\",\\n        \"precipitation\": 0.0\\n    },\\n    {\\n        \"date\": \"2016-10-10\",\\n        \"precipitation\": 0.0\\n    },\\n    {\\n        \"date\": \"2016-10-10\",\\n        \"precipitation\": 0.0\\n    },\\n    {\\n        \"date\": \"2016-10-10\",\\n        \"precipitation\": 0.0\\n    },\\n    {\\n        \"date\": \"2016-10-10\",\\n        \"precipitation\": NaN\\n    },\\n    {\\n        \"date\": \"2016-10-11\",\\n        \"precipitation\": 0.0\\n    },\\n    {\\n        \"date\": \"2016-10-11\",\\n        \"precipitation\": 0.04\\n    },\\n    {\\n        \"date\": \"2016-10-11\",\\n        \"precipitation\": 0.28\\n    },\\n    {\\n        \"date\": \"2016-10-11\",\\n        \"precipitation\": 0.02\\n    },\\n    {\\n        \"date\": \"2016-10-11\",\\n        \"precipitation\": 0.0\\n    },\\n    {\\n        \"date\": \"2016-10-11\",\\n        \"precipitation\": 0.35\\n    },\\n    {\\n        \"date\": \"2016-10-11\",\\n        \"precipitation\": NaN\\n    },\\n    {\\n        \"date\": \"2016-10-12\",\\n        \"precipitation\": 0.03\\n    },\\n    {\\n        \"date\": \"2016-10-12\",\\n        \"precipitation\": 0.0\\n    },\\n    {\\n        \"date\": \"2016-10-12\",\\n        \"precipitation\": 0.02\\n    },\\n    {\\n        \"date\": \"2016-10-12\",\\n        \"precipitation\": 0.0\\n    },\\n    {\\n        \"date\": \"2016-10-12\",\\n        \"precipitation\": 0.03\\n    },\\n    {\\n        \"date\": \"2016-10-12\",\\n        \"precipitation\": 0.0\\n    },\\n    {\\n        \"date\": \"2016-10-13\",\\n        \"precipitation\": 0.0\\n    },\\n    {\\n        \"date\": \"2016-10-13\",\\n        \"precipitation\": 0.06\\n    },\\n    {\\n        \"date\": \"2016-10-13\",\\n        \"precipitation\": 0.0\\n    },\\n    {\\n        \"date\": \"2016-10-13\",\\n        \"precipitation\": NaN\\n    },\\n    {\\n        \"date\": \"2016-10-13\",\\n        \"precipitation\": 0.02\\n    },\\n    {\\n        \"date\": \"2016-10-13\",\\n        \"precipitation\": 0.0\\n    },\\n    {\\n        \"date\": \"2016-10-13\",\\n        \"precipitation\": 0.0\\n    },\\n    {\\n        \"date\": \"2016-10-14\",\\n        \"precipitation\": 0.0\\n    },\\n    {\\n        \"date\": \"2016-10-14\",\\n        \"precipitation\": 0.0\\n    },\\n    {\\n        \"date\": \"2016-10-14\",\\n        \"precipitation\": 0.0\\n    },\\n    {\\n        \"date\": \"2016-10-14\",\\n        \"precipitation\": 0.0\\n    },\\n    {\\n        \"date\": \"2016-10-14\",\\n        \"precipitation\": 0.0\\n    },\\n    {\\n        \"date\": \"2016-10-14\",\\n        \"precipitation\": 0.0\\n    },\\n    {\\n        \"date\": \"2016-10-15\",\\n        \"precipitation\": 0.0\\n    },\\n    {\\n        \"date\": \"2016-10-15\",\\n        \"precipitation\": 0.02\\n    },\\n    {\\n        \"date\": \"2016-10-15\",\\n        \"precipitation\": 0.0\\n    },\\n    {\\n        \"date\": \"2016-10-15\",\\n        \"precipitation\": 0.33\\n    },\\n    {\\n        \"date\": \"2016-10-15\",\\n        \"precipitation\": 0.04\\n    },\\n    {\\n        \"date\": \"2016-10-15\",\\n        \"precipitation\": 0.0\\n    },\\n    {\\n        \"date\": \"2016-10-16\",\\n        \"precipitation\": 0.0\\n    },\\n    {\\n        \"date\": \"2016-10-16\",\\n        \"precipitation\": 0.0\\n    },\\n    {\\n        \"date\": \"2016-10-16\",\\n        \"precipitation\": 0.0\\n    },\\n    {\\n        \"date\": \"2016-10-16\",\\n        \"precipitation\": 0.0\\n    },\\n    {\\n        \"date\": \"2016-10-16\",\\n        \"precipitation\": 0.0\\n    },\\n    {\\n        \"date\": \"2016-10-17\",\\n        \"precipitation\": NaN\\n    },\\n    {\\n        \"date\": \"2016-10-17\",\\n        \"precipitation\": 0.01\\n    },\\n    {\\n        \"date\": \"2016-10-17\",\\n        \"precipitation\": 0.01\\n    },\\n    {\\n        \"date\": \"2016-10-17\",\\n        \"precipitation\": NaN\\n    },\\n    {\\n        \"date\": \"2016-10-17\",\\n        \"precipitation\": 0.12\\n    },\\n    {\\n        \"date\": \"2016-10-17\",\\n        \"precipitation\": 0.03\\n    },\\n    {\\n        \"date\": \"2016-10-17\",\\n        \"precipitation\": 0.38\\n    },\\n    {\\n        \"date\": \"2016-10-18\",\\n        \"precipitation\": 0.02\\n    },\\n    {\\n        \"date\": \"2016-10-18\",\\n        \"precipitation\": 0.0\\n    },\\n    {\\n        \"date\": \"2016-10-18\",\\n        \"precipitation\": 0.05\\n    },\\n    {\\n        \"date\": \"2016-10-18\",\\n        \"precipitation\": 0.02\\n    },\\n    {\\n        \"date\": \"2016-10-18\",\\n        \"precipitation\": NaN\\n    },\\n    {\\n        \"date\": \"2016-10-18\",\\n        \"precipitation\": 0.03\\n    },\\n    {\\n        \"date\": \"2016-10-18\",\\n        \"precipitation\": 0.48\\n    },\\n    {\\n        \"date\": \"2016-10-19\",\\n        \"precipitation\": NaN\\n    },\\n    {\\n        \"date\": \"2016-10-19\",\\n        \"precipitation\": 0.0\\n    },\\n    {\\n        \"date\": \"2016-10-19\",\\n        \"precipitation\": 0.11\\n    },\\n    {\\n        \"date\": \"2016-10-19\",\\n        \"precipitation\": 0.0\\n    },\\n    {\\n        \"date\": \"2016-10-19\",\\n        \"precipitation\": 0.0\\n    },\\n    {\\n        \"date\": \"2016-10-19\",\\n        \"precipitation\": 0.0\\n    },\\n    {\\n        \"date\": \"2016-10-19\",\\n        \"precipitation\": 0.06\\n    },\\n    {\\n        \"date\": \"2016-10-20\",\\n        \"precipitation\": 0.0\\n    },\\n    {\\n        \"date\": \"2016-10-20\",\\n        \"precipitation\": 0.01\\n    },\\n    {\\n        \"date\": \"2016-10-20\",\\n        \"precipitation\": 0.0\\n    },\\n    {\\n        \"date\": \"2016-10-20\",\\n        \"precipitation\": NaN\\n    },\\n    {\\n        \"date\": \"2016-10-20\",\\n        \"precipitation\": 1.0\\n    },\\n    {\\n        \"date\": \"2016-10-20\",\\n        \"precipitation\": 0.0\\n    },\\n    {\\n        \"date\": \"2016-10-21\",\\n        \"precipitation\": NaN\\n    },\\n    {\\n        \"date\": \"2016-10-21\",\\n        \"precipitation\": 0.15\\n    },\\n    {\\n        \"date\": \"2016-10-21\",\\n        \"precipitation\": 0.09\\n    },\\n    {\\n        \"date\": \"2016-10-21\",\\n        \"precipitation\": NaN\\n    },\\n    {\\n        \"date\": \"2016-10-21\",\\n        \"precipitation\": 0.03\\n    },\\n    {\\n        \"date\": \"2016-10-21\",\\n        \"precipitation\": 0.05\\n    },\\n    {\\n        \"date\": \"2016-10-21\",\\n        \"precipitation\": 0.0\\n    },\\n    {\\n        \"date\": \"2016-10-22\",\\n        \"precipitation\": 1.37\\n    },\\n    {\\n        \"date\": \"2016-10-22\",\\n        \"precipitation\": 0.15\\n    },\\n    {\\n        \"date\": \"2016-10-22\",\\n        \"precipitation\": 0.15\\n    },\\n    {\\n        \"date\": \"2016-10-22\",\\n        \"precipitation\": 0.1\\n    },\\n    {\\n        \"date\": \"2016-10-22\",\\n        \"precipitation\": 0.0\\n    },\\n    {\\n        \"date\": \"2016-10-23\",\\n        \"precipitation\": 0.02\\n    },\\n    {\\n        \"date\": \"2016-10-23\",\\n        \"precipitation\": 0.0\\n    },\\n    {\\n        \"date\": \"2016-10-23\",\\n        \"precipitation\": 0.01\\n    },\\n    {\\n        \"date\": \"2016-10-23\",\\n        \"precipitation\": 0.01\\n    },\\n    {\\n        \"date\": \"2016-10-23\",\\n        \"precipitation\": NaN\\n    },\\n    {\\n        \"date\": \"2016-10-23\",\\n        \"precipitation\": 0.24\\n    },\\n    {\\n        \"date\": \"2016-10-24\",\\n        \"precipitation\": 0.01\\n    },\\n    {\\n        \"date\": \"2016-10-24\",\\n        \"precipitation\": 0.0\\n    },\\n    {\\n        \"date\": \"2016-10-24\",\\n        \"precipitation\": 0.08\\n    },\\n    {\\n        \"date\": \"2016-10-24\",\\n        \"precipitation\": 0.7\\n    },\\n    {\\n        \"date\": \"2016-10-24\",\\n        \"precipitation\": 0.0\\n    },\\n    {\\n        \"date\": \"2016-10-24\",\\n        \"precipitation\": 0.0\\n    },\\n    {\\n        \"date\": \"2016-10-24\",\\n        \"precipitation\": NaN\\n    },\\n    {\\n        \"date\": \"2016-10-25\",\\n        \"precipitation\": 0.4\\n    },\\n    {\\n        \"date\": \"2016-10-25\",\\n        \"precipitation\": 0.04\\n    },\\n    {\\n        \"date\": \"2016-10-25\",\\n        \"precipitation\": 0.0\\n    },\\n    {\\n        \"date\": \"2016-10-25\",\\n        \"precipitation\": 0.11\\n    },\\n    {\\n        \"date\": \"2016-10-25\",\\n        \"precipitation\": 0.03\\n    },\\n    {\\n        \"date\": \"2016-10-25\",\\n        \"precipitation\": 0.4\\n    },\\n    {\\n        \"date\": \"2016-10-25\",\\n        \"precipitation\": 0.12\\n    },\\n    {\\n        \"date\": \"2016-10-26\",\\n        \"precipitation\": 0.0\\n    },\\n    {\\n        \"date\": \"2016-10-26\",\\n        \"precipitation\": 0.06\\n    },\\n    {\\n        \"date\": \"2016-10-26\",\\n        \"precipitation\": 0.01\\n    },\\n    {\\n        \"date\": \"2016-10-26\",\\n        \"precipitation\": 0.0\\n    },\\n    {\\n        \"date\": \"2016-10-26\",\\n        \"precipitation\": 0.2\\n    },\\n    {\\n        \"date\": \"2016-10-26\",\\n        \"precipitation\": 0.02\\n    },\\n    {\\n        \"date\": \"2016-10-27\",\\n        \"precipitation\": NaN\\n    },\\n    {\\n        \"date\": \"2016-10-27\",\\n        \"precipitation\": 0.0\\n    },\\n    {\\n        \"date\": \"2016-10-27\",\\n        \"precipitation\": 0.11\\n    },\\n    {\\n        \"date\": \"2016-10-27\",\\n        \"precipitation\": 0.08\\n    },\\n    {\\n        \"date\": \"2016-10-27\",\\n        \"precipitation\": 1.25\\n    },\\n    {\\n        \"date\": \"2016-10-27\",\\n        \"precipitation\": 0.22\\n    },\\n    {\\n        \"date\": \"2016-10-27\",\\n        \"precipitation\": 0.2\\n    },\\n    {\\n        \"date\": \"2016-10-28\",\\n        \"precipitation\": 0.05\\n    },\\n    {\\n        \"date\": \"2016-10-28\",\\n        \"precipitation\": 0.07\\n    },\\n    {\\n        \"date\": \"2016-10-28\",\\n        \"precipitation\": 0.06\\n    },\\n    {\\n        \"date\": \"2016-10-28\",\\n        \"precipitation\": NaN\\n    },\\n    {\\n        \"date\": \"2016-10-28\",\\n        \"precipitation\": 0.0\\n    },\\n    {\\n        \"date\": \"2016-10-28\",\\n        \"precipitation\": 0.02\\n    },\\n    {\\n        \"date\": \"2016-10-28\",\\n        \"precipitation\": 0.37\\n    },\\n    {\\n        \"date\": \"2016-10-29\",\\n        \"precipitation\": 0.02\\n    },\\n    {\\n        \"date\": \"2016-10-29\",\\n        \"precipitation\": 0.26\\n    },\\n    {\\n        \"date\": \"2016-10-29\",\\n        \"precipitation\": 0.25\\n    },\\n    {\\n        \"date\": \"2016-10-29\",\\n        \"precipitation\": 0.0\\n    },\\n    {\\n        \"date\": \"2016-10-29\",\\n        \"precipitation\": 0.01\\n    },\\n    {\\n        \"date\": \"2016-10-29\",\\n        \"precipitation\": 0.1\\n    },\\n    {\\n        \"date\": \"2016-10-30\",\\n        \"precipitation\": 0.1\\n    },\\n    {\\n        \"date\": \"2016-10-30\",\\n        \"precipitation\": 0.14\\n    },\\n    {\\n        \"date\": \"2016-10-30\",\\n        \"precipitation\": 0.24\\n    },\\n    {\\n        \"date\": \"2016-10-30\",\\n        \"precipitation\": 0.95\\n    },\\n    {\\n        \"date\": \"2016-10-30\",\\n        \"precipitation\": 0.16\\n    },\\n    {\\n        \"date\": \"2016-10-30\",\\n        \"precipitation\": 0.0\\n    },\\n    {\\n        \"date\": \"2016-10-31\",\\n        \"precipitation\": 0.0\\n    },\\n    {\\n        \"date\": \"2016-10-31\",\\n        \"precipitation\": 0.13\\n    },\\n    {\\n        \"date\": \"2016-10-31\",\\n        \"precipitation\": 1.35\\n    },\\n    {\\n        \"date\": \"2016-10-31\",\\n        \"precipitation\": NaN\\n    },\\n    {\\n        \"date\": \"2016-10-31\",\\n        \"precipitation\": 0.07\\n    },\\n    {\\n        \"date\": \"2016-10-31\",\\n        \"precipitation\": 0.03\\n    },\\n    {\\n        \"date\": \"2016-10-31\",\\n        \"precipitation\": 0.03\\n    },\\n    {\\n        \"date\": \"2016-11-01\",\\n        \"precipitation\": 0.01\\n    },\\n    {\\n        \"date\": \"2016-11-01\",\\n        \"precipitation\": 0.1\\n    },\\n    {\\n        \"date\": \"2016-11-01\",\\n        \"precipitation\": 0.0\\n    },\\n    {\\n        \"date\": \"2016-11-01\",\\n        \"precipitation\": 0.01\\n    },\\n    {\\n        \"date\": \"2016-11-01\",\\n        \"precipitation\": 0.0\\n    },\\n    {\\n        \"date\": \"2016-11-01\",\\n        \"precipitation\": 0.09\\n    },\\n    {\\n        \"date\": \"2016-11-02\",\\n        \"precipitation\": 0.04\\n    },\\n    {\\n        \"date\": \"2016-11-02\",\\n        \"precipitation\": 0.0\\n    },\\n    {\\n        \"date\": \"2016-11-02\",\\n        \"precipitation\": 0.0\\n    },\\n    {\\n        \"date\": \"2016-11-02\",\\n        \"precipitation\": 0.0\\n    },\\n    {\\n        \"date\": \"2016-11-02\",\\n        \"precipitation\": 0.0\\n    },\\n    {\\n        \"date\": \"2016-11-02\",\\n        \"precipitation\": 0.0\\n    },\\n    {\\n        \"date\": \"2016-11-03\",\\n        \"precipitation\": 0.0\\n    },\\n    {\\n        \"date\": \"2016-11-03\",\\n        \"precipitation\": 0.0\\n    },\\n    {\\n        \"date\": \"2016-11-03\",\\n        \"precipitation\": 0.0\\n    },\\n    {\\n        \"date\": \"2016-11-03\",\\n        \"precipitation\": 0.0\\n    },\\n    {\\n        \"date\": \"2016-11-03\",\\n        \"precipitation\": 0.0\\n    },\\n    {\\n        \"date\": \"2016-11-03\",\\n        \"precipitation\": 0.02\\n    },\\n    {\\n        \"date\": \"2016-11-04\",\\n        \"precipitation\": 0.0\\n    },\\n    {\\n        \"date\": \"2016-11-04\",\\n        \"precipitation\": 0.0\\n    },\\n    {\\n        \"date\": \"2016-11-04\",\\n        \"precipitation\": 0.0\\n    },\\n    {\\n        \"date\": \"2016-11-04\",\\n        \"precipitation\": 0.0\\n    },\\n    {\\n        \"date\": \"2016-11-04\",\\n        \"precipitation\": 0.06\\n    },\\n    {\\n        \"date\": \"2016-11-04\",\\n        \"precipitation\": NaN\\n    },\\n    {\\n        \"date\": \"2016-11-04\",\\n        \"precipitation\": 0.0\\n    },\\n    {\\n        \"date\": \"2016-11-05\",\\n        \"precipitation\": 0.0\\n    },\\n    {\\n        \"date\": \"2016-11-05\",\\n        \"precipitation\": 0.02\\n    },\\n    {\\n        \"date\": \"2016-11-05\",\\n        \"precipitation\": 0.03\\n    },\\n    {\\n        \"date\": \"2016-11-05\",\\n        \"precipitation\": 0.38\\n    },\\n    {\\n        \"date\": \"2016-11-05\",\\n        \"precipitation\": 0.02\\n    },\\n    {\\n        \"date\": \"2016-11-05\",\\n        \"precipitation\": 0.0\\n    },\\n    {\\n        \"date\": \"2016-11-06\",\\n        \"precipitation\": 0.0\\n    },\\n    {\\n        \"date\": \"2016-11-06\",\\n        \"precipitation\": 0.0\\n    },\\n    {\\n        \"date\": \"2016-11-06\",\\n        \"precipitation\": 0.05\\n    },\\n    {\\n        \"date\": \"2016-11-06\",\\n        \"precipitation\": 0.02\\n    },\\n    {\\n        \"date\": \"2016-11-06\",\\n        \"precipitation\": 0.01\\n    },\\n    {\\n        \"date\": \"2016-11-06\",\\n        \"precipitation\": 0.0\\n    },\\n    {\\n        \"date\": \"2016-11-07\",\\n        \"precipitation\": 0.13\\n    },\\n    {\\n        \"date\": \"2016-11-07\",\\n        \"precipitation\": 0.0\\n    },\\n    {\\n        \"date\": \"2016-11-07\",\\n        \"precipitation\": NaN\\n    },\\n    {\\n        \"date\": \"2016-11-07\",\\n        \"precipitation\": 0.05\\n    },\\n    {\\n        \"date\": \"2016-11-07\",\\n        \"precipitation\": 0.0\\n    },\\n    {\\n        \"date\": \"2016-11-07\",\\n        \"precipitation\": 0.0\\n    },\\n    {\\n        \"date\": \"2016-11-07\",\\n        \"precipitation\": 0.0\\n    },\\n    {\\n        \"date\": \"2016-11-08\",\\n        \"precipitation\": 0.21\\n    },\\n    {\\n        \"date\": \"2016-11-08\",\\n        \"precipitation\": 0.53\\n    },\\n    {\\n        \"date\": \"2016-11-08\",\\n        \"precipitation\": 0.15\\n    },\\n    {\\n        \"date\": \"2016-11-08\",\\n        \"precipitation\": 0.07\\n    },\\n    {\\n        \"date\": \"2016-11-08\",\\n        \"precipitation\": 0.02\\n    },\\n    {\\n        \"date\": \"2016-11-08\",\\n        \"precipitation\": 0.14\\n    },\\n    {\\n        \"date\": \"2016-11-09\",\\n        \"precipitation\": 0.11\\n    },\\n    {\\n        \"date\": \"2016-11-09\",\\n        \"precipitation\": 0.17\\n    },\\n    {\\n        \"date\": \"2016-11-09\",\\n        \"precipitation\": 0.0\\n    },\\n    {\\n        \"date\": \"2016-11-09\",\\n        \"precipitation\": 0.0\\n    },\\n    {\\n        \"date\": \"2016-11-09\",\\n        \"precipitation\": 0.08\\n    },\\n    {\\n        \"date\": \"2016-11-09\",\\n        \"precipitation\": 0.04\\n    },\\n    {\\n        \"date\": \"2016-11-09\",\\n        \"precipitation\": 0.0\\n    },\\n    {\\n        \"date\": \"2016-11-10\",\\n        \"precipitation\": 0.0\\n    },\\n    {\\n        \"date\": \"2016-11-10\",\\n        \"precipitation\": 0.0\\n    },\\n    {\\n        \"date\": \"2016-11-10\",\\n        \"precipitation\": 0.0\\n    },\\n    {\\n        \"date\": \"2016-11-10\",\\n        \"precipitation\": 0.0\\n    },\\n    {\\n        \"date\": \"2016-11-10\",\\n        \"precipitation\": 0.0\\n    },\\n    {\\n        \"date\": \"2016-11-10\",\\n        \"precipitation\": 0.01\\n    },\\n    {\\n        \"date\": \"2016-11-11\",\\n        \"precipitation\": 0.0\\n    },\\n    {\\n        \"date\": \"2016-11-11\",\\n        \"precipitation\": 0.0\\n    },\\n    {\\n        \"date\": \"2016-11-11\",\\n        \"precipitation\": 0.0\\n    },\\n    {\\n        \"date\": \"2016-11-11\",\\n        \"precipitation\": 0.0\\n    },\\n    {\\n        \"date\": \"2016-11-11\",\\n        \"precipitation\": 0.0\\n    },\\n    {\\n        \"date\": \"2016-11-11\",\\n        \"precipitation\": 0.0\\n    },\\n    {\\n        \"date\": \"2016-11-12\",\\n        \"precipitation\": 0.0\\n    },\\n    {\\n        \"date\": \"2016-11-12\",\\n        \"precipitation\": 0.0\\n    },\\n    {\\n        \"date\": \"2016-11-12\",\\n        \"precipitation\": 0.0\\n    },\\n    {\\n        \"date\": \"2016-11-12\",\\n        \"precipitation\": 0.0\\n    },\\n    {\\n        \"date\": \"2016-11-12\",\\n        \"precipitation\": 0.0\\n    },\\n    {\\n        \"date\": \"2016-11-12\",\\n        \"precipitation\": 0.0\\n    },\\n    {\\n        \"date\": \"2016-11-13\",\\n        \"precipitation\": 0.0\\n    },\\n    {\\n        \"date\": \"2016-11-13\",\\n        \"precipitation\": 0.0\\n    },\\n    {\\n        \"date\": \"2016-11-13\",\\n        \"precipitation\": 0.0\\n    },\\n    {\\n        \"date\": \"2016-11-13\",\\n        \"precipitation\": 0.0\\n    },\\n    {\\n        \"date\": \"2016-11-13\",\\n        \"precipitation\": 0.0\\n    },\\n    {\\n        \"date\": \"2016-11-13\",\\n        \"precipitation\": 0.0\\n    },\\n    {\\n        \"date\": \"2016-11-14\",\\n        \"precipitation\": 0.0\\n    },\\n    {\\n        \"date\": \"2016-11-14\",\\n        \"precipitation\": 0.0\\n    },\\n    {\\n        \"date\": \"2016-11-14\",\\n        \"precipitation\": 0.02\\n    },\\n    {\\n        \"date\": \"2016-11-14\",\\n        \"precipitation\": 0.0\\n    },\\n    {\\n        \"date\": \"2016-11-14\",\\n        \"precipitation\": 0.02\\n    },\\n    {\\n        \"date\": \"2016-11-14\",\\n        \"precipitation\": 0.06\\n    },\\n    {\\n        \"date\": \"2016-11-14\",\\n        \"precipitation\": 0.05\\n    },\\n    {\\n        \"date\": \"2016-11-15\",\\n        \"precipitation\": 0.0\\n    },\\n    {\\n        \"date\": \"2016-11-15\",\\n        \"precipitation\": 0.0\\n    },\\n    {\\n        \"date\": \"2016-11-15\",\\n        \"precipitation\": 0.05\\n    },\\n    {\\n        \"date\": \"2016-11-15\",\\n        \"precipitation\": NaN\\n    },\\n    {\\n        \"date\": \"2016-11-15\",\\n        \"precipitation\": 0.0\\n    },\\n    {\\n        \"date\": \"2016-11-15\",\\n        \"precipitation\": 0.0\\n    },\\n    {\\n        \"date\": \"2016-11-15\",\\n        \"precipitation\": 0.0\\n    },\\n    {\\n        \"date\": \"2016-11-16\",\\n        \"precipitation\": 0.14\\n    },\\n    {\\n        \"date\": \"2016-11-16\",\\n        \"precipitation\": 0.18\\n    },\\n    {\\n        \"date\": \"2016-11-16\",\\n        \"precipitation\": 0.24\\n    },\\n    {\\n        \"date\": \"2016-11-16\",\\n        \"precipitation\": NaN\\n    },\\n    {\\n        \"date\": \"2016-11-16\",\\n        \"precipitation\": 0.91\\n    },\\n    {\\n        \"date\": \"2016-11-16\",\\n        \"precipitation\": 0.0\\n    },\\n    {\\n        \"date\": \"2016-11-16\",\\n        \"precipitation\": 0.07\\n    },\\n    {\\n        \"date\": \"2016-11-17\",\\n        \"precipitation\": 0.0\\n    },\\n    {\\n        \"date\": \"2016-11-17\",\\n        \"precipitation\": 0.0\\n    },\\n    {\\n        \"date\": \"2016-11-17\",\\n        \"precipitation\": NaN\\n    },\\n    {\\n        \"date\": \"2016-11-17\",\\n        \"precipitation\": 0.02\\n    },\\n    {\\n        \"date\": \"2016-11-17\",\\n        \"precipitation\": 0.03\\n    },\\n    {\\n        \"date\": \"2016-11-17\",\\n        \"precipitation\": 0.0\\n    },\\n    {\\n        \"date\": \"2016-11-17\",\\n        \"precipitation\": 0.01\\n    },\\n    {\\n        \"date\": \"2016-11-18\",\\n        \"precipitation\": NaN\\n    },\\n    {\\n        \"date\": \"2016-11-18\",\\n        \"precipitation\": 0.01\\n    },\\n    {\\n        \"date\": \"2016-11-18\",\\n        \"precipitation\": 0.0\\n    },\\n    {\\n        \"date\": \"2016-11-18\",\\n        \"precipitation\": 0.02\\n    },\\n    {\\n        \"date\": \"2016-11-18\",\\n        \"precipitation\": 0.0\\n    },\\n    {\\n        \"date\": \"2016-11-19\",\\n        \"precipitation\": 0.13\\n    },\\n    {\\n        \"date\": \"2016-11-19\",\\n        \"precipitation\": 0.03\\n    },\\n    {\\n        \"date\": \"2016-11-19\",\\n        \"precipitation\": 0.11\\n    },\\n    {\\n        \"date\": \"2016-11-19\",\\n        \"precipitation\": 0.11\\n    },\\n    {\\n        \"date\": \"2016-11-20\",\\n        \"precipitation\": 0.05\\n    },\\n    {\\n        \"date\": \"2016-11-20\",\\n        \"precipitation\": NaN\\n    },\\n    {\\n        \"date\": \"2016-11-20\",\\n        \"precipitation\": 0.11\\n    },\\n    {\\n        \"date\": \"2016-11-20\",\\n        \"precipitation\": 0.4\\n    },\\n    {\\n        \"date\": \"2016-11-20\",\\n        \"precipitation\": 0.39\\n    },\\n    {\\n        \"date\": \"2016-11-21\",\\n        \"precipitation\": 0.07\\n    },\\n    {\\n        \"date\": \"2016-11-21\",\\n        \"precipitation\": NaN\\n    },\\n    {\\n        \"date\": \"2016-11-21\",\\n        \"precipitation\": 0.11\\n    },\\n    {\\n        \"date\": \"2016-11-21\",\\n        \"precipitation\": 0.01\\n    },\\n    {\\n        \"date\": \"2016-11-21\",\\n        \"precipitation\": 0.02\\n    },\\n    {\\n        \"date\": \"2016-11-21\",\\n        \"precipitation\": 2.87\\n    },\\n    {\\n        \"date\": \"2016-11-22\",\\n        \"precipitation\": NaN\\n    },\\n    {\\n        \"date\": \"2016-11-22\",\\n        \"precipitation\": 0.41\\n    },\\n    {\\n        \"date\": \"2016-11-22\",\\n        \"precipitation\": 2.11\\n    },\\n    {\\n        \"date\": \"2016-11-22\",\\n        \"precipitation\": 2.05\\n    },\\n    {\\n        \"date\": \"2016-11-22\",\\n        \"precipitation\": 0.31\\n    },\\n    {\\n        \"date\": \"2016-11-22\",\\n        \"precipitation\": NaN\\n    },\\n    {\\n        \"date\": \"2016-11-22\",\\n        \"precipitation\": 0.13\\n    },\\n    {\\n        \"date\": \"2016-11-23\",\\n        \"precipitation\": 0.14\\n    },\\n    {\\n        \"date\": \"2016-11-23\",\\n        \"precipitation\": 0.25\\n    },\\n    {\\n        \"date\": \"2016-11-23\",\\n        \"precipitation\": 0.03\\n    },\\n    {\\n        \"date\": \"2016-11-23\",\\n        \"precipitation\": NaN\\n    },\\n    {\\n        \"date\": \"2016-11-23\",\\n        \"precipitation\": 0.03\\n    },\\n    {\\n        \"date\": \"2016-11-23\",\\n        \"precipitation\": 0.22\\n    },\\n    {\\n        \"date\": \"2016-11-24\",\\n        \"precipitation\": 0.2\\n    },\\n    {\\n        \"date\": \"2016-11-24\",\\n        \"precipitation\": 0.72\\n    },\\n    {\\n        \"date\": \"2016-11-24\",\\n        \"precipitation\": 0.3\\n    },\\n    {\\n        \"date\": \"2016-11-24\",\\n        \"precipitation\": 0.05\\n    },\\n    {\\n        \"date\": \"2016-11-24\",\\n        \"precipitation\": 0.21\\n    },\\n    {\\n        \"date\": \"2016-11-25\",\\n        \"precipitation\": 1.03\\n    },\\n    {\\n        \"date\": \"2016-11-25\",\\n        \"precipitation\": 0.11\\n    },\\n    {\\n        \"date\": \"2016-11-25\",\\n        \"precipitation\": NaN\\n    },\\n    {\\n        \"date\": \"2016-11-25\",\\n        \"precipitation\": 0.05\\n    },\\n    {\\n        \"date\": \"2016-11-25\",\\n        \"precipitation\": 0.08\\n    },\\n    {\\n        \"date\": \"2016-11-25\",\\n        \"precipitation\": 0.05\\n    },\\n    {\\n        \"date\": \"2016-11-26\",\\n        \"precipitation\": 0.06\\n    },\\n    {\\n        \"date\": \"2016-11-26\",\\n        \"precipitation\": 0.3\\n    },\\n    {\\n        \"date\": \"2016-11-26\",\\n        \"precipitation\": 0.05\\n    },\\n    {\\n        \"date\": \"2016-11-26\",\\n        \"precipitation\": 0.03\\n    },\\n    {\\n        \"date\": \"2016-11-26\",\\n        \"precipitation\": 0.02\\n    },\\n    {\\n        \"date\": \"2016-11-26\",\\n        \"precipitation\": 0.05\\n    },\\n    {\\n        \"date\": \"2016-11-27\",\\n        \"precipitation\": 0.17\\n    },\\n    {\\n        \"date\": \"2016-11-27\",\\n        \"precipitation\": 0.06\\n    },\\n    {\\n        \"date\": \"2016-11-27\",\\n        \"precipitation\": 0.0\\n    },\\n    {\\n        \"date\": \"2016-11-27\",\\n        \"precipitation\": 0.03\\n    },\\n    {\\n        \"date\": \"2016-11-27\",\\n        \"precipitation\": 0.29\\n    },\\n    {\\n        \"date\": \"2016-11-27\",\\n        \"precipitation\": 0.0\\n    },\\n    {\\n        \"date\": \"2016-11-28\",\\n        \"precipitation\": 0.01\\n    },\\n    {\\n        \"date\": \"2016-11-28\",\\n        \"precipitation\": 0.0\\n    },\\n    {\\n        \"date\": \"2016-11-28\",\\n        \"precipitation\": 0.02\\n    },\\n    {\\n        \"date\": \"2016-11-28\",\\n        \"precipitation\": 0.0\\n    },\\n    {\\n        \"date\": \"2016-11-28\",\\n        \"precipitation\": NaN\\n    },\\n    {\\n        \"date\": \"2016-11-28\",\\n        \"precipitation\": 0.69\\n    },\\n    {\\n        \"date\": \"2016-11-28\",\\n        \"precipitation\": 0.0\\n    },\\n    {\\n        \"date\": \"2016-11-29\",\\n        \"precipitation\": 0.06\\n    },\\n    {\\n        \"date\": \"2016-11-29\",\\n        \"precipitation\": 0.04\\n    },\\n    {\\n        \"date\": \"2016-11-29\",\\n        \"precipitation\": 0.09\\n    },\\n    {\\n        \"date\": \"2016-11-29\",\\n        \"precipitation\": 0.04\\n    },\\n    {\\n        \"date\": \"2016-11-29\",\\n        \"precipitation\": 0.2\\n    },\\n    {\\n        \"date\": \"2016-11-29\",\\n        \"precipitation\": 0.0\\n    },\\n    {\\n        \"date\": \"2016-11-29\",\\n        \"precipitation\": NaN\\n    },\\n    {\\n        \"date\": \"2016-11-30\",\\n        \"precipitation\": 0.14\\n    },\\n    {\\n        \"date\": \"2016-11-30\",\\n        \"precipitation\": 0.05\\n    },\\n    {\\n        \"date\": \"2016-11-30\",\\n        \"precipitation\": 0.0\\n    },\\n    {\\n        \"date\": \"2016-11-30\",\\n        \"precipitation\": 0.03\\n    },\\n    {\\n        \"date\": \"2016-11-30\",\\n        \"precipitation\": 0.05\\n    },\\n    {\\n        \"date\": \"2016-11-30\",\\n        \"precipitation\": 0.79\\n    },\\n    {\\n        \"date\": \"2016-11-30\",\\n        \"precipitation\": NaN\\n    },\\n    {\\n        \"date\": \"2016-12-01\",\\n        \"precipitation\": 0.16\\n    },\\n    {\\n        \"date\": \"2016-12-01\",\\n        \"precipitation\": 0.07\\n    },\\n    {\\n        \"date\": \"2016-12-01\",\\n        \"precipitation\": NaN\\n    },\\n    {\\n        \"date\": \"2016-12-01\",\\n        \"precipitation\": 0.12\\n    },\\n    {\\n        \"date\": \"2016-12-01\",\\n        \"precipitation\": 0.37\\n    },\\n    {\\n        \"date\": \"2016-12-01\",\\n        \"precipitation\": 0.72\\n    },\\n    {\\n        \"date\": \"2016-12-01\",\\n        \"precipitation\": 0.33\\n    },\\n    {\\n        \"date\": \"2016-12-02\",\\n        \"precipitation\": NaN\\n    },\\n    {\\n        \"date\": \"2016-12-02\",\\n        \"precipitation\": 0.01\\n    },\\n    {\\n        \"date\": \"2016-12-02\",\\n        \"precipitation\": 1.27\\n    },\\n    {\\n        \"date\": \"2016-12-02\",\\n        \"precipitation\": 0.03\\n    },\\n    {\\n        \"date\": \"2016-12-02\",\\n        \"precipitation\": 0.4\\n    },\\n    {\\n        \"date\": \"2016-12-02\",\\n        \"precipitation\": 0.3\\n    },\\n    {\\n        \"date\": \"2016-12-02\",\\n        \"precipitation\": 0.35\\n    },\\n    {\\n        \"date\": \"2016-12-03\",\\n        \"precipitation\": 0.02\\n    },\\n    {\\n        \"date\": \"2016-12-03\",\\n        \"precipitation\": 0.26\\n    },\\n    {\\n        \"date\": \"2016-12-03\",\\n        \"precipitation\": 0.04\\n    },\\n    {\\n        \"date\": \"2016-12-03\",\\n        \"precipitation\": 0.77\\n    },\\n    {\\n        \"date\": \"2016-12-03\",\\n        \"precipitation\": 0.0\\n    },\\n    {\\n        \"date\": \"2016-12-03\",\\n        \"precipitation\": 1.62\\n    },\\n    {\\n        \"date\": \"2016-12-04\",\\n        \"precipitation\": 0.04\\n    },\\n    {\\n        \"date\": \"2016-12-04\",\\n        \"precipitation\": 0.1\\n    },\\n    {\\n        \"date\": \"2016-12-04\",\\n        \"precipitation\": 0.03\\n    },\\n    {\\n        \"date\": \"2016-12-04\",\\n        \"precipitation\": 0.32\\n    },\\n    {\\n        \"date\": \"2016-12-04\",\\n        \"precipitation\": 0.0\\n    },\\n    {\\n        \"date\": \"2016-12-04\",\\n        \"precipitation\": 0.31\\n    },\\n    {\\n        \"date\": \"2016-12-05\",\\n        \"precipitation\": 1.6\\n    },\\n    {\\n        \"date\": \"2016-12-05\",\\n        \"precipitation\": NaN\\n    },\\n    {\\n        \"date\": \"2016-12-05\",\\n        \"precipitation\": 0.2\\n    },\\n    {\\n        \"date\": \"2016-12-05\",\\n        \"precipitation\": 0.34\\n    },\\n    {\\n        \"date\": \"2016-12-05\",\\n        \"precipitation\": 0.45\\n    },\\n    {\\n        \"date\": \"2016-12-05\",\\n        \"precipitation\": 0.22\\n    },\\n    {\\n        \"date\": \"2016-12-05\",\\n        \"precipitation\": 0.43\\n    },\\n    {\\n        \"date\": \"2016-12-06\",\\n        \"precipitation\": 0.02\\n    },\\n    {\\n        \"date\": \"2016-12-06\",\\n        \"precipitation\": 0.0\\n    },\\n    {\\n        \"date\": \"2016-12-06\",\\n        \"precipitation\": 0.0\\n    },\\n    {\\n        \"date\": \"2016-12-06\",\\n        \"precipitation\": 0.02\\n    },\\n    {\\n        \"date\": \"2016-12-06\",\\n        \"precipitation\": NaN\\n    },\\n    {\\n        \"date\": \"2016-12-06\",\\n        \"precipitation\": 0.0\\n    },\\n    {\\n        \"date\": \"2016-12-07\",\\n        \"precipitation\": NaN\\n    },\\n    {\\n        \"date\": \"2016-12-07\",\\n        \"precipitation\": 0.0\\n    },\\n    {\\n        \"date\": \"2016-12-07\",\\n        \"precipitation\": 0.07\\n    },\\n    {\\n        \"date\": \"2016-12-07\",\\n        \"precipitation\": 0.02\\n    },\\n    {\\n        \"date\": \"2016-12-07\",\\n        \"precipitation\": 0.12\\n    },\\n    {\\n        \"date\": \"2016-12-07\",\\n        \"precipitation\": 0.17\\n    },\\n    {\\n        \"date\": \"2016-12-07\",\\n        \"precipitation\": NaN\\n    },\\n    {\\n        \"date\": \"2016-12-08\",\\n        \"precipitation\": 0.01\\n    },\\n    {\\n        \"date\": \"2016-12-08\",\\n        \"precipitation\": 0.07\\n    },\\n    {\\n        \"date\": \"2016-12-08\",\\n        \"precipitation\": 0.03\\n    },\\n    {\\n        \"date\": \"2016-12-08\",\\n        \"precipitation\": 0.03\\n    },\\n    {\\n        \"date\": \"2016-12-08\",\\n        \"precipitation\": 0.02\\n    },\\n    {\\n        \"date\": \"2016-12-08\",\\n        \"precipitation\": 0.27\\n    },\\n    {\\n        \"date\": \"2016-12-08\",\\n        \"precipitation\": 0.03\\n    },\\n    {\\n        \"date\": \"2016-12-09\",\\n        \"precipitation\": 0.26\\n    },\\n    {\\n        \"date\": \"2016-12-09\",\\n        \"precipitation\": 0.34\\n    },\\n    {\\n        \"date\": \"2016-12-09\",\\n        \"precipitation\": 0.52\\n    },\\n    {\\n        \"date\": \"2016-12-09\",\\n        \"precipitation\": 0.31\\n    },\\n    {\\n        \"date\": \"2016-12-09\",\\n        \"precipitation\": 0.42\\n    },\\n    {\\n        \"date\": \"2016-12-09\",\\n        \"precipitation\": NaN\\n    },\\n    {\\n        \"date\": \"2016-12-10\",\\n        \"precipitation\": 0.0\\n    },\\n    {\\n        \"date\": \"2016-12-10\",\\n        \"precipitation\": 0.02\\n    },\\n    {\\n        \"date\": \"2016-12-10\",\\n        \"precipitation\": 0.05\\n    },\\n    {\\n        \"date\": \"2016-12-10\",\\n        \"precipitation\": NaN\\n    },\\n    {\\n        \"date\": \"2016-12-10\",\\n        \"precipitation\": 0.02\\n    },\\n    {\\n        \"date\": \"2016-12-10\",\\n        \"precipitation\": 0.04\\n    },\\n    {\\n        \"date\": \"2016-12-11\",\\n        \"precipitation\": 0.0\\n    },\\n    {\\n        \"date\": \"2016-12-11\",\\n        \"precipitation\": 0.02\\n    },\\n    {\\n        \"date\": \"2016-12-11\",\\n        \"precipitation\": 0.13\\n    },\\n    {\\n        \"date\": \"2016-12-11\",\\n        \"precipitation\": 0.06\\n    },\\n    {\\n        \"date\": \"2016-12-11\",\\n        \"precipitation\": 0.04\\n    },\\n    {\\n        \"date\": \"2016-12-12\",\\n        \"precipitation\": 0.01\\n    },\\n    {\\n        \"date\": \"2016-12-12\",\\n        \"precipitation\": 0.01\\n    },\\n    {\\n        \"date\": \"2016-12-12\",\\n        \"precipitation\": 0.0\\n    },\\n    {\\n        \"date\": \"2016-12-12\",\\n        \"precipitation\": NaN\\n    },\\n    {\\n        \"date\": \"2016-12-12\",\\n        \"precipitation\": 0.02\\n    },\\n    {\\n        \"date\": \"2016-12-12\",\\n        \"precipitation\": 0.0\\n    },\\n    {\\n        \"date\": \"2016-12-12\",\\n        \"precipitation\": 0.01\\n    },\\n    {\\n        \"date\": \"2016-12-13\",\\n        \"precipitation\": 0.1\\n    },\\n    {\\n        \"date\": \"2016-12-13\",\\n        \"precipitation\": 0.15\\n    },\\n    {\\n        \"date\": \"2016-12-13\",\\n        \"precipitation\": 0.04\\n    },\\n    {\\n        \"date\": \"2016-12-13\",\\n        \"precipitation\": 0.09\\n    },\\n    {\\n        \"date\": \"2016-12-13\",\\n        \"precipitation\": 0.05\\n    },\\n    {\\n        \"date\": \"2016-12-13\",\\n        \"precipitation\": 0.34\\n    },\\n    {\\n        \"date\": \"2016-12-13\",\\n        \"precipitation\": NaN\\n    },\\n    {\\n        \"date\": \"2016-12-14\",\\n        \"precipitation\": 0.33\\n    },\\n    {\\n        \"date\": \"2016-12-14\",\\n        \"precipitation\": 0.05\\n    },\\n    {\\n        \"date\": \"2016-12-14\",\\n        \"precipitation\": 0.05\\n    },\\n    {\\n        \"date\": \"2016-12-14\",\\n        \"precipitation\": 0.92\\n    },\\n    {\\n        \"date\": \"2016-12-14\",\\n        \"precipitation\": NaN\\n    },\\n    {\\n        \"date\": \"2016-12-14\",\\n        \"precipitation\": 0.03\\n    },\\n    {\\n        \"date\": \"2016-12-14\",\\n        \"precipitation\": 0.12\\n    },\\n    {\\n        \"date\": \"2016-12-15\",\\n        \"precipitation\": 0.0\\n    },\\n    {\\n        \"date\": \"2016-12-15\",\\n        \"precipitation\": 0.02\\n    },\\n    {\\n        \"date\": \"2016-12-15\",\\n        \"precipitation\": 0.14\\n    },\\n    {\\n        \"date\": \"2016-12-15\",\\n        \"precipitation\": 0.03\\n    },\\n    {\\n        \"date\": \"2016-12-15\",\\n        \"precipitation\": 0.07\\n    },\\n    {\\n        \"date\": \"2016-12-15\",\\n        \"precipitation\": NaN\\n    },\\n    {\\n        \"date\": \"2016-12-15\",\\n        \"precipitation\": 0.0\\n    },\\n    {\\n        \"date\": \"2016-12-16\",\\n        \"precipitation\": 0.0\\n    },\\n    {\\n        \"date\": \"2016-12-16\",\\n        \"precipitation\": 0.0\\n    },\\n    {\\n        \"date\": \"2016-12-16\",\\n        \"precipitation\": 0.03\\n    },\\n    {\\n        \"date\": \"2016-12-16\",\\n        \"precipitation\": 0.0\\n    },\\n    {\\n        \"date\": \"2016-12-16\",\\n        \"precipitation\": 0.01\\n    },\\n    {\\n        \"date\": \"2016-12-16\",\\n        \"precipitation\": NaN\\n    },\\n    {\\n        \"date\": \"2016-12-16\",\\n        \"precipitation\": 0.0\\n    },\\n    {\\n        \"date\": \"2016-12-17\",\\n        \"precipitation\": 0.01\\n    },\\n    {\\n        \"date\": \"2016-12-17\",\\n        \"precipitation\": 0.0\\n    },\\n    {\\n        \"date\": \"2016-12-17\",\\n        \"precipitation\": 0.16\\n    },\\n    {\\n        \"date\": \"2016-12-17\",\\n        \"precipitation\": 0.07\\n    },\\n    {\\n        \"date\": \"2016-12-17\",\\n        \"precipitation\": 0.11\\n    },\\n    {\\n        \"date\": \"2016-12-18\",\\n        \"precipitation\": 0.27\\n    },\\n    {\\n        \"date\": \"2016-12-18\",\\n        \"precipitation\": 0.04\\n    },\\n    {\\n        \"date\": \"2016-12-18\",\\n        \"precipitation\": 0.29\\n    },\\n    {\\n        \"date\": \"2016-12-18\",\\n        \"precipitation\": 0.16\\n    },\\n    {\\n        \"date\": \"2016-12-18\",\\n        \"precipitation\": 0.13\\n    },\\n    {\\n        \"date\": \"2016-12-18\",\\n        \"precipitation\": NaN\\n    },\\n    {\\n        \"date\": \"2016-12-19\",\\n        \"precipitation\": NaN\\n    },\\n    {\\n        \"date\": \"2016-12-19\",\\n        \"precipitation\": 0.02\\n    },\\n    {\\n        \"date\": \"2016-12-19\",\\n        \"precipitation\": 0.21\\n    },\\n    {\\n        \"date\": \"2016-12-19\",\\n        \"precipitation\": 0.03\\n    },\\n    {\\n        \"date\": \"2016-12-19\",\\n        \"precipitation\": 0.01\\n    },\\n    {\\n        \"date\": \"2016-12-19\",\\n        \"precipitation\": 0.15\\n    },\\n    {\\n        \"date\": \"2016-12-19\",\\n        \"precipitation\": 0.0\\n    },\\n    {\\n        \"date\": \"2016-12-20\",\\n        \"precipitation\": 0.0\\n    },\\n    {\\n        \"date\": \"2016-12-20\",\\n        \"precipitation\": 0.02\\n    },\\n    {\\n        \"date\": \"2016-12-20\",\\n        \"precipitation\": NaN\\n    },\\n    {\\n        \"date\": \"2016-12-20\",\\n        \"precipitation\": 0.01\\n    },\\n    {\\n        \"date\": \"2016-12-20\",\\n        \"precipitation\": 0.0\\n    },\\n    {\\n        \"date\": \"2016-12-20\",\\n        \"precipitation\": 0.0\\n    },\\n    {\\n        \"date\": \"2016-12-20\",\\n        \"precipitation\": 0.0\\n    },\\n    {\\n        \"date\": \"2016-12-21\",\\n        \"precipitation\": 0.09\\n    },\\n    {\\n        \"date\": \"2016-12-21\",\\n        \"precipitation\": 0.03\\n    },\\n    {\\n        \"date\": \"2016-12-21\",\\n        \"precipitation\": 0.0\\n    },\\n    {\\n        \"date\": \"2016-12-21\",\\n        \"precipitation\": 0.11\\n    },\\n    {\\n        \"date\": \"2016-12-21\",\\n        \"precipitation\": 0.06\\n    },\\n    {\\n        \"date\": \"2016-12-21\",\\n        \"precipitation\": 0.06\\n    },\\n    {\\n        \"date\": \"2016-12-21\",\\n        \"precipitation\": 0.55\\n    },\\n    {\\n        \"date\": \"2016-12-22\",\\n        \"precipitation\": 0.86\\n    },\\n    {\\n        \"date\": \"2016-12-22\",\\n        \"precipitation\": 0.14\\n    },\\n    {\\n        \"date\": \"2016-12-22\",\\n        \"precipitation\": 0.01\\n    },\\n    {\\n        \"date\": \"2016-12-22\",\\n        \"precipitation\": 1.24\\n    },\\n    {\\n        \"date\": \"2016-12-22\",\\n        \"precipitation\": NaN\\n    },\\n    {\\n        \"date\": \"2016-12-22\",\\n        \"precipitation\": 0.05\\n    },\\n    {\\n        \"date\": \"2016-12-22\",\\n        \"precipitation\": 0.17\\n    },\\n    {\\n        \"date\": \"2016-12-23\",\\n        \"precipitation\": 0.03\\n    },\\n    {\\n        \"date\": \"2016-12-23\",\\n        \"precipitation\": 0.1\\n    },\\n    {\\n        \"date\": \"2016-12-23\",\\n        \"precipitation\": 0.24\\n    },\\n    {\\n        \"date\": \"2016-12-23\",\\n        \"precipitation\": NaN\\n    },\\n    {\\n        \"date\": \"2016-12-23\",\\n        \"precipitation\": 0.02\\n    },\\n    {\\n        \"date\": \"2016-12-23\",\\n        \"precipitation\": 0.83\\n    },\\n    {\\n        \"date\": \"2016-12-23\",\\n        \"precipitation\": 0.01\\n    },\\n    {\\n        \"date\": \"2016-12-24\",\\n        \"precipitation\": 0.13\\n    },\\n    {\\n        \"date\": \"2016-12-24\",\\n        \"precipitation\": 1.08\\n    },\\n    {\\n        \"date\": \"2016-12-24\",\\n        \"precipitation\": 0.2\\n    },\\n    {\\n        \"date\": \"2016-12-24\",\\n        \"precipitation\": 0.01\\n    },\\n    {\\n        \"date\": \"2016-12-24\",\\n        \"precipitation\": 0.14\\n    },\\n    {\\n        \"date\": \"2016-12-24\",\\n        \"precipitation\": 0.06\\n    },\\n    {\\n        \"date\": \"2016-12-25\",\\n        \"precipitation\": 0.02\\n    },\\n    {\\n        \"date\": \"2016-12-25\",\\n        \"precipitation\": 0.0\\n    },\\n    {\\n        \"date\": \"2016-12-25\",\\n        \"precipitation\": 0.38\\n    },\\n    {\\n        \"date\": \"2016-12-25\",\\n        \"precipitation\": 0.03\\n    },\\n    {\\n        \"date\": \"2016-12-25\",\\n        \"precipitation\": 0.0\\n    },\\n    {\\n        \"date\": \"2016-12-26\",\\n        \"precipitation\": 0.02\\n    },\\n    {\\n        \"date\": \"2016-12-26\",\\n        \"precipitation\": 0.06\\n    },\\n    {\\n        \"date\": \"2016-12-26\",\\n        \"precipitation\": NaN\\n    },\\n    {\\n        \"date\": \"2016-12-26\",\\n        \"precipitation\": 0.22\\n    },\\n    {\\n        \"date\": \"2016-12-26\",\\n        \"precipitation\": 1.48\\n    },\\n    {\\n        \"date\": \"2016-12-26\",\\n        \"precipitation\": 0.26\\n    },\\n    {\\n        \"date\": \"2016-12-27\",\\n        \"precipitation\": 0.0\\n    },\\n    {\\n        \"date\": \"2016-12-27\",\\n        \"precipitation\": 0.05\\n    },\\n    {\\n        \"date\": \"2016-12-27\",\\n        \"precipitation\": 0.0\\n    },\\n    {\\n        \"date\": \"2016-12-27\",\\n        \"precipitation\": 0.02\\n    },\\n    {\\n        \"date\": \"2016-12-27\",\\n        \"precipitation\": 0.03\\n    },\\n    {\\n        \"date\": \"2016-12-27\",\\n        \"precipitation\": 0.14\\n    },\\n    {\\n        \"date\": \"2016-12-28\",\\n        \"precipitation\": 0.09\\n    },\\n    {\\n        \"date\": \"2016-12-28\",\\n        \"precipitation\": 0.09\\n    },\\n    {\\n        \"date\": \"2016-12-28\",\\n        \"precipitation\": NaN\\n    },\\n    {\\n        \"date\": \"2016-12-28\",\\n        \"precipitation\": 0.01\\n    },\\n    {\\n        \"date\": \"2016-12-28\",\\n        \"precipitation\": 0.06\\n    },\\n    {\\n        \"date\": \"2016-12-28\",\\n        \"precipitation\": 0.14\\n    },\\n    {\\n        \"date\": \"2016-12-28\",\\n        \"precipitation\": 0.02\\n    },\\n    {\\n        \"date\": \"2016-12-29\",\\n        \"precipitation\": 1.03\\n    },\\n    {\\n        \"date\": \"2016-12-29\",\\n        \"precipitation\": 0.18\\n    },\\n    {\\n        \"date\": \"2016-12-29\",\\n        \"precipitation\": 0.04\\n    },\\n    {\\n        \"date\": \"2016-12-29\",\\n        \"precipitation\": 0.05\\n    },\\n    {\\n        \"date\": \"2016-12-29\",\\n        \"precipitation\": NaN\\n    },\\n    {\\n        \"date\": \"2016-12-29\",\\n        \"precipitation\": 0.56\\n    },\\n    {\\n        \"date\": \"2016-12-29\",\\n        \"precipitation\": 0.52\\n    },\\n    {\\n        \"date\": \"2016-12-30\",\\n        \"precipitation\": 0.21\\n    },\\n    {\\n        \"date\": \"2016-12-30\",\\n        \"precipitation\": 0.29\\n    },\\n    {\\n        \"date\": \"2016-12-30\",\\n        \"precipitation\": 2.37\\n    },\\n    {\\n        \"date\": \"2016-12-30\",\\n        \"precipitation\": NaN\\n    },\\n    {\\n        \"date\": \"2016-12-30\",\\n        \"precipitation\": 0.12\\n    },\\n    {\\n        \"date\": \"2016-12-30\",\\n        \"precipitation\": 0.29\\n    },\\n    {\\n        \"date\": \"2016-12-30\",\\n        \"precipitation\": 0.07\\n    },\\n    {\\n        \"date\": \"2016-12-31\",\\n        \"precipitation\": 0.62\\n    },\\n    {\\n        \"date\": \"2016-12-31\",\\n        \"precipitation\": 0.25\\n    },\\n    {\\n        \"date\": \"2016-12-31\",\\n        \"precipitation\": 0.9\\n    },\\n    {\\n        \"date\": \"2016-12-31\",\\n        \"precipitation\": 0.36\\n    },\\n    {\\n        \"date\": \"2016-12-31\",\\n        \"precipitation\": 0.01\\n    },\\n    {\\n        \"date\": \"2017-01-01\",\\n        \"precipitation\": 0.03\\n    },\\n    {\\n        \"date\": \"2017-01-01\",\\n        \"precipitation\": 0.03\\n    },\\n    {\\n        \"date\": \"2017-01-01\",\\n        \"precipitation\": 0.0\\n    },\\n    {\\n        \"date\": \"2017-01-01\",\\n        \"precipitation\": 0.29\\n    },\\n    {\\n        \"date\": \"2017-01-01\",\\n        \"precipitation\": 0.0\\n    },\\n    {\\n        \"date\": \"2017-01-01\",\\n        \"precipitation\": NaN\\n    },\\n    {\\n        \"date\": \"2017-01-02\",\\n        \"precipitation\": 0.0\\n    },\\n    {\\n        \"date\": \"2017-01-02\",\\n        \"precipitation\": 0.01\\n    },\\n    {\\n        \"date\": \"2017-01-02\",\\n        \"precipitation\": 0.0\\n    },\\n    {\\n        \"date\": \"2017-01-02\",\\n        \"precipitation\": 0.0\\n    },\\n    {\\n        \"date\": \"2017-01-02\",\\n        \"precipitation\": 0.01\\n    },\\n    {\\n        \"date\": \"2017-01-03\",\\n        \"precipitation\": 0.0\\n    },\\n    {\\n        \"date\": \"2017-01-03\",\\n        \"precipitation\": 0.0\\n    },\\n    {\\n        \"date\": \"2017-01-03\",\\n        \"precipitation\": 0.0\\n    },\\n    {\\n        \"date\": \"2017-01-03\",\\n        \"precipitation\": NaN\\n    },\\n    {\\n        \"date\": \"2017-01-03\",\\n        \"precipitation\": 0.0\\n    },\\n    {\\n        \"date\": \"2017-01-03\",\\n        \"precipitation\": 0.0\\n    },\\n    {\\n        \"date\": \"2017-01-04\",\\n        \"precipitation\": 0.0\\n    },\\n    {\\n        \"date\": \"2017-01-04\",\\n        \"precipitation\": 0.18\\n    },\\n    {\\n        \"date\": \"2017-01-04\",\\n        \"precipitation\": 0.0\\n    },\\n    {\\n        \"date\": \"2017-01-04\",\\n        \"precipitation\": 0.0\\n    },\\n    {\\n        \"date\": \"2017-01-04\",\\n        \"precipitation\": 0.0\\n    },\\n    {\\n        \"date\": \"2017-01-04\",\\n        \"precipitation\": 0.0\\n    },\\n    {\\n        \"date\": \"2017-01-05\",\\n        \"precipitation\": 0.47\\n    },\\n    {\\n        \"date\": \"2017-01-05\",\\n        \"precipitation\": 0.0\\n    },\\n    {\\n        \"date\": \"2017-01-05\",\\n        \"precipitation\": 0.0\\n    },\\n    {\\n        \"date\": \"2017-01-05\",\\n        \"precipitation\": 0.42\\n    },\\n    {\\n        \"date\": \"2017-01-05\",\\n        \"precipitation\": 0.0\\n    },\\n    {\\n        \"date\": \"2017-01-05\",\\n        \"precipitation\": 0.06\\n    },\\n    {\\n        \"date\": \"2017-01-06\",\\n        \"precipitation\": 0.1\\n    },\\n    {\\n        \"date\": \"2017-01-06\",\\n        \"precipitation\": 0.0\\n    },\\n    {\\n        \"date\": \"2017-01-06\",\\n        \"precipitation\": 0.01\\n    },\\n    {\\n        \"date\": \"2017-01-06\",\\n        \"precipitation\": 0.0\\n    },\\n    {\\n        \"date\": \"2017-01-06\",\\n        \"precipitation\": 0.59\\n    },\\n    {\\n        \"date\": \"2017-01-06\",\\n        \"precipitation\": 0.1\\n    },\\n    {\\n        \"date\": \"2017-01-07\",\\n        \"precipitation\": 0.0\\n    },\\n    {\\n        \"date\": \"2017-01-07\",\\n        \"precipitation\": 0.06\\n    },\\n    {\\n        \"date\": \"2017-01-07\",\\n        \"precipitation\": 0.0\\n    },\\n    {\\n        \"date\": \"2017-01-07\",\\n        \"precipitation\": 0.0\\n    },\\n    {\\n        \"date\": \"2017-01-07\",\\n        \"precipitation\": 0.0\\n    },\\n    {\\n        \"date\": \"2017-01-07\",\\n        \"precipitation\": 0.0\\n    },\\n    {\\n        \"date\": \"2017-01-08\",\\n        \"precipitation\": 0.0\\n    },\\n    {\\n        \"date\": \"2017-01-08\",\\n        \"precipitation\": 0.03\\n    },\\n    {\\n        \"date\": \"2017-01-08\",\\n        \"precipitation\": 0.0\\n    },\\n    {\\n        \"date\": \"2017-01-08\",\\n        \"precipitation\": 0.0\\n    },\\n    {\\n        \"date\": \"2017-01-08\",\\n        \"precipitation\": 0.03\\n    },\\n    {\\n        \"date\": \"2017-01-08\",\\n        \"precipitation\": 0.0\\n    },\\n    {\\n        \"date\": \"2017-01-09\",\\n        \"precipitation\": 0.0\\n    },\\n    {\\n        \"date\": \"2017-01-09\",\\n        \"precipitation\": 0.0\\n    },\\n    {\\n        \"date\": \"2017-01-09\",\\n        \"precipitation\": 0.0\\n    },\\n    {\\n        \"date\": \"2017-01-09\",\\n        \"precipitation\": 0.0\\n    },\\n    {\\n        \"date\": \"2017-01-09\",\\n        \"precipitation\": 0.0\\n    },\\n    {\\n        \"date\": \"2017-01-09\",\\n        \"precipitation\": NaN\\n    },\\n    {\\n        \"date\": \"2017-01-09\",\\n        \"precipitation\": 0.0\\n    },\\n    {\\n        \"date\": \"2017-01-10\",\\n        \"precipitation\": 0.0\\n    },\\n    {\\n        \"date\": \"2017-01-10\",\\n        \"precipitation\": 0.0\\n    },\\n    {\\n        \"date\": \"2017-01-10\",\\n        \"precipitation\": 0.0\\n    },\\n    {\\n        \"date\": \"2017-01-10\",\\n        \"precipitation\": 0.0\\n    },\\n    {\\n        \"date\": \"2017-01-10\",\\n        \"precipitation\": 0.0\\n    },\\n    {\\n        \"date\": \"2017-01-10\",\\n        \"precipitation\": 0.0\\n    },\\n    {\\n        \"date\": \"2017-01-10\",\\n        \"precipitation\": NaN\\n    },\\n    {\\n        \"date\": \"2017-01-11\",\\n        \"precipitation\": 0.0\\n    },\\n    {\\n        \"date\": \"2017-01-11\",\\n        \"precipitation\": 0.0\\n    },\\n    {\\n        \"date\": \"2017-01-11\",\\n        \"precipitation\": 0.0\\n    },\\n    {\\n        \"date\": \"2017-01-11\",\\n        \"precipitation\": 0.0\\n    },\\n    {\\n        \"date\": \"2017-01-11\",\\n        \"precipitation\": 0.0\\n    },\\n    {\\n        \"date\": \"2017-01-11\",\\n        \"precipitation\": NaN\\n    },\\n    {\\n        \"date\": \"2017-01-12\",\\n        \"precipitation\": 0.0\\n    },\\n    {\\n        \"date\": \"2017-01-12\",\\n        \"precipitation\": NaN\\n    },\\n    {\\n        \"date\": \"2017-01-12\",\\n        \"precipitation\": 0.0\\n    },\\n    {\\n        \"date\": \"2017-01-12\",\\n        \"precipitation\": 0.0\\n    },\\n    {\\n        \"date\": \"2017-01-12\",\\n        \"precipitation\": NaN\\n    },\\n    {\\n        \"date\": \"2017-01-12\",\\n        \"precipitation\": 0.0\\n    },\\n    {\\n        \"date\": \"2017-01-13\",\\n        \"precipitation\": NaN\\n    },\\n    {\\n        \"date\": \"2017-01-13\",\\n        \"precipitation\": 0.0\\n    },\\n    {\\n        \"date\": \"2017-01-13\",\\n        \"precipitation\": 0.0\\n    },\\n    {\\n        \"date\": \"2017-01-13\",\\n        \"precipitation\": 0.0\\n    },\\n    {\\n        \"date\": \"2017-01-13\",\\n        \"precipitation\": NaN\\n    },\\n    {\\n        \"date\": \"2017-01-13\",\\n        \"precipitation\": 0.0\\n    },\\n    {\\n        \"date\": \"2017-01-14\",\\n        \"precipitation\": 0.01\\n    },\\n    {\\n        \"date\": \"2017-01-14\",\\n        \"precipitation\": 0.0\\n    },\\n    {\\n        \"date\": \"2017-01-14\",\\n        \"precipitation\": 0.0\\n    },\\n    {\\n        \"date\": \"2017-01-14\",\\n        \"precipitation\": 0.0\\n    },\\n    {\\n        \"date\": \"2017-01-14\",\\n        \"precipitation\": 0.0\\n    },\\n    {\\n        \"date\": \"2017-01-15\",\\n        \"precipitation\": 0.0\\n    },\\n    {\\n        \"date\": \"2017-01-15\",\\n        \"precipitation\": 0.0\\n    },\\n    {\\n        \"date\": \"2017-01-15\",\\n        \"precipitation\": NaN\\n    },\\n    {\\n        \"date\": \"2017-01-15\",\\n        \"precipitation\": 0.0\\n    },\\n    {\\n        \"date\": \"2017-01-15\",\\n        \"precipitation\": 0.01\\n    },\\n    {\\n        \"date\": \"2017-01-16\",\\n        \"precipitation\": NaN\\n    },\\n    {\\n        \"date\": \"2017-01-16\",\\n        \"precipitation\": 0.0\\n    },\\n    {\\n        \"date\": \"2017-01-16\",\\n        \"precipitation\": 0.0\\n    },\\n    {\\n        \"date\": \"2017-01-16\",\\n        \"precipitation\": 0.0\\n    },\\n    {\\n        \"date\": \"2017-01-16\",\\n        \"precipitation\": 0.0\\n    },\\n    {\\n        \"date\": \"2017-01-16\",\\n        \"precipitation\": 0.0\\n    },\\n    {\\n        \"date\": \"2017-01-17\",\\n        \"precipitation\": 0.0\\n    },\\n    {\\n        \"date\": \"2017-01-17\",\\n        \"precipitation\": 0.0\\n    },\\n    {\\n        \"date\": \"2017-01-17\",\\n        \"precipitation\": 0.0\\n    },\\n    {\\n        \"date\": \"2017-01-17\",\\n        \"precipitation\": 0.0\\n    },\\n    {\\n        \"date\": \"2017-01-17\",\\n        \"precipitation\": 0.0\\n    },\\n    {\\n        \"date\": \"2017-01-17\",\\n        \"precipitation\": 0.0\\n    },\\n    {\\n        \"date\": \"2017-01-18\",\\n        \"precipitation\": 0.07\\n    },\\n    {\\n        \"date\": \"2017-01-18\",\\n        \"precipitation\": 0.0\\n    },\\n    {\\n        \"date\": \"2017-01-18\",\\n        \"precipitation\": 0.0\\n    },\\n    {\\n        \"date\": \"2017-01-18\",\\n        \"precipitation\": 0.0\\n    },\\n    {\\n        \"date\": \"2017-01-18\",\\n        \"precipitation\": 0.0\\n    },\\n    {\\n        \"date\": \"2017-01-18\",\\n        \"precipitation\": 0.0\\n    },\\n    {\\n        \"date\": \"2017-01-18\",\\n        \"precipitation\": NaN\\n    },\\n    {\\n        \"date\": \"2017-01-19\",\\n        \"precipitation\": 0.0\\n    },\\n    {\\n        \"date\": \"2017-01-19\",\\n        \"precipitation\": NaN\\n    },\\n    {\\n        \"date\": \"2017-01-19\",\\n        \"precipitation\": 0.0\\n    },\\n    {\\n        \"date\": \"2017-01-19\",\\n        \"precipitation\": 0.02\\n    },\\n    {\\n        \"date\": \"2017-01-19\",\\n        \"precipitation\": 0.0\\n    },\\n    {\\n        \"date\": \"2017-01-19\",\\n        \"precipitation\": 0.0\\n    },\\n    {\\n        \"date\": \"2017-01-19\",\\n        \"precipitation\": 0.0\\n    },\\n    {\\n        \"date\": \"2017-01-20\",\\n        \"precipitation\": NaN\\n    },\\n    {\\n        \"date\": \"2017-01-20\",\\n        \"precipitation\": 0.0\\n    },\\n    {\\n        \"date\": \"2017-01-20\",\\n        \"precipitation\": 0.0\\n    },\\n    {\\n        \"date\": \"2017-01-20\",\\n        \"precipitation\": 0.0\\n    },\\n    {\\n        \"date\": \"2017-01-20\",\\n        \"precipitation\": 0.0\\n    },\\n    {\\n        \"date\": \"2017-01-20\",\\n        \"precipitation\": 0.0\\n    },\\n    {\\n        \"date\": \"2017-01-20\",\\n        \"precipitation\": 0.0\\n    },\\n    {\\n        \"date\": \"2017-01-21\",\\n        \"precipitation\": 0.03\\n    },\\n    {\\n        \"date\": \"2017-01-21\",\\n        \"precipitation\": 0.08\\n    },\\n    {\\n        \"date\": \"2017-01-21\",\\n        \"precipitation\": 0.04\\n    },\\n    {\\n        \"date\": \"2017-01-21\",\\n        \"precipitation\": 0.02\\n    },\\n    {\\n        \"date\": \"2017-01-21\",\\n        \"precipitation\": 0.11\\n    },\\n    {\\n        \"date\": \"2017-01-21\",\\n        \"precipitation\": 0.0\\n    },\\n    {\\n        \"date\": \"2017-01-22\",\\n        \"precipitation\": 0.01\\n    },\\n    {\\n        \"date\": \"2017-01-22\",\\n        \"precipitation\": 0.72\\n    },\\n    {\\n        \"date\": \"2017-01-22\",\\n        \"precipitation\": 0.04\\n    },\\n    {\\n        \"date\": \"2017-01-22\",\\n        \"precipitation\": 0.09\\n    },\\n    {\\n        \"date\": \"2017-01-22\",\\n        \"precipitation\": 0.16\\n    },\\n    {\\n        \"date\": \"2017-01-23\",\\n        \"precipitation\": 0.0\\n    },\\n    {\\n        \"date\": \"2017-01-23\",\\n        \"precipitation\": 0.85\\n    },\\n    {\\n        \"date\": \"2017-01-23\",\\n        \"precipitation\": 0.01\\n    },\\n    {\\n        \"date\": \"2017-01-23\",\\n        \"precipitation\": 0.08\\n    },\\n    {\\n        \"date\": \"2017-01-23\",\\n        \"precipitation\": 0.0\\n    },\\n    {\\n        \"date\": \"2017-01-23\",\\n        \"precipitation\": NaN\\n    },\\n    {\\n        \"date\": \"2017-01-23\",\\n        \"precipitation\": NaN\\n    },\\n    {\\n        \"date\": \"2017-01-24\",\\n        \"precipitation\": 0.13\\n    },\\n    {\\n        \"date\": \"2017-01-24\",\\n        \"precipitation\": NaN\\n    },\\n    {\\n        \"date\": \"2017-01-24\",\\n        \"precipitation\": 1.85\\n    },\\n    {\\n        \"date\": \"2017-01-24\",\\n        \"precipitation\": 0.08\\n    },\\n    {\\n        \"date\": \"2017-01-24\",\\n        \"precipitation\": 0.15\\n    },\\n    {\\n        \"date\": \"2017-01-24\",\\n        \"precipitation\": 0.04\\n    },\\n    {\\n        \"date\": \"2017-01-25\",\\n        \"precipitation\": NaN\\n    },\\n    {\\n        \"date\": \"2017-01-25\",\\n        \"precipitation\": 0.12\\n    },\\n    {\\n        \"date\": \"2017-01-25\",\\n        \"precipitation\": 0.79\\n    },\\n    {\\n        \"date\": \"2017-01-25\",\\n        \"precipitation\": 2.64\\n    },\\n    {\\n        \"date\": \"2017-01-25\",\\n        \"precipitation\": NaN\\n    },\\n    {\\n        \"date\": \"2017-01-25\",\\n        \"precipitation\": 0.03\\n    },\\n    {\\n        \"date\": \"2017-01-25\",\\n        \"precipitation\": 0.0\\n    },\\n    {\\n        \"date\": \"2017-01-26\",\\n        \"precipitation\": 0.0\\n    },\\n    {\\n        \"date\": \"2017-01-26\",\\n        \"precipitation\": 0.0\\n    },\\n    {\\n        \"date\": \"2017-01-26\",\\n        \"precipitation\": 0.0\\n    },\\n    {\\n        \"date\": \"2017-01-26\",\\n        \"precipitation\": 0.01\\n    },\\n    {\\n        \"date\": \"2017-01-26\",\\n        \"precipitation\": 0.1\\n    },\\n    {\\n        \"date\": \"2017-01-26\",\\n        \"precipitation\": 0.0\\n    },\\n    {\\n        \"date\": \"2017-01-26\",\\n        \"precipitation\": 0.0\\n    },\\n    {\\n        \"date\": \"2017-01-27\",\\n        \"precipitation\": 0.03\\n    },\\n    {\\n        \"date\": \"2017-01-27\",\\n        \"precipitation\": 0.0\\n    },\\n    {\\n        \"date\": \"2017-01-27\",\\n        \"precipitation\": 0.03\\n    },\\n    {\\n        \"date\": \"2017-01-27\",\\n        \"precipitation\": 0.0\\n    },\\n    {\\n        \"date\": \"2017-01-27\",\\n        \"precipitation\": 0.0\\n    },\\n    {\\n        \"date\": \"2017-01-27\",\\n        \"precipitation\": 0.0\\n    },\\n    {\\n        \"date\": \"2017-01-27\",\\n        \"precipitation\": 0.0\\n    },\\n    {\\n        \"date\": \"2017-01-28\",\\n        \"precipitation\": 0.0\\n    },\\n    {\\n        \"date\": \"2017-01-28\",\\n        \"precipitation\": 0.0\\n    },\\n    {\\n        \"date\": \"2017-01-28\",\\n        \"precipitation\": 0.14\\n    },\\n    {\\n        \"date\": \"2017-01-28\",\\n        \"precipitation\": 0.0\\n    },\\n    {\\n        \"date\": \"2017-01-28\",\\n        \"precipitation\": 0.0\\n    },\\n    {\\n        \"date\": \"2017-01-29\",\\n        \"precipitation\": 0.0\\n    },\\n    {\\n        \"date\": \"2017-01-29\",\\n        \"precipitation\": NaN\\n    },\\n    {\\n        \"date\": \"2017-01-29\",\\n        \"precipitation\": 0.26\\n    },\\n    {\\n        \"date\": \"2017-01-29\",\\n        \"precipitation\": 0.18\\n    },\\n    {\\n        \"date\": \"2017-01-29\",\\n        \"precipitation\": 0.55\\n    },\\n    {\\n        \"date\": \"2017-01-30\",\\n        \"precipitation\": 0.0\\n    },\\n    {\\n        \"date\": \"2017-01-30\",\\n        \"precipitation\": 0.0\\n    },\\n    {\\n        \"date\": \"2017-01-30\",\\n        \"precipitation\": NaN\\n    },\\n    {\\n        \"date\": \"2017-01-30\",\\n        \"precipitation\": 0.0\\n    },\\n    {\\n        \"date\": \"2017-01-30\",\\n        \"precipitation\": 0.05\\n    },\\n    {\\n        \"date\": \"2017-01-30\",\\n        \"precipitation\": 0.0\\n    },\\n    {\\n        \"date\": \"2017-01-30\",\\n        \"precipitation\": 0.0\\n    },\\n    {\\n        \"date\": \"2017-01-31\",\\n        \"precipitation\": 0.0\\n    },\\n    {\\n        \"date\": \"2017-01-31\",\\n        \"precipitation\": 0.0\\n    },\\n    {\\n        \"date\": \"2017-01-31\",\\n        \"precipitation\": 0.0\\n    },\\n    {\\n        \"date\": \"2017-01-31\",\\n        \"precipitation\": 0.0\\n    },\\n    {\\n        \"date\": \"2017-01-31\",\\n        \"precipitation\": 0.0\\n    },\\n    {\\n        \"date\": \"2017-01-31\",\\n        \"precipitation\": 0.0\\n    },\\n    {\\n        \"date\": \"2017-01-31\",\\n        \"precipitation\": 0.0\\n    },\\n    {\\n        \"date\": \"2017-02-01\",\\n        \"precipitation\": 0.0\\n    },\\n    {\\n        \"date\": \"2017-02-01\",\\n        \"precipitation\": 0.0\\n    },\\n    {\\n        \"date\": \"2017-02-01\",\\n        \"precipitation\": 0.0\\n    },\\n    {\\n        \"date\": \"2017-02-01\",\\n        \"precipitation\": 0.0\\n    },\\n    {\\n        \"date\": \"2017-02-01\",\\n        \"precipitation\": 0.0\\n    },\\n    {\\n        \"date\": \"2017-02-01\",\\n        \"precipitation\": 0.0\\n    },\\n    {\\n        \"date\": \"2017-02-01\",\\n        \"precipitation\": 0.0\\n    },\\n    {\\n        \"date\": \"2017-02-02\",\\n        \"precipitation\": 0.0\\n    },\\n    {\\n        \"date\": \"2017-02-02\",\\n        \"precipitation\": 0.0\\n    },\\n    {\\n        \"date\": \"2017-02-02\",\\n        \"precipitation\": 0.0\\n    },\\n    {\\n        \"date\": \"2017-02-02\",\\n        \"precipitation\": 0.0\\n    },\\n    {\\n        \"date\": \"2017-02-02\",\\n        \"precipitation\": 0.0\\n    },\\n    {\\n        \"date\": \"2017-02-02\",\\n        \"precipitation\": 0.0\\n    },\\n    {\\n        \"date\": \"2017-02-02\",\\n        \"precipitation\": 0.0\\n    },\\n    {\\n        \"date\": \"2017-02-03\",\\n        \"precipitation\": 0.0\\n    },\\n    {\\n        \"date\": \"2017-02-03\",\\n        \"precipitation\": 0.0\\n    },\\n    {\\n        \"date\": \"2017-02-03\",\\n        \"precipitation\": 0.0\\n    },\\n    {\\n        \"date\": \"2017-02-03\",\\n        \"precipitation\": 0.0\\n    },\\n    {\\n        \"date\": \"2017-02-03\",\\n        \"precipitation\": 0.0\\n    },\\n    {\\n        \"date\": \"2017-02-03\",\\n        \"precipitation\": 0.0\\n    },\\n    {\\n        \"date\": \"2017-02-04\",\\n        \"precipitation\": 0.0\\n    },\\n    {\\n        \"date\": \"2017-02-04\",\\n        \"precipitation\": 0.0\\n    },\\n    {\\n        \"date\": \"2017-02-04\",\\n        \"precipitation\": 0.0\\n    },\\n    {\\n        \"date\": \"2017-02-04\",\\n        \"precipitation\": 0.0\\n    },\\n    {\\n        \"date\": \"2017-02-04\",\\n        \"precipitation\": NaN\\n    },\\n    {\\n        \"date\": \"2017-02-05\",\\n        \"precipitation\": NaN\\n    },\\n    {\\n        \"date\": \"2017-02-05\",\\n        \"precipitation\": 0.0\\n    },\\n    {\\n        \"date\": \"2017-02-05\",\\n        \"precipitation\": 0.0\\n    },\\n    {\\n        \"date\": \"2017-02-05\",\\n        \"precipitation\": 0.0\\n    },\\n    {\\n        \"date\": \"2017-02-05\",\\n        \"precipitation\": 0.0\\n    },\\n    {\\n        \"date\": \"2017-02-05\",\\n        \"precipitation\": 0.0\\n    },\\n    {\\n        \"date\": \"2017-02-06\",\\n        \"precipitation\": 0.0\\n    },\\n    {\\n        \"date\": \"2017-02-06\",\\n        \"precipitation\": 0.0\\n    },\\n    {\\n        \"date\": \"2017-02-06\",\\n        \"precipitation\": 0.0\\n    },\\n    {\\n        \"date\": \"2017-02-06\",\\n        \"precipitation\": 0.04\\n    },\\n    {\\n        \"date\": \"2017-02-06\",\\n        \"precipitation\": 0.16\\n    },\\n    {\\n        \"date\": \"2017-02-06\",\\n        \"precipitation\": 0.18\\n    },\\n    {\\n        \"date\": \"2017-02-06\",\\n        \"precipitation\": NaN\\n    },\\n    {\\n        \"date\": \"2017-02-07\",\\n        \"precipitation\": 0.9\\n    },\\n    {\\n        \"date\": \"2017-02-07\",\\n        \"precipitation\": 0.0\\n    },\\n    {\\n        \"date\": \"2017-02-07\",\\n        \"precipitation\": 1.32\\n    },\\n    {\\n        \"date\": \"2017-02-07\",\\n        \"precipitation\": 1.08\\n    },\\n    {\\n        \"date\": \"2017-02-07\",\\n        \"precipitation\": 1.8\\n    },\\n    {\\n        \"date\": \"2017-02-07\",\\n        \"precipitation\": 0.51\\n    },\\n    {\\n        \"date\": \"2017-02-07\",\\n        \"precipitation\": 1.79\\n    },\\n    {\\n        \"date\": \"2017-02-08\",\\n        \"precipitation\": 0.0\\n    },\\n    {\\n        \"date\": \"2017-02-08\",\\n        \"precipitation\": 0.0\\n    },\\n    {\\n        \"date\": \"2017-02-08\",\\n        \"precipitation\": 1.08\\n    },\\n    {\\n        \"date\": \"2017-02-08\",\\n        \"precipitation\": 0.0\\n    },\\n    {\\n        \"date\": \"2017-02-08\",\\n        \"precipitation\": 0.0\\n    },\\n    {\\n        \"date\": \"2017-02-08\",\\n        \"precipitation\": 0.0\\n    },\\n    {\\n        \"date\": \"2017-02-08\",\\n        \"precipitation\": 0.0\\n    },\\n    {\\n        \"date\": \"2017-02-09\",\\n        \"precipitation\": 0.0\\n    },\\n    {\\n        \"date\": \"2017-02-09\",\\n        \"precipitation\": 0.0\\n    },\\n    {\\n        \"date\": \"2017-02-09\",\\n        \"precipitation\": 0.0\\n    },\\n    {\\n        \"date\": \"2017-02-09\",\\n        \"precipitation\": 0.0\\n    },\\n    {\\n        \"date\": \"2017-02-09\",\\n        \"precipitation\": 0.0\\n    },\\n    {\\n        \"date\": \"2017-02-09\",\\n        \"precipitation\": 0.02\\n    },\\n    {\\n        \"date\": \"2017-02-09\",\\n        \"precipitation\": 0.0\\n    },\\n    {\\n        \"date\": \"2017-02-10\",\\n        \"precipitation\": 0.0\\n    },\\n    {\\n        \"date\": \"2017-02-10\",\\n        \"precipitation\": 0.0\\n    },\\n    {\\n        \"date\": \"2017-02-10\",\\n        \"precipitation\": 0.0\\n    },\\n    {\\n        \"date\": \"2017-02-10\",\\n        \"precipitation\": 0.0\\n    },\\n    {\\n        \"date\": \"2017-02-10\",\\n        \"precipitation\": 0.0\\n    },\\n    {\\n        \"date\": \"2017-02-10\",\\n        \"precipitation\": 0.0\\n    },\\n    {\\n        \"date\": \"2017-02-10\",\\n        \"precipitation\": 0.0\\n    },\\n    {\\n        \"date\": \"2017-02-11\",\\n        \"precipitation\": 0.73\\n    },\\n    {\\n        \"date\": \"2017-02-11\",\\n        \"precipitation\": 5.04\\n    },\\n    {\\n        \"date\": \"2017-02-11\",\\n        \"precipitation\": 1.73\\n    },\\n    {\\n        \"date\": \"2017-02-11\",\\n        \"precipitation\": 0.31\\n    },\\n    {\\n        \"date\": \"2017-02-11\",\\n        \"precipitation\": 2.39\\n    },\\n    {\\n        \"date\": \"2017-02-11\",\\n        \"precipitation\": 1.0\\n    },\\n    {\\n        \"date\": \"2017-02-12\",\\n        \"precipitation\": 0.07\\n    },\\n    {\\n        \"date\": \"2017-02-12\",\\n        \"precipitation\": 2.62\\n    },\\n    {\\n        \"date\": \"2017-02-12\",\\n        \"precipitation\": 1.91\\n    },\\n    {\\n        \"date\": \"2017-02-12\",\\n        \"precipitation\": 1.07\\n    },\\n    {\\n        \"date\": \"2017-02-12\",\\n        \"precipitation\": 1.83\\n    },\\n    {\\n        \"date\": \"2017-02-12\",\\n        \"precipitation\": 2.98\\n    },\\n    {\\n        \"date\": \"2017-02-13\",\\n        \"precipitation\": 0.0\\n    },\\n    {\\n        \"date\": \"2017-02-13\",\\n        \"precipitation\": 0.0\\n    },\\n    {\\n        \"date\": \"2017-02-13\",\\n        \"precipitation\": 2.9\\n    },\\n    {\\n        \"date\": \"2017-02-13\",\\n        \"precipitation\": 0.0\\n    },\\n    {\\n        \"date\": \"2017-02-13\",\\n        \"precipitation\": 0.01\\n    },\\n    {\\n        \"date\": \"2017-02-13\",\\n        \"precipitation\": NaN\\n    },\\n    {\\n        \"date\": \"2017-02-13\",\\n        \"precipitation\": 0.01\\n    },\\n    {\\n        \"date\": \"2017-02-14\",\\n        \"precipitation\": 0.0\\n    },\\n    {\\n        \"date\": \"2017-02-14\",\\n        \"precipitation\": 0.01\\n    },\\n    {\\n        \"date\": \"2017-02-14\",\\n        \"precipitation\": 0.0\\n    },\\n    {\\n        \"date\": \"2017-02-14\",\\n        \"precipitation\": 0.0\\n    },\\n    {\\n        \"date\": \"2017-02-14\",\\n        \"precipitation\": 0.0\\n    },\\n    {\\n        \"date\": \"2017-02-14\",\\n        \"precipitation\": 0.0\\n    },\\n    {\\n        \"date\": \"2017-02-15\",\\n        \"precipitation\": 0.0\\n    },\\n    {\\n        \"date\": \"2017-02-15\",\\n        \"precipitation\": 0.0\\n    },\\n    {\\n        \"date\": \"2017-02-15\",\\n        \"precipitation\": 0.01\\n    },\\n    {\\n        \"date\": \"2017-02-15\",\\n        \"precipitation\": NaN\\n    },\\n    {\\n        \"date\": \"2017-02-15\",\\n        \"precipitation\": NaN\\n    },\\n    {\\n        \"date\": \"2017-02-15\",\\n        \"precipitation\": 0.07\\n    },\\n    {\\n        \"date\": \"2017-02-15\",\\n        \"precipitation\": 0.0\\n    },\\n    {\\n        \"date\": \"2017-02-16\",\\n        \"precipitation\": 0.07\\n    },\\n    {\\n        \"date\": \"2017-02-16\",\\n        \"precipitation\": 0.67\\n    },\\n    {\\n        \"date\": \"2017-02-16\",\\n        \"precipitation\": NaN\\n    },\\n    {\\n        \"date\": \"2017-02-16\",\\n        \"precipitation\": 0.62\\n    },\\n    {\\n        \"date\": \"2017-02-16\",\\n        \"precipitation\": 0.73\\n    },\\n    {\\n        \"date\": \"2017-02-16\",\\n        \"precipitation\": 0.0\\n    },\\n    {\\n        \"date\": \"2017-02-16\",\\n        \"precipitation\": 0.13\\n    },\\n    {\\n        \"date\": \"2017-02-17\",\\n        \"precipitation\": 0.06\\n    },\\n    {\\n        \"date\": \"2017-02-17\",\\n        \"precipitation\": 0.06\\n    },\\n    {\\n        \"date\": \"2017-02-17\",\\n        \"precipitation\": 0.8\\n    },\\n    {\\n        \"date\": \"2017-02-17\",\\n        \"precipitation\": 0.13\\n    },\\n    {\\n        \"date\": \"2017-02-17\",\\n        \"precipitation\": 0.0\\n    },\\n    {\\n        \"date\": \"2017-02-17\",\\n        \"precipitation\": 0.0\\n    },\\n    {\\n        \"date\": \"2017-02-18\",\\n        \"precipitation\": 0.0\\n    },\\n    {\\n        \"date\": \"2017-02-18\",\\n        \"precipitation\": 0.0\\n    },\\n    {\\n        \"date\": \"2017-02-18\",\\n        \"precipitation\": NaN\\n    },\\n    {\\n        \"date\": \"2017-02-18\",\\n        \"precipitation\": 0.0\\n    },\\n    {\\n        \"date\": \"2017-02-18\",\\n        \"precipitation\": 0.01\\n    },\\n    {\\n        \"date\": \"2017-02-19\",\\n        \"precipitation\": 0.0\\n    },\\n    {\\n        \"date\": \"2017-02-19\",\\n        \"precipitation\": 0.1\\n    },\\n    {\\n        \"date\": \"2017-02-19\",\\n        \"precipitation\": 0.09\\n    },\\n    {\\n        \"date\": \"2017-02-19\",\\n        \"precipitation\": 0.0\\n    },\\n    {\\n        \"date\": \"2017-02-20\",\\n        \"precipitation\": 0.0\\n    },\\n    {\\n        \"date\": \"2017-02-20\",\\n        \"precipitation\": NaN\\n    },\\n    {\\n        \"date\": \"2017-02-20\",\\n        \"precipitation\": 0.0\\n    },\\n    {\\n        \"date\": \"2017-02-20\",\\n        \"precipitation\": 0.0\\n    },\\n    {\\n        \"date\": \"2017-02-20\",\\n        \"precipitation\": 0.0\\n    },\\n    {\\n        \"date\": \"2017-02-20\",\\n        \"precipitation\": NaN\\n    },\\n    {\\n        \"date\": \"2017-02-21\",\\n        \"precipitation\": 0.07\\n    },\\n    {\\n        \"date\": \"2017-02-21\",\\n        \"precipitation\": 0.0\\n    },\\n    {\\n        \"date\": \"2017-02-21\",\\n        \"precipitation\": NaN\\n    },\\n    {\\n        \"date\": \"2017-02-21\",\\n        \"precipitation\": 0.0\\n    },\\n    {\\n        \"date\": \"2017-02-21\",\\n        \"precipitation\": 0.0\\n    },\\n    {\\n        \"date\": \"2017-02-21\",\\n        \"precipitation\": 0.06\\n    },\\n    {\\n        \"date\": \"2017-02-22\",\\n        \"precipitation\": 0.06\\n    },\\n    {\\n        \"date\": \"2017-02-22\",\\n        \"precipitation\": 0.06\\n    },\\n    {\\n        \"date\": \"2017-02-22\",\\n        \"precipitation\": 0.17\\n    },\\n    {\\n        \"date\": \"2017-02-22\",\\n        \"precipitation\": 0.13\\n    },\\n    {\\n        \"date\": \"2017-02-22\",\\n        \"precipitation\": 0.32\\n    },\\n    {\\n        \"date\": \"2017-02-22\",\\n        \"precipitation\": 0.11\\n    },\\n    {\\n        \"date\": \"2017-02-22\",\\n        \"precipitation\": 0.06\\n    },\\n    {\\n        \"date\": \"2017-02-23\",\\n        \"precipitation\": 0.0\\n    },\\n    {\\n        \"date\": \"2017-02-23\",\\n        \"precipitation\": 0.0\\n    },\\n    {\\n        \"date\": \"2017-02-23\",\\n        \"precipitation\": 0.01\\n    },\\n    {\\n        \"date\": \"2017-02-23\",\\n        \"precipitation\": 0.0\\n    },\\n    {\\n        \"date\": \"2017-02-23\",\\n        \"precipitation\": 0.0\\n    },\\n    {\\n        \"date\": \"2017-02-23\",\\n        \"precipitation\": 0.0\\n    },\\n    {\\n        \"date\": \"2017-02-23\",\\n        \"precipitation\": 0.0\\n    },\\n    {\\n        \"date\": \"2017-02-24\",\\n        \"precipitation\": 0.0\\n    },\\n    {\\n        \"date\": \"2017-02-24\",\\n        \"precipitation\": 0.0\\n    },\\n    {\\n        \"date\": \"2017-02-24\",\\n        \"precipitation\": 0.0\\n    },\\n    {\\n        \"date\": \"2017-02-24\",\\n        \"precipitation\": 0.0\\n    },\\n    {\\n        \"date\": \"2017-02-24\",\\n        \"precipitation\": 0.0\\n    },\\n    {\\n        \"date\": \"2017-02-24\",\\n        \"precipitation\": 0.0\\n    },\\n    {\\n        \"date\": \"2017-02-24\",\\n        \"precipitation\": 0.0\\n    },\\n    {\\n        \"date\": \"2017-02-25\",\\n        \"precipitation\": 0.0\\n    },\\n    {\\n        \"date\": \"2017-02-25\",\\n        \"precipitation\": 0.0\\n    },\\n    {\\n        \"date\": \"2017-02-25\",\\n        \"precipitation\": 0.12\\n    },\\n    {\\n        \"date\": \"2017-02-25\",\\n        \"precipitation\": 0.03\\n    },\\n    {\\n        \"date\": \"2017-02-26\",\\n        \"precipitation\": 0.0\\n    },\\n    {\\n        \"date\": \"2017-02-26\",\\n        \"precipitation\": NaN\\n    },\\n    {\\n        \"date\": \"2017-02-26\",\\n        \"precipitation\": 0.0\\n    },\\n    {\\n        \"date\": \"2017-02-26\",\\n        \"precipitation\": 0.0\\n    },\\n    {\\n        \"date\": \"2017-02-26\",\\n        \"precipitation\": NaN\\n    },\\n    {\\n        \"date\": \"2017-02-26\",\\n        \"precipitation\": 0.0\\n    },\\n    {\\n        \"date\": \"2017-02-27\",\\n        \"precipitation\": 0.0\\n    },\\n    {\\n        \"date\": \"2017-02-27\",\\n        \"precipitation\": 0.0\\n    },\\n    {\\n        \"date\": \"2017-02-27\",\\n        \"precipitation\": 0.0\\n    },\\n    {\\n        \"date\": \"2017-02-27\",\\n        \"precipitation\": 0.0\\n    },\\n    {\\n        \"date\": \"2017-02-27\",\\n        \"precipitation\": 0.0\\n    },\\n    {\\n        \"date\": \"2017-02-27\",\\n        \"precipitation\": 0.0\\n    },\\n    {\\n        \"date\": \"2017-02-27\",\\n        \"precipitation\": NaN\\n    },\\n    {\\n        \"date\": \"2017-02-28\",\\n        \"precipitation\": NaN\\n    },\\n    {\\n        \"date\": \"2017-02-28\",\\n        \"precipitation\": 0.04\\n    },\\n    {\\n        \"date\": \"2017-02-28\",\\n        \"precipitation\": 0.0\\n    },\\n    {\\n        \"date\": \"2017-02-28\",\\n        \"precipitation\": 0.58\\n    },\\n    {\\n        \"date\": \"2017-02-28\",\\n        \"precipitation\": 0.16\\n    },\\n    {\\n        \"date\": \"2017-02-28\",\\n        \"precipitation\": 0.0\\n    },\\n    {\\n        \"date\": \"2017-02-28\",\\n        \"precipitation\": 0.04\\n    },\\n    {\\n        \"date\": \"2017-03-01\",\\n        \"precipitation\": 2.12\\n    },\\n    {\\n        \"date\": \"2017-03-01\",\\n        \"precipitation\": 2.4\\n    },\\n    {\\n        \"date\": \"2017-03-01\",\\n        \"precipitation\": 0.59\\n    },\\n    {\\n        \"date\": \"2017-03-01\",\\n        \"precipitation\": 1.19\\n    },\\n    {\\n        \"date\": \"2017-03-01\",\\n        \"precipitation\": 2.2\\n    },\\n    {\\n        \"date\": \"2017-03-01\",\\n        \"precipitation\": 1.12\\n    },\\n    {\\n        \"date\": \"2017-03-01\",\\n        \"precipitation\": 2.0\\n    },\\n    {\\n        \"date\": \"2017-03-02\",\\n        \"precipitation\": 1.45\\n    },\\n    {\\n        \"date\": \"2017-03-02\",\\n        \"precipitation\": 0.58\\n    },\\n    {\\n        \"date\": \"2017-03-02\",\\n        \"precipitation\": 1.48\\n    },\\n    {\\n        \"date\": \"2017-03-02\",\\n        \"precipitation\": 0.73\\n    },\\n    {\\n        \"date\": \"2017-03-02\",\\n        \"precipitation\": 1.88\\n    },\\n    {\\n        \"date\": \"2017-03-02\",\\n        \"precipitation\": 0.44\\n    },\\n    {\\n        \"date\": \"2017-03-03\",\\n        \"precipitation\": 0.54\\n    },\\n    {\\n        \"date\": \"2017-03-03\",\\n        \"precipitation\": 0.56\\n    },\\n    {\\n        \"date\": \"2017-03-03\",\\n        \"precipitation\": 0.14\\n    },\\n    {\\n        \"date\": \"2017-03-03\",\\n        \"precipitation\": NaN\\n    },\\n    {\\n        \"date\": \"2017-03-03\",\\n        \"precipitation\": 0.47\\n    },\\n    {\\n        \"date\": \"2017-03-03\",\\n        \"precipitation\": 0.25\\n    },\\n    {\\n        \"date\": \"2017-03-03\",\\n        \"precipitation\": 0.27\\n    },\\n    {\\n        \"date\": \"2017-03-04\",\\n        \"precipitation\": 0.0\\n    },\\n    {\\n        \"date\": \"2017-03-04\",\\n        \"precipitation\": 0.0\\n    },\\n    {\\n        \"date\": \"2017-03-04\",\\n        \"precipitation\": 0.0\\n    },\\n    {\\n        \"date\": \"2017-03-04\",\\n        \"precipitation\": 0.0\\n    },\\n    {\\n        \"date\": \"2017-03-04\",\\n        \"precipitation\": 0.0\\n    },\\n    {\\n        \"date\": \"2017-03-05\",\\n        \"precipitation\": 0.41\\n    },\\n    {\\n        \"date\": \"2017-03-05\",\\n        \"precipitation\": 0.35\\n    },\\n    {\\n        \"date\": \"2017-03-05\",\\n        \"precipitation\": 0.1\\n    },\\n    {\\n        \"date\": \"2017-03-05\",\\n        \"precipitation\": 0.35\\n    },\\n    {\\n        \"date\": \"2017-03-06\",\\n        \"precipitation\": 0.0\\n    },\\n    {\\n        \"date\": \"2017-03-06\",\\n        \"precipitation\": NaN\\n    },\\n    {\\n        \"date\": \"2017-03-06\",\\n        \"precipitation\": NaN\\n    },\\n    {\\n        \"date\": \"2017-03-06\",\\n        \"precipitation\": 0.03\\n    },\\n    {\\n        \"date\": \"2017-03-06\",\\n        \"precipitation\": 0.51\\n    },\\n    {\\n        \"date\": \"2017-03-06\",\\n        \"precipitation\": 0.0\\n    },\\n    {\\n        \"date\": \"2017-03-06\",\\n        \"precipitation\": NaN\\n    },\\n    {\\n        \"date\": \"2017-03-07\",\\n        \"precipitation\": 0.0\\n    },\\n    {\\n        \"date\": \"2017-03-07\",\\n        \"precipitation\": NaN\\n    },\\n    {\\n        \"date\": \"2017-03-07\",\\n        \"precipitation\": 0.0\\n    },\\n    {\\n        \"date\": \"2017-03-07\",\\n        \"precipitation\": 0.0\\n    },\\n    {\\n        \"date\": \"2017-03-07\",\\n        \"precipitation\": 0.0\\n    },\\n    {\\n        \"date\": \"2017-03-07\",\\n        \"precipitation\": 0.0\\n    },\\n    {\\n        \"date\": \"2017-03-08\",\\n        \"precipitation\": 0.0\\n    },\\n    {\\n        \"date\": \"2017-03-08\",\\n        \"precipitation\": 0.0\\n    },\\n    {\\n        \"date\": \"2017-03-08\",\\n        \"precipitation\": 0.0\\n    },\\n    {\\n        \"date\": \"2017-03-08\",\\n        \"precipitation\": 0.0\\n    },\\n    {\\n        \"date\": \"2017-03-08\",\\n        \"precipitation\": NaN\\n    },\\n    {\\n        \"date\": \"2017-03-08\",\\n        \"precipitation\": 0.0\\n    },\\n    {\\n        \"date\": \"2017-03-09\",\\n        \"precipitation\": 0.5\\n    },\\n    {\\n        \"date\": \"2017-03-09\",\\n        \"precipitation\": 0.0\\n    },\\n    {\\n        \"date\": \"2017-03-09\",\\n        \"precipitation\": 0.65\\n    },\\n    {\\n        \"date\": \"2017-03-09\",\\n        \"precipitation\": NaN\\n    },\\n    {\\n        \"date\": \"2017-03-09\",\\n        \"precipitation\": 0.0\\n    },\\n    {\\n        \"date\": \"2017-03-09\",\\n        \"precipitation\": 0.8\\n    },\\n    {\\n        \"date\": \"2017-03-09\",\\n        \"precipitation\": 0.01\\n    },\\n    {\\n        \"date\": \"2017-03-10\",\\n        \"precipitation\": 0.0\\n    },\\n    {\\n        \"date\": \"2017-03-10\",\\n        \"precipitation\": 0.03\\n    },\\n    {\\n        \"date\": \"2017-03-10\",\\n        \"precipitation\": 0.13\\n    },\\n    {\\n        \"date\": \"2017-03-10\",\\n        \"precipitation\": 0.0\\n    },\\n    {\\n        \"date\": \"2017-03-10\",\\n        \"precipitation\": 0.0\\n    },\\n    {\\n        \"date\": \"2017-03-10\",\\n        \"precipitation\": 0.0\\n    },\\n    {\\n        \"date\": \"2017-03-10\",\\n        \"precipitation\": 0.13\\n    },\\n    {\\n        \"date\": \"2017-03-11\",\\n        \"precipitation\": 0.0\\n    },\\n    {\\n        \"date\": \"2017-03-11\",\\n        \"precipitation\": 0.01\\n    },\\n    {\\n        \"date\": \"2017-03-11\",\\n        \"precipitation\": 0.0\\n    },\\n    {\\n        \"date\": \"2017-03-11\",\\n        \"precipitation\": 0.03\\n    },\\n    {\\n        \"date\": \"2017-03-11\",\\n        \"precipitation\": 0.0\\n    },\\n    {\\n        \"date\": \"2017-03-12\",\\n        \"precipitation\": NaN\\n    },\\n    {\\n        \"date\": \"2017-03-12\",\\n        \"precipitation\": 0.0\\n    },\\n    {\\n        \"date\": \"2017-03-12\",\\n        \"precipitation\": 0.0\\n    },\\n    {\\n        \"date\": \"2017-03-12\",\\n        \"precipitation\": 0.0\\n    },\\n    {\\n        \"date\": \"2017-03-12\",\\n        \"precipitation\": 0.0\\n    },\\n    {\\n        \"date\": \"2017-03-13\",\\n        \"precipitation\": 0.0\\n    },\\n    {\\n        \"date\": \"2017-03-13\",\\n        \"precipitation\": NaN\\n    },\\n    {\\n        \"date\": \"2017-03-13\",\\n        \"precipitation\": 0.0\\n    },\\n    {\\n        \"date\": \"2017-03-13\",\\n        \"precipitation\": NaN\\n    },\\n    {\\n        \"date\": \"2017-03-13\",\\n        \"precipitation\": 0.0\\n    },\\n    {\\n        \"date\": \"2017-03-13\",\\n        \"precipitation\": 0.0\\n    },\\n    {\\n        \"date\": \"2017-03-13\",\\n        \"precipitation\": 0.0\\n    },\\n    {\\n        \"date\": \"2017-03-14\",\\n        \"precipitation\": 0.0\\n    },\\n    {\\n        \"date\": \"2017-03-14\",\\n        \"precipitation\": 0.0\\n    },\\n    {\\n        \"date\": \"2017-03-14\",\\n        \"precipitation\": 0.0\\n    },\\n    {\\n        \"date\": \"2017-03-14\",\\n        \"precipitation\": 0.0\\n    },\\n    {\\n        \"date\": \"2017-03-14\",\\n        \"precipitation\": 0.0\\n    },\\n    {\\n        \"date\": \"2017-03-14\",\\n        \"precipitation\": 0.0\\n    },\\n    {\\n        \"date\": \"2017-03-14\",\\n        \"precipitation\": 0.06\\n    },\\n    {\\n        \"date\": \"2017-03-15\",\\n        \"precipitation\": 0.0\\n    },\\n    {\\n        \"date\": \"2017-03-15\",\\n        \"precipitation\": 0.0\\n    },\\n    {\\n        \"date\": \"2017-03-15\",\\n        \"precipitation\": 0.0\\n    },\\n    {\\n        \"date\": \"2017-03-15\",\\n        \"precipitation\": 0.0\\n    },\\n    {\\n        \"date\": \"2017-03-15\",\\n        \"precipitation\": 0.0\\n    },\\n    {\\n        \"date\": \"2017-03-15\",\\n        \"precipitation\": 0.06\\n    },\\n    {\\n        \"date\": \"2017-03-16\",\\n        \"precipitation\": 0.0\\n    },\\n    {\\n        \"date\": \"2017-03-16\",\\n        \"precipitation\": 0.0\\n    },\\n    {\\n        \"date\": \"2017-03-16\",\\n        \"precipitation\": 0.0\\n    },\\n    {\\n        \"date\": \"2017-03-16\",\\n        \"precipitation\": 0.0\\n    },\\n    {\\n        \"date\": \"2017-03-16\",\\n        \"precipitation\": NaN\\n    },\\n    {\\n        \"date\": \"2017-03-16\",\\n        \"precipitation\": 0.0\\n    },\\n    {\\n        \"date\": \"2017-03-16\",\\n        \"precipitation\": NaN\\n    },\\n    {\\n        \"date\": \"2017-03-17\",\\n        \"precipitation\": 0.06\\n    },\\n    {\\n        \"date\": \"2017-03-17\",\\n        \"precipitation\": 0.35\\n    },\\n    {\\n        \"date\": \"2017-03-17\",\\n        \"precipitation\": 0.0\\n    },\\n    {\\n        \"date\": \"2017-03-17\",\\n        \"precipitation\": 0.12\\n    },\\n    {\\n        \"date\": \"2017-03-17\",\\n        \"precipitation\": NaN\\n    },\\n    {\\n        \"date\": \"2017-03-17\",\\n        \"precipitation\": 0.19\\n    },\\n    {\\n        \"date\": \"2017-03-18\",\\n        \"precipitation\": 0.0\\n    },\\n    {\\n        \"date\": \"2017-03-18\",\\n        \"precipitation\": 0.0\\n    },\\n    {\\n        \"date\": \"2017-03-18\",\\n        \"precipitation\": NaN\\n    },\\n    {\\n        \"date\": \"2017-03-18\",\\n        \"precipitation\": 0.0\\n    },\\n    {\\n        \"date\": \"2017-03-18\",\\n        \"precipitation\": 0.0\\n    },\\n    {\\n        \"date\": \"2017-03-18\",\\n        \"precipitation\": 0.0\\n    },\\n    {\\n        \"date\": \"2017-03-19\",\\n        \"precipitation\": 0.0\\n    },\\n    {\\n        \"date\": \"2017-03-19\",\\n        \"precipitation\": 0.0\\n    },\\n    {\\n        \"date\": \"2017-03-19\",\\n        \"precipitation\": 0.0\\n    },\\n    {\\n        \"date\": \"2017-03-19\",\\n        \"precipitation\": 0.0\\n    },\\n    {\\n        \"date\": \"2017-03-19\",\\n        \"precipitation\": 0.0\\n    },\\n    {\\n        \"date\": \"2017-03-20\",\\n        \"precipitation\": 0.0\\n    },\\n    {\\n        \"date\": \"2017-03-20\",\\n        \"precipitation\": 0.0\\n    },\\n    {\\n        \"date\": \"2017-03-20\",\\n        \"precipitation\": 0.02\\n    },\\n    {\\n        \"date\": \"2017-03-20\",\\n        \"precipitation\": 0.0\\n    },\\n    {\\n        \"date\": \"2017-03-20\",\\n        \"precipitation\": 0.0\\n    },\\n    {\\n        \"date\": \"2017-03-20\",\\n        \"precipitation\": NaN\\n    },\\n    {\\n        \"date\": \"2017-03-21\",\\n        \"precipitation\": 0.0\\n    },\\n    {\\n        \"date\": \"2017-03-21\",\\n        \"precipitation\": 0.09\\n    },\\n    {\\n        \"date\": \"2017-03-21\",\\n        \"precipitation\": 0.0\\n    },\\n    {\\n        \"date\": \"2017-03-21\",\\n        \"precipitation\": 0.0\\n    },\\n    {\\n        \"date\": \"2017-03-21\",\\n        \"precipitation\": 0.0\\n    },\\n    {\\n        \"date\": \"2017-03-21\",\\n        \"precipitation\": 0.0\\n    },\\n    {\\n        \"date\": \"2017-03-22\",\\n        \"precipitation\": 0.0\\n    },\\n    {\\n        \"date\": \"2017-03-22\",\\n        \"precipitation\": 0.0\\n    },\\n    {\\n        \"date\": \"2017-03-22\",\\n        \"precipitation\": 0.0\\n    },\\n    {\\n        \"date\": \"2017-03-22\",\\n        \"precipitation\": 0.0\\n    },\\n    {\\n        \"date\": \"2017-03-22\",\\n        \"precipitation\": 0.0\\n    },\\n    {\\n        \"date\": \"2017-03-22\",\\n        \"precipitation\": 0.0\\n    },\\n    {\\n        \"date\": \"2017-03-23\",\\n        \"precipitation\": 0.0\\n    },\\n    {\\n        \"date\": \"2017-03-23\",\\n        \"precipitation\": 0.0\\n    },\\n    {\\n        \"date\": \"2017-03-23\",\\n        \"precipitation\": 0.0\\n    },\\n    {\\n        \"date\": \"2017-03-23\",\\n        \"precipitation\": 0.02\\n    },\\n    {\\n        \"date\": \"2017-03-23\",\\n        \"precipitation\": 0.03\\n    },\\n    {\\n        \"date\": \"2017-03-23\",\\n        \"precipitation\": 0.0\\n    },\\n    {\\n        \"date\": \"2017-03-24\",\\n        \"precipitation\": 0.02\\n    },\\n    {\\n        \"date\": \"2017-03-24\",\\n        \"precipitation\": 0.15\\n    },\\n    {\\n        \"date\": \"2017-03-24\",\\n        \"precipitation\": 0.17\\n    },\\n    {\\n        \"date\": \"2017-03-24\",\\n        \"precipitation\": 0.6\\n    },\\n    {\\n        \"date\": \"2017-03-24\",\\n        \"precipitation\": 0.12\\n    },\\n    {\\n        \"date\": \"2017-03-24\",\\n        \"precipitation\": 0.07\\n    },\\n    {\\n        \"date\": \"2017-03-25\",\\n        \"precipitation\": 0.48\\n    },\\n    {\\n        \"date\": \"2017-03-25\",\\n        \"precipitation\": 0.43\\n    },\\n    {\\n        \"date\": \"2017-03-25\",\\n        \"precipitation\": 0.0\\n    },\\n    {\\n        \"date\": \"2017-03-25\",\\n        \"precipitation\": 0.13\\n    },\\n    {\\n        \"date\": \"2017-03-25\",\\n        \"precipitation\": 0.93\\n    },\\n    {\\n        \"date\": \"2017-03-26\",\\n        \"precipitation\": 0.0\\n    },\\n    {\\n        \"date\": \"2017-03-26\",\\n        \"precipitation\": 0.0\\n    },\\n    {\\n        \"date\": \"2017-03-26\",\\n        \"precipitation\": 0.0\\n    },\\n    {\\n        \"date\": \"2017-03-26\",\\n        \"precipitation\": 0.0\\n    },\\n    {\\n        \"date\": \"2017-03-26\",\\n        \"precipitation\": 0.0\\n    },\\n    {\\n        \"date\": \"2017-03-27\",\\n        \"precipitation\": 0.0\\n    },\\n    {\\n        \"date\": \"2017-03-27\",\\n        \"precipitation\": 0.0\\n    },\\n    {\\n        \"date\": \"2017-03-27\",\\n        \"precipitation\": 0.0\\n    },\\n    {\\n        \"date\": \"2017-03-27\",\\n        \"precipitation\": 0.01\\n    },\\n    {\\n        \"date\": \"2017-03-27\",\\n        \"precipitation\": 0.0\\n    },\\n    {\\n        \"date\": \"2017-03-27\",\\n        \"precipitation\": NaN\\n    },\\n    {\\n        \"date\": \"2017-03-28\",\\n        \"precipitation\": 0.03\\n    },\\n    {\\n        \"date\": \"2017-03-28\",\\n        \"precipitation\": 0.0\\n    },\\n    {\\n        \"date\": \"2017-03-28\",\\n        \"precipitation\": 0.0\\n    },\\n    {\\n        \"date\": \"2017-03-28\",\\n        \"precipitation\": 0.0\\n    },\\n    {\\n        \"date\": \"2017-03-28\",\\n        \"precipitation\": NaN\\n    },\\n    {\\n        \"date\": \"2017-03-28\",\\n        \"precipitation\": 0.0\\n    },\\n    {\\n        \"date\": \"2017-03-28\",\\n        \"precipitation\": 0.68\\n    },\\n    {\\n        \"date\": \"2017-03-29\",\\n        \"precipitation\": 0.03\\n    },\\n    {\\n        \"date\": \"2017-03-29\",\\n        \"precipitation\": 0.0\\n    },\\n    {\\n        \"date\": \"2017-03-29\",\\n        \"precipitation\": 0.0\\n    },\\n    {\\n        \"date\": \"2017-03-29\",\\n        \"precipitation\": 0.01\\n    },\\n    {\\n        \"date\": \"2017-03-29\",\\n        \"precipitation\": 0.07\\n    },\\n    {\\n        \"date\": \"2017-03-29\",\\n        \"precipitation\": NaN\\n    },\\n    {\\n        \"date\": \"2017-03-29\",\\n        \"precipitation\": 0.08\\n    },\\n    {\\n        \"date\": \"2017-03-30\",\\n        \"precipitation\": 0.0\\n    },\\n    {\\n        \"date\": \"2017-03-30\",\\n        \"precipitation\": 0.0\\n    },\\n    {\\n        \"date\": \"2017-03-30\",\\n        \"precipitation\": 0.04\\n    },\\n    {\\n        \"date\": \"2017-03-30\",\\n        \"precipitation\": 0.08\\n    },\\n    {\\n        \"date\": \"2017-03-30\",\\n        \"precipitation\": 0.03\\n    },\\n    {\\n        \"date\": \"2017-03-30\",\\n        \"precipitation\": NaN\\n    },\\n    {\\n        \"date\": \"2017-03-31\",\\n        \"precipitation\": 0.01\\n    },\\n    {\\n        \"date\": \"2017-03-31\",\\n        \"precipitation\": 0.0\\n    },\\n    {\\n        \"date\": \"2017-03-31\",\\n        \"precipitation\": 0.0\\n    },\\n    {\\n        \"date\": \"2017-03-31\",\\n        \"precipitation\": NaN\\n    },\\n    {\\n        \"date\": \"2017-03-31\",\\n        \"precipitation\": 0.0\\n    },\\n    {\\n        \"date\": \"2017-03-31\",\\n        \"precipitation\": 0.0\\n    },\\n    {\\n        \"date\": \"2017-03-31\",\\n        \"precipitation\": 0.0\\n    },\\n    {\\n        \"date\": \"2017-04-01\",\\n        \"precipitation\": 0.21\\n    },\\n    {\\n        \"date\": \"2017-04-01\",\\n        \"precipitation\": 0.0\\n    },\\n    {\\n        \"date\": \"2017-04-01\",\\n        \"precipitation\": 0.0\\n    },\\n    {\\n        \"date\": \"2017-04-01\",\\n        \"precipitation\": 0.2\\n    },\\n    {\\n        \"date\": \"2017-04-01\",\\n        \"precipitation\": 0.0\\n    },\\n    {\\n        \"date\": \"2017-04-01\",\\n        \"precipitation\": 0.0\\n    },\\n    {\\n        \"date\": \"2017-04-02\",\\n        \"precipitation\": 0.0\\n    },\\n    {\\n        \"date\": \"2017-04-02\",\\n        \"precipitation\": 0.0\\n    },\\n    {\\n        \"date\": \"2017-04-02\",\\n        \"precipitation\": 0.0\\n    },\\n    {\\n        \"date\": \"2017-04-02\",\\n        \"precipitation\": 0.0\\n    },\\n    {\\n        \"date\": \"2017-04-02\",\\n        \"precipitation\": 0.0\\n    },\\n    {\\n        \"date\": \"2017-04-02\",\\n        \"precipitation\": 0.0\\n    },\\n    {\\n        \"date\": \"2017-04-03\",\\n        \"precipitation\": 0.26\\n    },\\n    {\\n        \"date\": \"2017-04-03\",\\n        \"precipitation\": 0.08\\n    },\\n    {\\n        \"date\": \"2017-04-03\",\\n        \"precipitation\": NaN\\n    },\\n    {\\n        \"date\": \"2017-04-03\",\\n        \"precipitation\": 0.0\\n    },\\n    {\\n        \"date\": \"2017-04-03\",\\n        \"precipitation\": 0.23\\n    },\\n    {\\n        \"date\": \"2017-04-03\",\\n        \"precipitation\": 0.09\\n    },\\n    {\\n        \"date\": \"2017-04-03\",\\n        \"precipitation\": 0.0\\n    },\\n    {\\n        \"date\": \"2017-04-04\",\\n        \"precipitation\": 0.04\\n    },\\n    {\\n        \"date\": \"2017-04-04\",\\n        \"precipitation\": 0.0\\n    },\\n    {\\n        \"date\": \"2017-04-04\",\\n        \"precipitation\": 0.09\\n    },\\n    {\\n        \"date\": \"2017-04-04\",\\n        \"precipitation\": 0.0\\n    },\\n    {\\n        \"date\": \"2017-04-04\",\\n        \"precipitation\": 0.0\\n    },\\n    {\\n        \"date\": \"2017-04-04\",\\n        \"precipitation\": 0.0\\n    },\\n    {\\n        \"date\": \"2017-04-04\",\\n        \"precipitation\": 0.02\\n    },\\n    {\\n        \"date\": \"2017-04-05\",\\n        \"precipitation\": 0.0\\n    },\\n    {\\n        \"date\": \"2017-04-05\",\\n        \"precipitation\": 0.0\\n    },\\n    {\\n        \"date\": \"2017-04-05\",\\n        \"precipitation\": 0.1\\n    },\\n    {\\n        \"date\": \"2017-04-05\",\\n        \"precipitation\": 0.45\\n    },\\n    {\\n        \"date\": \"2017-04-05\",\\n        \"precipitation\": 0.04\\n    },\\n    {\\n        \"date\": \"2017-04-05\",\\n        \"precipitation\": 0.07\\n    },\\n    {\\n        \"date\": \"2017-04-05\",\\n        \"precipitation\": 0.0\\n    },\\n    {\\n        \"date\": \"2017-04-06\",\\n        \"precipitation\": 0.0\\n    },\\n    {\\n        \"date\": \"2017-04-06\",\\n        \"precipitation\": 0.0\\n    },\\n    {\\n        \"date\": \"2017-04-06\",\\n        \"precipitation\": 0.0\\n    },\\n    {\\n        \"date\": \"2017-04-06\",\\n        \"precipitation\": 0.0\\n    },\\n    {\\n        \"date\": \"2017-04-06\",\\n        \"precipitation\": 0.0\\n    },\\n    {\\n        \"date\": \"2017-04-06\",\\n        \"precipitation\": 0.0\\n    },\\n    {\\n        \"date\": \"2017-04-06\",\\n        \"precipitation\": 0.06\\n    },\\n    {\\n        \"date\": \"2017-04-07\",\\n        \"precipitation\": 0.0\\n    },\\n    {\\n        \"date\": \"2017-04-07\",\\n        \"precipitation\": 0.0\\n    },\\n    {\\n        \"date\": \"2017-04-07\",\\n        \"precipitation\": 0.0\\n    },\\n    {\\n        \"date\": \"2017-04-07\",\\n        \"precipitation\": 0.0\\n    },\\n    {\\n        \"date\": \"2017-04-07\",\\n        \"precipitation\": 0.0\\n    },\\n    {\\n        \"date\": \"2017-04-07\",\\n        \"precipitation\": 0.0\\n    },\\n    {\\n        \"date\": \"2017-04-08\",\\n        \"precipitation\": 0.0\\n    },\\n    {\\n        \"date\": \"2017-04-08\",\\n        \"precipitation\": NaN\\n    },\\n    {\\n        \"date\": \"2017-04-08\",\\n        \"precipitation\": 0.0\\n    },\\n    {\\n        \"date\": \"2017-04-08\",\\n        \"precipitation\": 0.0\\n    },\\n    {\\n        \"date\": \"2017-04-09\",\\n        \"precipitation\": 0.0\\n    },\\n    {\\n        \"date\": \"2017-04-09\",\\n        \"precipitation\": 0.0\\n    },\\n    {\\n        \"date\": \"2017-04-09\",\\n        \"precipitation\": 0.0\\n    },\\n    {\\n        \"date\": \"2017-04-09\",\\n        \"precipitation\": NaN\\n    },\\n    {\\n        \"date\": \"2017-04-09\",\\n        \"precipitation\": 0.0\\n    },\\n    {\\n        \"date\": \"2017-04-09\",\\n        \"precipitation\": NaN\\n    },\\n    {\\n        \"date\": \"2017-04-10\",\\n        \"precipitation\": 0.0\\n    },\\n    {\\n        \"date\": \"2017-04-10\",\\n        \"precipitation\": 0.0\\n    },\\n    {\\n        \"date\": \"2017-04-10\",\\n        \"precipitation\": 0.0\\n    },\\n    {\\n        \"date\": \"2017-04-10\",\\n        \"precipitation\": NaN\\n    },\\n    {\\n        \"date\": \"2017-04-10\",\\n        \"precipitation\": 0.01\\n    },\\n    {\\n        \"date\": \"2017-04-10\",\\n        \"precipitation\": 0.01\\n    },\\n    {\\n        \"date\": \"2017-04-10\",\\n        \"precipitation\": 0.0\\n    },\\n    {\\n        \"date\": \"2017-04-11\",\\n        \"precipitation\": 0.03\\n    },\\n    {\\n        \"date\": \"2017-04-11\",\\n        \"precipitation\": 0.0\\n    },\\n    {\\n        \"date\": \"2017-04-11\",\\n        \"precipitation\": 0.03\\n    },\\n    {\\n        \"date\": \"2017-04-11\",\\n        \"precipitation\": 0.16\\n    },\\n    {\\n        \"date\": \"2017-04-11\",\\n        \"precipitation\": 0.0\\n    },\\n    {\\n        \"date\": \"2017-04-11\",\\n        \"precipitation\": 0.25\\n    },\\n    {\\n        \"date\": \"2017-04-11\",\\n        \"precipitation\": NaN\\n    },\\n    {\\n        \"date\": \"2017-04-12\",\\n        \"precipitation\": 0.0\\n    },\\n    {\\n        \"date\": \"2017-04-12\",\\n        \"precipitation\": 0.03\\n    },\\n    {\\n        \"date\": \"2017-04-12\",\\n        \"precipitation\": 0.65\\n    },\\n    {\\n        \"date\": \"2017-04-12\",\\n        \"precipitation\": 0.11\\n    },\\n    {\\n        \"date\": \"2017-04-12\",\\n        \"precipitation\": 0.0\\n    },\\n    {\\n        \"date\": \"2017-04-12\",\\n        \"precipitation\": 0.29\\n    },\\n    {\\n        \"date\": \"2017-04-12\",\\n        \"precipitation\": NaN\\n    },\\n    {\\n        \"date\": \"2017-04-13\",\\n        \"precipitation\": NaN\\n    },\\n    {\\n        \"date\": \"2017-04-13\",\\n        \"precipitation\": 0.23\\n    },\\n    {\\n        \"date\": \"2017-04-13\",\\n        \"precipitation\": 0.27\\n    },\\n    {\\n        \"date\": \"2017-04-13\",\\n        \"precipitation\": 0.0\\n    },\\n    {\\n        \"date\": \"2017-04-13\",\\n        \"precipitation\": 0.59\\n    },\\n    {\\n        \"date\": \"2017-04-13\",\\n        \"precipitation\": 0.0\\n    },\\n    {\\n        \"date\": \"2017-04-13\",\\n        \"precipitation\": 0.0\\n    },\\n    {\\n        \"date\": \"2017-04-14\",\\n        \"precipitation\": 0.36\\n    },\\n    {\\n        \"date\": \"2017-04-14\",\\n        \"precipitation\": 0.69\\n    },\\n    {\\n        \"date\": \"2017-04-14\",\\n        \"precipitation\": 2.3\\n    },\\n    {\\n        \"date\": \"2017-04-14\",\\n        \"precipitation\": 0.26\\n    },\\n    {\\n        \"date\": \"2017-04-14\",\\n        \"precipitation\": 2.82\\n    },\\n    {\\n        \"date\": \"2017-04-14\",\\n        \"precipitation\": 0.29\\n    },\\n    {\\n        \"date\": \"2017-04-15\",\\n        \"precipitation\": 0.9\\n    },\\n    {\\n        \"date\": \"2017-04-15\",\\n        \"precipitation\": 0.01\\n    },\\n    {\\n        \"date\": \"2017-04-15\",\\n        \"precipitation\": 0.0\\n    },\\n    {\\n        \"date\": \"2017-04-15\",\\n        \"precipitation\": 0.38\\n    },\\n    {\\n        \"date\": \"2017-04-15\",\\n        \"precipitation\": 0.45\\n    },\\n    {\\n        \"date\": \"2017-04-16\",\\n        \"precipitation\": 0.49\\n    },\\n    {\\n        \"date\": \"2017-04-16\",\\n        \"precipitation\": 0.47\\n    },\\n    {\\n        \"date\": \"2017-04-16\",\\n        \"precipitation\": 0.11\\n    },\\n    {\\n        \"date\": \"2017-04-16\",\\n        \"precipitation\": 0.0\\n    },\\n    {\\n        \"date\": \"2017-04-16\",\\n        \"precipitation\": 0.0\\n    },\\n    {\\n        \"date\": \"2017-04-17\",\\n        \"precipitation\": 0.3\\n    },\\n    {\\n        \"date\": \"2017-04-17\",\\n        \"precipitation\": 1.3\\n    },\\n    {\\n        \"date\": \"2017-04-17\",\\n        \"precipitation\": 0.41\\n    },\\n    {\\n        \"date\": \"2017-04-17\",\\n        \"precipitation\": NaN\\n    },\\n    {\\n        \"date\": \"2017-04-17\",\\n        \"precipitation\": 0.02\\n    },\\n    {\\n        \"date\": \"2017-04-17\",\\n        \"precipitation\": NaN\\n    },\\n    {\\n        \"date\": \"2017-04-17\",\\n        \"precipitation\": 1.04\\n    },\\n    {\\n        \"date\": \"2017-04-18\",\\n        \"precipitation\": 0.98\\n    },\\n    {\\n        \"date\": \"2017-04-18\",\\n        \"precipitation\": 0.15\\n    },\\n    {\\n        \"date\": \"2017-04-18\",\\n        \"precipitation\": 0.12\\n    },\\n    {\\n        \"date\": \"2017-04-18\",\\n        \"precipitation\": 0.0\\n    },\\n    {\\n        \"date\": \"2017-04-18\",\\n        \"precipitation\": 0.08\\n    },\\n    {\\n        \"date\": \"2017-04-18\",\\n        \"precipitation\": 0.0\\n    },\\n    {\\n        \"date\": \"2017-04-18\",\\n        \"precipitation\": 2.03\\n    },\\n    {\\n        \"date\": \"2017-04-19\",\\n        \"precipitation\": 0.02\\n    },\\n    {\\n        \"date\": \"2017-04-19\",\\n        \"precipitation\": 0.02\\n    },\\n    {\\n        \"date\": \"2017-04-19\",\\n        \"precipitation\": NaN\\n    },\\n    {\\n        \"date\": \"2017-04-19\",\\n        \"precipitation\": 0.02\\n    },\\n    {\\n        \"date\": \"2017-04-19\",\\n        \"precipitation\": 0.14\\n    },\\n    {\\n        \"date\": \"2017-04-19\",\\n        \"precipitation\": 0.0\\n    },\\n    {\\n        \"date\": \"2017-04-19\",\\n        \"precipitation\": 0.0\\n    },\\n    {\\n        \"date\": \"2017-04-20\",\\n        \"precipitation\": 0.05\\n    },\\n    {\\n        \"date\": \"2017-04-20\",\\n        \"precipitation\": 0.0\\n    },\\n    {\\n        \"date\": \"2017-04-20\",\\n        \"precipitation\": 0.0\\n    },\\n    {\\n        \"date\": \"2017-04-20\",\\n        \"precipitation\": 0.35\\n    },\\n    {\\n        \"date\": \"2017-04-20\",\\n        \"precipitation\": 0.33\\n    },\\n    {\\n        \"date\": \"2017-04-20\",\\n        \"precipitation\": NaN\\n    },\\n    {\\n        \"date\": \"2017-04-20\",\\n        \"precipitation\": 0.05\\n    },\\n    {\\n        \"date\": \"2017-04-21\",\\n        \"precipitation\": 1.84\\n    },\\n    {\\n        \"date\": \"2017-04-21\",\\n        \"precipitation\": 1.74\\n    },\\n    {\\n        \"date\": \"2017-04-21\",\\n        \"precipitation\": 0.23\\n    },\\n    {\\n        \"date\": \"2017-04-21\",\\n        \"precipitation\": 2.36\\n    },\\n    {\\n        \"date\": \"2017-04-21\",\\n        \"precipitation\": NaN\\n    },\\n    {\\n        \"date\": \"2017-04-21\",\\n        \"precipitation\": 1.16\\n    },\\n    {\\n        \"date\": \"2017-04-21\",\\n        \"precipitation\": 1.05\\n    },\\n    {\\n        \"date\": \"2017-04-22\",\\n        \"precipitation\": 1.01\\n    },\\n    {\\n        \"date\": \"2017-04-22\",\\n        \"precipitation\": 0.32\\n    },\\n    {\\n        \"date\": \"2017-04-22\",\\n        \"precipitation\": 1.35\\n    },\\n    {\\n        \"date\": \"2017-04-22\",\\n        \"precipitation\": 1.58\\n    },\\n    {\\n        \"date\": \"2017-04-22\",\\n        \"precipitation\": 0.7\\n    },\\n    {\\n        \"date\": \"2017-04-23\",\\n        \"precipitation\": 0.35\\n    },\\n    {\\n        \"date\": \"2017-04-23\",\\n        \"precipitation\": 0.02\\n    },\\n    {\\n        \"date\": \"2017-04-23\",\\n        \"precipitation\": 0.06\\n    },\\n    {\\n        \"date\": \"2017-04-23\",\\n        \"precipitation\": 0.03\\n    },\\n    {\\n        \"date\": \"2017-04-24\",\\n        \"precipitation\": 0.01\\n    },\\n    {\\n        \"date\": \"2017-04-24\",\\n        \"precipitation\": 0.0\\n    },\\n    {\\n        \"date\": \"2017-04-24\",\\n        \"precipitation\": NaN\\n    },\\n    {\\n        \"date\": \"2017-04-24\",\\n        \"precipitation\": NaN\\n    },\\n    {\\n        \"date\": \"2017-04-24\",\\n        \"precipitation\": 0.05\\n    },\\n    {\\n        \"date\": \"2017-04-24\",\\n        \"precipitation\": 0.0\\n    },\\n    {\\n        \"date\": \"2017-04-24\",\\n        \"precipitation\": NaN\\n    },\\n    {\\n        \"date\": \"2017-04-25\",\\n        \"precipitation\": 0.0\\n    },\\n    {\\n        \"date\": \"2017-04-25\",\\n        \"precipitation\": 0.0\\n    },\\n    {\\n        \"date\": \"2017-04-25\",\\n        \"precipitation\": 0.0\\n    },\\n    {\\n        \"date\": \"2017-04-25\",\\n        \"precipitation\": 0.0\\n    },\\n    {\\n        \"date\": \"2017-04-25\",\\n        \"precipitation\": 0.0\\n    },\\n    {\\n        \"date\": \"2017-04-25\",\\n        \"precipitation\": 0.0\\n    },\\n    {\\n        \"date\": \"2017-04-25\",\\n        \"precipitation\": NaN\\n    },\\n    {\\n        \"date\": \"2017-04-26\",\\n        \"precipitation\": 0.0\\n    },\\n    {\\n        \"date\": \"2017-04-26\",\\n        \"precipitation\": 0.0\\n    },\\n    {\\n        \"date\": \"2017-04-26\",\\n        \"precipitation\": 0.01\\n    },\\n    {\\n        \"date\": \"2017-04-26\",\\n        \"precipitation\": 0.14\\n    },\\n    {\\n        \"date\": \"2017-04-26\",\\n        \"precipitation\": 0.22\\n    },\\n    {\\n        \"date\": \"2017-04-26\",\\n        \"precipitation\": 0.02\\n    },\\n    {\\n        \"date\": \"2017-04-27\",\\n        \"precipitation\": 0.11\\n    },\\n    {\\n        \"date\": \"2017-04-27\",\\n        \"precipitation\": 0.0\\n    },\\n    {\\n        \"date\": \"2017-04-27\",\\n        \"precipitation\": 0.19\\n    },\\n    {\\n        \"date\": \"2017-04-27\",\\n        \"precipitation\": 0.1\\n    },\\n    {\\n        \"date\": \"2017-04-27\",\\n        \"precipitation\": NaN\\n    },\\n    {\\n        \"date\": \"2017-04-27\",\\n        \"precipitation\": 0.0\\n    },\\n    {\\n        \"date\": \"2017-04-27\",\\n        \"precipitation\": 0.02\\n    },\\n    {\\n        \"date\": \"2017-04-28\",\\n        \"precipitation\": 2.6\\n    },\\n    {\\n        \"date\": \"2017-04-28\",\\n        \"precipitation\": 0.0\\n    },\\n    {\\n        \"date\": \"2017-04-28\",\\n        \"precipitation\": NaN\\n    },\\n    {\\n        \"date\": \"2017-04-28\",\\n        \"precipitation\": 0.76\\n    },\\n    {\\n        \"date\": \"2017-04-28\",\\n        \"precipitation\": 0.09\\n    },\\n    {\\n        \"date\": \"2017-04-28\",\\n        \"precipitation\": 0.79\\n    },\\n    {\\n        \"date\": \"2017-04-28\",\\n        \"precipitation\": 0.0\\n    },\\n    {\\n        \"date\": \"2017-04-29\",\\n        \"precipitation\": 0.95\\n    },\\n    {\\n        \"date\": \"2017-04-29\",\\n        \"precipitation\": 0.0\\n    },\\n    {\\n        \"date\": \"2017-04-29\",\\n        \"precipitation\": 6.25\\n    },\\n    {\\n        \"date\": \"2017-04-29\",\\n        \"precipitation\": 0.37\\n    },\\n    {\\n        \"date\": \"2017-04-29\",\\n        \"precipitation\": 0.35\\n    },\\n    {\\n        \"date\": \"2017-04-29\",\\n        \"precipitation\": 0.12\\n    },\\n    {\\n        \"date\": \"2017-04-30\",\\n        \"precipitation\": 0.89\\n    },\\n    {\\n        \"date\": \"2017-04-30\",\\n        \"precipitation\": 1.21\\n    },\\n    {\\n        \"date\": \"2017-04-30\",\\n        \"precipitation\": 0.8\\n    },\\n    {\\n        \"date\": \"2017-04-30\",\\n        \"precipitation\": 1.31\\n    },\\n    {\\n        \"date\": \"2017-04-30\",\\n        \"precipitation\": 1.17\\n    },\\n    {\\n        \"date\": \"2017-04-30\",\\n        \"precipitation\": 1.04\\n    },\\n    {\\n        \"date\": \"2017-05-01\",\\n        \"precipitation\": 0.03\\n    },\\n    {\\n        \"date\": \"2017-05-01\",\\n        \"precipitation\": 0.07\\n    },\\n    {\\n        \"date\": \"2017-05-01\",\\n        \"precipitation\": 0.26\\n    },\\n    {\\n        \"date\": \"2017-05-01\",\\n        \"precipitation\": 0.13\\n    },\\n    {\\n        \"date\": \"2017-05-01\",\\n        \"precipitation\": 0.25\\n    },\\n    {\\n        \"date\": \"2017-05-01\",\\n        \"precipitation\": 0.07\\n    },\\n    {\\n        \"date\": \"2017-05-02\",\\n        \"precipitation\": 0.0\\n    },\\n    {\\n        \"date\": \"2017-05-02\",\\n        \"precipitation\": 0.01\\n    },\\n    {\\n        \"date\": \"2017-05-02\",\\n        \"precipitation\": 0.01\\n    },\\n    {\\n        \"date\": \"2017-05-02\",\\n        \"precipitation\": 0.0\\n    },\\n    {\\n        \"date\": \"2017-05-02\",\\n        \"precipitation\": 0.03\\n    },\\n    {\\n        \"date\": \"2017-05-02\",\\n        \"precipitation\": 0.0\\n    },\\n    {\\n        \"date\": \"2017-05-03\",\\n        \"precipitation\": 0.0\\n    },\\n    {\\n        \"date\": \"2017-05-03\",\\n        \"precipitation\": 0.01\\n    },\\n    {\\n        \"date\": \"2017-05-03\",\\n        \"precipitation\": 0.01\\n    },\\n    {\\n        \"date\": \"2017-05-03\",\\n        \"precipitation\": 0.01\\n    },\\n    {\\n        \"date\": \"2017-05-03\",\\n        \"precipitation\": 0.0\\n    },\\n    {\\n        \"date\": \"2017-05-04\",\\n        \"precipitation\": 0.0\\n    },\\n    {\\n        \"date\": \"2017-05-04\",\\n        \"precipitation\": 0.0\\n    },\\n    {\\n        \"date\": \"2017-05-04\",\\n        \"precipitation\": 0.08\\n    },\\n    {\\n        \"date\": \"2017-05-04\",\\n        \"precipitation\": 0.0\\n    },\\n    {\\n        \"date\": \"2017-05-04\",\\n        \"precipitation\": 0.0\\n    },\\n    {\\n        \"date\": \"2017-05-04\",\\n        \"precipitation\": NaN\\n    },\\n    {\\n        \"date\": \"2017-05-05\",\\n        \"precipitation\": 0.0\\n    },\\n    {\\n        \"date\": \"2017-05-05\",\\n        \"precipitation\": 0.1\\n    },\\n    {\\n        \"date\": \"2017-05-05\",\\n        \"precipitation\": 0.28\\n    },\\n    {\\n        \"date\": \"2017-05-05\",\\n        \"precipitation\": 0.0\\n    },\\n    {\\n        \"date\": \"2017-05-05\",\\n        \"precipitation\": 0.0\\n    },\\n    {\\n        \"date\": \"2017-05-05\",\\n        \"precipitation\": 0.0\\n    },\\n    {\\n        \"date\": \"2017-05-06\",\\n        \"precipitation\": 0.0\\n    },\\n    {\\n        \"date\": \"2017-05-06\",\\n        \"precipitation\": 0.0\\n    },\\n    {\\n        \"date\": \"2017-05-06\",\\n        \"precipitation\": 0.0\\n    },\\n    {\\n        \"date\": \"2017-05-06\",\\n        \"precipitation\": 0.0\\n    },\\n    {\\n        \"date\": \"2017-05-06\",\\n        \"precipitation\": 0.0\\n    },\\n    {\\n        \"date\": \"2017-05-06\",\\n        \"precipitation\": 0.06\\n    },\\n    {\\n        \"date\": \"2017-05-07\",\\n        \"precipitation\": 0.0\\n    },\\n    {\\n        \"date\": \"2017-05-07\",\\n        \"precipitation\": 0.02\\n    },\\n    {\\n        \"date\": \"2017-05-07\",\\n        \"precipitation\": 0.07\\n    },\\n    {\\n        \"date\": \"2017-05-07\",\\n        \"precipitation\": 0.0\\n    },\\n    {\\n        \"date\": \"2017-05-07\",\\n        \"precipitation\": 0.03\\n    },\\n    {\\n        \"date\": \"2017-05-08\",\\n        \"precipitation\": 0.73\\n    },\\n    {\\n        \"date\": \"2017-05-08\",\\n        \"precipitation\": 0.22\\n    },\\n    {\\n        \"date\": \"2017-05-08\",\\n        \"precipitation\": 0.0\\n    },\\n    {\\n        \"date\": \"2017-05-08\",\\n        \"precipitation\": 0.95\\n    },\\n    {\\n        \"date\": \"2017-05-08\",\\n        \"precipitation\": 1.11\\n    },\\n    {\\n        \"date\": \"2017-05-08\",\\n        \"precipitation\": 0.0\\n    },\\n    {\\n        \"date\": \"2017-05-09\",\\n        \"precipitation\": 0.68\\n    },\\n    {\\n        \"date\": \"2017-05-09\",\\n        \"precipitation\": 0.52\\n    },\\n    {\\n        \"date\": \"2017-05-09\",\\n        \"precipitation\": 1.58\\n    },\\n    {\\n        \"date\": \"2017-05-09\",\\n        \"precipitation\": 1.62\\n    },\\n    {\\n        \"date\": \"2017-05-09\",\\n        \"precipitation\": 0.23\\n    },\\n    {\\n        \"date\": \"2017-05-10\",\\n        \"precipitation\": 0.05\\n    },\\n    {\\n        \"date\": \"2017-05-10\",\\n        \"precipitation\": 0.55\\n    },\\n    {\\n        \"date\": \"2017-05-10\",\\n        \"precipitation\": 0.06\\n    },\\n    {\\n        \"date\": \"2017-05-10\",\\n        \"precipitation\": 0.0\\n    },\\n    {\\n        \"date\": \"2017-05-10\",\\n        \"precipitation\": 0.0\\n    },\\n    {\\n        \"date\": \"2017-05-10\",\\n        \"precipitation\": 0.2\\n    },\\n    {\\n        \"date\": \"2017-05-11\",\\n        \"precipitation\": 0.44\\n    },\\n    {\\n        \"date\": \"2017-05-11\",\\n        \"precipitation\": 0.0\\n    },\\n    {\\n        \"date\": \"2017-05-11\",\\n        \"precipitation\": 0.12\\n    },\\n    {\\n        \"date\": \"2017-05-11\",\\n        \"precipitation\": 0.01\\n    },\\n    {\\n        \"date\": \"2017-05-11\",\\n        \"precipitation\": 0.03\\n    },\\n    {\\n        \"date\": \"2017-05-12\",\\n        \"precipitation\": 0.0\\n    },\\n    {\\n        \"date\": \"2017-05-12\",\\n        \"precipitation\": 0.1\\n    },\\n    {\\n        \"date\": \"2017-05-12\",\\n        \"precipitation\": 0.0\\n    },\\n    {\\n        \"date\": \"2017-05-12\",\\n        \"precipitation\": 0.04\\n    },\\n    {\\n        \"date\": \"2017-05-12\",\\n        \"precipitation\": 0.02\\n    },\\n    {\\n        \"date\": \"2017-05-12\",\\n        \"precipitation\": NaN\\n    },\\n    {\\n        \"date\": \"2017-05-13\",\\n        \"precipitation\": 0.0\\n    },\\n    {\\n        \"date\": \"2017-05-13\",\\n        \"precipitation\": 0.0\\n    },\\n    {\\n        \"date\": \"2017-05-13\",\\n        \"precipitation\": 0.1\\n    },\\n    {\\n        \"date\": \"2017-05-13\",\\n        \"precipitation\": 0.12\\n    },\\n    {\\n        \"date\": \"2017-05-13\",\\n        \"precipitation\": 0.02\\n    },\\n    {\\n        \"date\": \"2017-05-14\",\\n        \"precipitation\": 0.17\\n    },\\n    {\\n        \"date\": \"2017-05-14\",\\n        \"precipitation\": 0.05\\n    },\\n    {\\n        \"date\": \"2017-05-14\",\\n        \"precipitation\": 0.0\\n    },\\n    {\\n        \"date\": \"2017-05-14\",\\n        \"precipitation\": 0.0\\n    },\\n    {\\n        \"date\": \"2017-05-14\",\\n        \"precipitation\": 1.0\\n    },\\n    {\\n        \"date\": \"2017-05-15\",\\n        \"precipitation\": 0.08\\n    },\\n    {\\n        \"date\": \"2017-05-15\",\\n        \"precipitation\": 0.06\\n    },\\n    {\\n        \"date\": \"2017-05-15\",\\n        \"precipitation\": NaN\\n    },\\n    {\\n        \"date\": \"2017-05-15\",\\n        \"precipitation\": 0.6\\n    },\\n    {\\n        \"date\": \"2017-05-15\",\\n        \"precipitation\": 0.05\\n    },\\n    {\\n        \"date\": \"2017-05-15\",\\n        \"precipitation\": 0.09\\n    },\\n    {\\n        \"date\": \"2017-05-16\",\\n        \"precipitation\": 0.03\\n    },\\n    {\\n        \"date\": \"2017-05-16\",\\n        \"precipitation\": 0.05\\n    },\\n    {\\n        \"date\": \"2017-05-16\",\\n        \"precipitation\": 0.03\\n    },\\n    {\\n        \"date\": \"2017-05-16\",\\n        \"precipitation\": 0.01\\n    },\\n    {\\n        \"date\": \"2017-05-16\",\\n        \"precipitation\": 0.3\\n    },\\n    {\\n        \"date\": \"2017-05-16\",\\n        \"precipitation\": 0.0\\n    },\\n    {\\n        \"date\": \"2017-05-17\",\\n        \"precipitation\": 0.02\\n    },\\n    {\\n        \"date\": \"2017-05-17\",\\n        \"precipitation\": 0.06\\n    },\\n    {\\n        \"date\": \"2017-05-17\",\\n        \"precipitation\": 0.0\\n    },\\n    {\\n        \"date\": \"2017-05-17\",\\n        \"precipitation\": 0.0\\n    },\\n    {\\n        \"date\": \"2017-05-17\",\\n        \"precipitation\": 0.07\\n    },\\n    {\\n        \"date\": \"2017-05-17\",\\n        \"precipitation\": 0.0\\n    },\\n    {\\n        \"date\": \"2017-05-18\",\\n        \"precipitation\": 0.01\\n    },\\n    {\\n        \"date\": \"2017-05-18\",\\n        \"precipitation\": 0.16\\n    },\\n    {\\n        \"date\": \"2017-05-18\",\\n        \"precipitation\": 0.0\\n    },\\n    {\\n        \"date\": \"2017-05-18\",\\n        \"precipitation\": 0.13\\n    },\\n    {\\n        \"date\": \"2017-05-18\",\\n        \"precipitation\": 0.46\\n    },\\n    {\\n        \"date\": \"2017-05-18\",\\n        \"precipitation\": 0.09\\n    },\\n    {\\n        \"date\": \"2017-05-19\",\\n        \"precipitation\": 0.0\\n    },\\n    {\\n        \"date\": \"2017-05-19\",\\n        \"precipitation\": 0.01\\n    },\\n    {\\n        \"date\": \"2017-05-19\",\\n        \"precipitation\": 0.02\\n    },\\n    {\\n        \"date\": \"2017-05-19\",\\n        \"precipitation\": 0.01\\n    },\\n    {\\n        \"date\": \"2017-05-20\",\\n        \"precipitation\": 0.0\\n    },\\n    {\\n        \"date\": \"2017-05-20\",\\n        \"precipitation\": NaN\\n    },\\n    {\\n        \"date\": \"2017-05-20\",\\n        \"precipitation\": NaN\\n    },\\n    {\\n        \"date\": \"2017-05-20\",\\n        \"precipitation\": 0.01\\n    },\\n    {\\n        \"date\": \"2017-05-20\",\\n        \"precipitation\": 0.0\\n    },\\n    {\\n        \"date\": \"2017-05-20\",\\n        \"precipitation\": 0.02\\n    },\\n    {\\n        \"date\": \"2017-05-21\",\\n        \"precipitation\": 0.01\\n    },\\n    {\\n        \"date\": \"2017-05-21\",\\n        \"precipitation\": 0.0\\n    },\\n    {\\n        \"date\": \"2017-05-21\",\\n        \"precipitation\": 0.0\\n    },\\n    {\\n        \"date\": \"2017-05-21\",\\n        \"precipitation\": 0.0\\n    },\\n    {\\n        \"date\": \"2017-05-21\",\\n        \"precipitation\": 0.0\\n    },\\n    {\\n        \"date\": \"2017-05-22\",\\n        \"precipitation\": NaN\\n    },\\n    {\\n        \"date\": \"2017-05-22\",\\n        \"precipitation\": 0.06\\n    },\\n    {\\n        \"date\": \"2017-05-22\",\\n        \"precipitation\": 0.0\\n    },\\n    {\\n        \"date\": \"2017-05-22\",\\n        \"precipitation\": 0.3\\n    },\\n    {\\n        \"date\": \"2017-05-22\",\\n        \"precipitation\": 0.0\\n    },\\n    {\\n        \"date\": \"2017-05-22\",\\n        \"precipitation\": 0.0\\n    },\\n    {\\n        \"date\": \"2017-05-23\",\\n        \"precipitation\": 0.11\\n    },\\n    {\\n        \"date\": \"2017-05-23\",\\n        \"precipitation\": 0.0\\n    },\\n    {\\n        \"date\": \"2017-05-23\",\\n        \"precipitation\": 0.06\\n    },\\n    {\\n        \"date\": \"2017-05-23\",\\n        \"precipitation\": 0.44\\n    },\\n    {\\n        \"date\": \"2017-05-23\",\\n        \"precipitation\": 0.08\\n    },\\n    {\\n        \"date\": \"2017-05-23\",\\n        \"precipitation\": 0.02\\n    },\\n    {\\n        \"date\": \"2017-05-24\",\\n        \"precipitation\": 0.1\\n    },\\n    {\\n        \"date\": \"2017-05-24\",\\n        \"precipitation\": 0.13\\n    },\\n    {\\n        \"date\": \"2017-05-24\",\\n        \"precipitation\": 0.61\\n    },\\n    {\\n        \"date\": \"2017-05-24\",\\n        \"precipitation\": 0.58\\n    },\\n    {\\n        \"date\": \"2017-05-24\",\\n        \"precipitation\": 0.3\\n    },\\n    {\\n        \"date\": \"2017-05-24\",\\n        \"precipitation\": 2.17\\n    },\\n    {\\n        \"date\": \"2017-05-25\",\\n        \"precipitation\": 0.55\\n    },\\n    {\\n        \"date\": \"2017-05-25\",\\n        \"precipitation\": 0.2\\n    },\\n    {\\n        \"date\": \"2017-05-25\",\\n        \"precipitation\": 0.15\\n    },\\n    {\\n        \"date\": \"2017-05-25\",\\n        \"precipitation\": 0.07\\n    },\\n    {\\n        \"date\": \"2017-05-25\",\\n        \"precipitation\": 0.37\\n    },\\n    {\\n        \"date\": \"2017-05-25\",\\n        \"precipitation\": 0.88\\n    },\\n    {\\n        \"date\": \"2017-05-26\",\\n        \"precipitation\": 0.0\\n    },\\n    {\\n        \"date\": \"2017-05-26\",\\n        \"precipitation\": 0.0\\n    },\\n    {\\n        \"date\": \"2017-05-26\",\\n        \"precipitation\": 0.02\\n    },\\n    {\\n        \"date\": \"2017-05-26\",\\n        \"precipitation\": 0.0\\n    },\\n    {\\n        \"date\": \"2017-05-26\",\\n        \"precipitation\": 0.0\\n    },\\n    {\\n        \"date\": \"2017-05-27\",\\n        \"precipitation\": 0.5\\n    },\\n    {\\n        \"date\": \"2017-05-27\",\\n        \"precipitation\": 0.0\\n    },\\n    {\\n        \"date\": \"2017-05-27\",\\n        \"precipitation\": 0.0\\n    },\\n    {\\n        \"date\": \"2017-05-27\",\\n        \"precipitation\": 0.01\\n    },\\n    {\\n        \"date\": \"2017-05-27\",\\n        \"precipitation\": 0.0\\n    },\\n    {\\n        \"date\": \"2017-05-27\",\\n        \"precipitation\": 0.0\\n    },\\n    {\\n        \"date\": \"2017-05-28\",\\n        \"precipitation\": 0.0\\n    },\\n    {\\n        \"date\": \"2017-05-28\",\\n        \"precipitation\": 0.02\\n    },\\n    {\\n        \"date\": \"2017-05-28\",\\n        \"precipitation\": 0.29\\n    },\\n    {\\n        \"date\": \"2017-05-28\",\\n        \"precipitation\": 0.02\\n    },\\n    {\\n        \"date\": \"2017-05-28\",\\n        \"precipitation\": 0.0\\n    },\\n    {\\n        \"date\": \"2017-05-28\",\\n        \"precipitation\": 0.08\\n    },\\n    {\\n        \"date\": \"2017-05-29\",\\n        \"precipitation\": 0.0\\n    },\\n    {\\n        \"date\": \"2017-05-29\",\\n        \"precipitation\": 0.0\\n    },\\n    {\\n        \"date\": \"2017-05-29\",\\n        \"precipitation\": 0.02\\n    },\\n    {\\n        \"date\": \"2017-05-29\",\\n        \"precipitation\": 0.0\\n    },\\n    {\\n        \"date\": \"2017-05-29\",\\n        \"precipitation\": 0.4\\n    },\\n    {\\n        \"date\": \"2017-05-30\",\\n        \"precipitation\": 1.12\\n    },\\n    {\\n        \"date\": \"2017-05-30\",\\n        \"precipitation\": 0.04\\n    },\\n    {\\n        \"date\": \"2017-05-30\",\\n        \"precipitation\": 0.11\\n    },\\n    {\\n        \"date\": \"2017-05-30\",\\n        \"precipitation\": 0.2\\n    },\\n    {\\n        \"date\": \"2017-05-30\",\\n        \"precipitation\": 0.26\\n    },\\n    {\\n        \"date\": \"2017-05-30\",\\n        \"precipitation\": NaN\\n    },\\n    {\\n        \"date\": \"2017-05-31\",\\n        \"precipitation\": 0.02\\n    },\\n    {\\n        \"date\": \"2017-05-31\",\\n        \"precipitation\": 0.25\\n    },\\n    {\\n        \"date\": \"2017-05-31\",\\n        \"precipitation\": 0.0\\n    },\\n    {\\n        \"date\": \"2017-05-31\",\\n        \"precipitation\": 0.0\\n    },\\n    {\\n        \"date\": \"2017-05-31\",\\n        \"precipitation\": 0.1\\n    },\\n    {\\n        \"date\": \"2017-06-01\",\\n        \"precipitation\": 0.01\\n    },\\n    {\\n        \"date\": \"2017-06-01\",\\n        \"precipitation\": 0.0\\n    },\\n    {\\n        \"date\": \"2017-06-01\",\\n        \"precipitation\": 0.03\\n    },\\n    {\\n        \"date\": \"2017-06-01\",\\n        \"precipitation\": 0.0\\n    },\\n    {\\n        \"date\": \"2017-06-01\",\\n        \"precipitation\": 0.0\\n    },\\n    {\\n        \"date\": \"2017-06-01\",\\n        \"precipitation\": 0.0\\n    },\\n    {\\n        \"date\": \"2017-06-02\",\\n        \"precipitation\": 0.0\\n    },\\n    {\\n        \"date\": \"2017-06-02\",\\n        \"precipitation\": 0.09\\n    },\\n    {\\n        \"date\": \"2017-06-02\",\\n        \"precipitation\": 0.1\\n    },\\n    {\\n        \"date\": \"2017-06-02\",\\n        \"precipitation\": NaN\\n    },\\n    {\\n        \"date\": \"2017-06-02\",\\n        \"precipitation\": 0.0\\n    },\\n    {\\n        \"date\": \"2017-06-02\",\\n        \"precipitation\": 0.15\\n    },\\n    {\\n        \"date\": \"2017-06-03\",\\n        \"precipitation\": 0.16\\n    },\\n    {\\n        \"date\": \"2017-06-03\",\\n        \"precipitation\": 0.2\\n    },\\n    {\\n        \"date\": \"2017-06-03\",\\n        \"precipitation\": 0.08\\n    },\\n    {\\n        \"date\": \"2017-06-03\",\\n        \"precipitation\": 0.15\\n    },\\n    {\\n        \"date\": \"2017-06-03\",\\n        \"precipitation\": 0.02\\n    },\\n    {\\n        \"date\": \"2017-06-03\",\\n        \"precipitation\": NaN\\n    },\\n    {\\n        \"date\": \"2017-06-04\",\\n        \"precipitation\": 0.0\\n    },\\n    {\\n        \"date\": \"2017-06-04\",\\n        \"precipitation\": 0.13\\n    },\\n    {\\n        \"date\": \"2017-06-04\",\\n        \"precipitation\": 0.15\\n    },\\n    {\\n        \"date\": \"2017-06-04\",\\n        \"precipitation\": 0.82\\n    },\\n    {\\n        \"date\": \"2017-06-04\",\\n        \"precipitation\": 0.05\\n    },\\n    {\\n        \"date\": \"2017-06-04\",\\n        \"precipitation\": 0.0\\n    },\\n    {\\n        \"date\": \"2017-06-05\",\\n        \"precipitation\": 0.05\\n    },\\n    {\\n        \"date\": \"2017-06-05\",\\n        \"precipitation\": NaN\\n    },\\n    {\\n        \"date\": \"2017-06-05\",\\n        \"precipitation\": 0.0\\n    },\\n    {\\n        \"date\": \"2017-06-05\",\\n        \"precipitation\": 0.0\\n    },\\n    {\\n        \"date\": \"2017-06-05\",\\n        \"precipitation\": 0.02\\n    },\\n    {\\n        \"date\": \"2017-06-05\",\\n        \"precipitation\": 0.01\\n    },\\n    {\\n        \"date\": \"2017-06-05\",\\n        \"precipitation\": 0.0\\n    },\\n    {\\n        \"date\": \"2017-06-06\",\\n        \"precipitation\": 0.0\\n    },\\n    {\\n        \"date\": \"2017-06-06\",\\n        \"precipitation\": 0.0\\n    },\\n    {\\n        \"date\": \"2017-06-06\",\\n        \"precipitation\": 0.0\\n    },\\n    {\\n        \"date\": \"2017-06-06\",\\n        \"precipitation\": 0.0\\n    },\\n    {\\n        \"date\": \"2017-06-06\",\\n        \"precipitation\": 0.0\\n    },\\n    {\\n        \"date\": \"2017-06-06\",\\n        \"precipitation\": NaN\\n    },\\n    {\\n        \"date\": \"2017-06-06\",\\n        \"precipitation\": 0.0\\n    },\\n    {\\n        \"date\": \"2017-06-07\",\\n        \"precipitation\": 0.0\\n    },\\n    {\\n        \"date\": \"2017-06-07\",\\n        \"precipitation\": 0.0\\n    },\\n    {\\n        \"date\": \"2017-06-07\",\\n        \"precipitation\": 0.0\\n    },\\n    {\\n        \"date\": \"2017-06-07\",\\n        \"precipitation\": 0.0\\n    },\\n    {\\n        \"date\": \"2017-06-07\",\\n        \"precipitation\": 0.0\\n    },\\n    {\\n        \"date\": \"2017-06-07\",\\n        \"precipitation\": NaN\\n    },\\n    {\\n        \"date\": \"2017-06-07\",\\n        \"precipitation\": 0.01\\n    },\\n    {\\n        \"date\": \"2017-06-08\",\\n        \"precipitation\": NaN\\n    },\\n    {\\n        \"date\": \"2017-06-08\",\\n        \"precipitation\": 0.0\\n    },\\n    {\\n        \"date\": \"2017-06-08\",\\n        \"precipitation\": 0.0\\n    },\\n    {\\n        \"date\": \"2017-06-08\",\\n        \"precipitation\": 0.0\\n    },\\n    {\\n        \"date\": \"2017-06-08\",\\n        \"precipitation\": 0.01\\n    },\\n    {\\n        \"date\": \"2017-06-08\",\\n        \"precipitation\": 0.02\\n    },\\n    {\\n        \"date\": \"2017-06-08\",\\n        \"precipitation\": 0.0\\n    },\\n    {\\n        \"date\": \"2017-06-09\",\\n        \"precipitation\": 0.0\\n    },\\n    {\\n        \"date\": \"2017-06-09\",\\n        \"precipitation\": 0.0\\n    },\\n    {\\n        \"date\": \"2017-06-09\",\\n        \"precipitation\": 0.0\\n    },\\n    {\\n        \"date\": \"2017-06-09\",\\n        \"precipitation\": NaN\\n    },\\n    {\\n        \"date\": \"2017-06-09\",\\n        \"precipitation\": 0.02\\n    },\\n    {\\n        \"date\": \"2017-06-09\",\\n        \"precipitation\": 0.02\\n    },\\n    {\\n        \"date\": \"2017-06-10\",\\n        \"precipitation\": 0.62\\n    },\\n    {\\n        \"date\": \"2017-06-10\",\\n        \"precipitation\": 0.04\\n    },\\n    {\\n        \"date\": \"2017-06-10\",\\n        \"precipitation\": 0.21\\n    },\\n    {\\n        \"date\": \"2017-06-10\",\\n        \"precipitation\": 0.13\\n    },\\n    {\\n        \"date\": \"2017-06-10\",\\n        \"precipitation\": NaN\\n    },\\n    {\\n        \"date\": \"2017-06-10\",\\n        \"precipitation\": 0.53\\n    },\\n    {\\n        \"date\": \"2017-06-11\",\\n        \"precipitation\": 0.24\\n    },\\n    {\\n        \"date\": \"2017-06-11\",\\n        \"precipitation\": 0.14\\n    },\\n    {\\n        \"date\": \"2017-06-11\",\\n        \"precipitation\": 0.74\\n    },\\n    {\\n        \"date\": \"2017-06-11\",\\n        \"precipitation\": 0.08\\n    },\\n    {\\n        \"date\": \"2017-06-11\",\\n        \"precipitation\": 0.25\\n    },\\n    {\\n        \"date\": \"2017-06-11\",\\n        \"precipitation\": 0.7\\n    },\\n    {\\n        \"date\": \"2017-06-12\",\\n        \"precipitation\": 0.02\\n    },\\n    {\\n        \"date\": \"2017-06-12\",\\n        \"precipitation\": 0.35\\n    },\\n    {\\n        \"date\": \"2017-06-12\",\\n        \"precipitation\": 0.81\\n    },\\n    {\\n        \"date\": \"2017-06-12\",\\n        \"precipitation\": 0.24\\n    },\\n    {\\n        \"date\": \"2017-06-12\",\\n        \"precipitation\": 0.14\\n    },\\n    {\\n        \"date\": \"2017-06-12\",\\n        \"precipitation\": 0.19\\n    },\\n    {\\n        \"date\": \"2017-06-13\",\\n        \"precipitation\": 0.65\\n    },\\n    {\\n        \"date\": \"2017-06-13\",\\n        \"precipitation\": 0.0\\n    },\\n    {\\n        \"date\": \"2017-06-13\",\\n        \"precipitation\": 0.24\\n    },\\n    {\\n        \"date\": \"2017-06-13\",\\n        \"precipitation\": 0.03\\n    },\\n    {\\n        \"date\": \"2017-06-13\",\\n        \"precipitation\": NaN\\n    },\\n    {\\n        \"date\": \"2017-06-13\",\\n        \"precipitation\": 0.1\\n    },\\n    {\\n        \"date\": \"2017-06-13\",\\n        \"precipitation\": 0.36\\n    },\\n    {\\n        \"date\": \"2017-06-14\",\\n        \"precipitation\": 0.0\\n    },\\n    {\\n        \"date\": \"2017-06-14\",\\n        \"precipitation\": 0.22\\n    },\\n    {\\n        \"date\": \"2017-06-14\",\\n        \"precipitation\": 0.06\\n    },\\n    {\\n        \"date\": \"2017-06-14\",\\n        \"precipitation\": 0.81\\n    },\\n    {\\n        \"date\": \"2017-06-14\",\\n        \"precipitation\": 0.27\\n    },\\n    {\\n        \"date\": \"2017-06-14\",\\n        \"precipitation\": NaN\\n    },\\n    {\\n        \"date\": \"2017-06-14\",\\n        \"precipitation\": 0.21\\n    },\\n    {\\n        \"date\": \"2017-06-15\",\\n        \"precipitation\": 1.69\\n    },\\n    {\\n        \"date\": \"2017-06-15\",\\n        \"precipitation\": 0.0\\n    },\\n    {\\n        \"date\": \"2017-06-15\",\\n        \"precipitation\": 0.17\\n    },\\n    {\\n        \"date\": \"2017-06-15\",\\n        \"precipitation\": 0.3\\n    },\\n    {\\n        \"date\": \"2017-06-15\",\\n        \"precipitation\": 0.0\\n    },\\n    {\\n        \"date\": \"2017-06-15\",\\n        \"precipitation\": NaN\\n    },\\n    {\\n        \"date\": \"2017-06-15\",\\n        \"precipitation\": 0.55\\n    },\\n    {\\n        \"date\": \"2017-06-16\",\\n        \"precipitation\": 0.02\\n    },\\n    {\\n        \"date\": \"2017-06-16\",\\n        \"precipitation\": 0.1\\n    },\\n    {\\n        \"date\": \"2017-06-16\",\\n        \"precipitation\": 0.0\\n    },\\n    {\\n        \"date\": \"2017-06-16\",\\n        \"precipitation\": NaN\\n    },\\n    {\\n        \"date\": \"2017-06-16\",\\n        \"precipitation\": 0.06\\n    },\\n    {\\n        \"date\": \"2017-06-16\",\\n        \"precipitation\": 0.02\\n    },\\n    {\\n        \"date\": \"2017-06-16\",\\n        \"precipitation\": 0.0\\n    },\\n    {\\n        \"date\": \"2017-06-17\",\\n        \"precipitation\": 0.07\\n    },\\n    {\\n        \"date\": \"2017-06-17\",\\n        \"precipitation\": 0.02\\n    },\\n    {\\n        \"date\": \"2017-06-17\",\\n        \"precipitation\": 0.0\\n    },\\n    {\\n        \"date\": \"2017-06-17\",\\n        \"precipitation\": 0.1\\n    },\\n    {\\n        \"date\": \"2017-06-17\",\\n        \"precipitation\": 0.35\\n    },\\n    {\\n        \"date\": \"2017-06-17\",\\n        \"precipitation\": 0.0\\n    },\\n    {\\n        \"date\": \"2017-06-18\",\\n        \"precipitation\": 0.7\\n    },\\n    {\\n        \"date\": \"2017-06-18\",\\n        \"precipitation\": 0.24\\n    },\\n    {\\n        \"date\": \"2017-06-18\",\\n        \"precipitation\": 0.05\\n    },\\n    {\\n        \"date\": \"2017-06-18\",\\n        \"precipitation\": 0.18\\n    },\\n    {\\n        \"date\": \"2017-06-18\",\\n        \"precipitation\": 0.25\\n    },\\n    {\\n        \"date\": \"2017-06-18\",\\n        \"precipitation\": 0.0\\n    },\\n    {\\n        \"date\": \"2017-06-19\",\\n        \"precipitation\": 0.19\\n    },\\n    {\\n        \"date\": \"2017-06-19\",\\n        \"precipitation\": 0.4\\n    },\\n    {\\n        \"date\": \"2017-06-19\",\\n        \"precipitation\": 0.0\\n    },\\n    {\\n        \"date\": \"2017-06-19\",\\n        \"precipitation\": 0.01\\n    },\\n    {\\n        \"date\": \"2017-06-19\",\\n        \"precipitation\": NaN\\n    },\\n    {\\n        \"date\": \"2017-06-19\",\\n        \"precipitation\": 0.05\\n    },\\n    {\\n        \"date\": \"2017-06-19\",\\n        \"precipitation\": 0.08\\n    },\\n    {\\n        \"date\": \"2017-06-20\",\\n        \"precipitation\": 0.0\\n    },\\n    {\\n        \"date\": \"2017-06-20\",\\n        \"precipitation\": 0.05\\n    },\\n    {\\n        \"date\": \"2017-06-20\",\\n        \"precipitation\": 0.31\\n    },\\n    {\\n        \"date\": \"2017-06-20\",\\n        \"precipitation\": 0.17\\n    },\\n    {\\n        \"date\": \"2017-06-20\",\\n        \"precipitation\": NaN\\n    },\\n    {\\n        \"date\": \"2017-06-20\",\\n        \"precipitation\": 0.02\\n    },\\n    {\\n        \"date\": \"2017-06-21\",\\n        \"precipitation\": NaN\\n    },\\n    {\\n        \"date\": \"2017-06-21\",\\n        \"precipitation\": 0.0\\n    },\\n    {\\n        \"date\": \"2017-06-21\",\\n        \"precipitation\": NaN\\n    },\\n    {\\n        \"date\": \"2017-06-21\",\\n        \"precipitation\": 0.3\\n    },\\n    {\\n        \"date\": \"2017-06-21\",\\n        \"precipitation\": 0.19\\n    },\\n    {\\n        \"date\": \"2017-06-21\",\\n        \"precipitation\": 0.02\\n    },\\n    {\\n        \"date\": \"2017-06-22\",\\n        \"precipitation\": 0.28\\n    },\\n    {\\n        \"date\": \"2017-06-22\",\\n        \"precipitation\": 0.0\\n    },\\n    {\\n        \"date\": \"2017-06-22\",\\n        \"precipitation\": 0.1\\n    },\\n    {\\n        \"date\": \"2017-06-22\",\\n        \"precipitation\": 0.0\\n    },\\n    {\\n        \"date\": \"2017-06-22\",\\n        \"precipitation\": 0.0\\n    },\\n    {\\n        \"date\": \"2017-06-22\",\\n        \"precipitation\": 0.06\\n    },\\n    {\\n        \"date\": \"2017-06-23\",\\n        \"precipitation\": 0.5\\n    },\\n    {\\n        \"date\": \"2017-06-23\",\\n        \"precipitation\": 0.05\\n    },\\n    {\\n        \"date\": \"2017-06-23\",\\n        \"precipitation\": 0.0\\n    },\\n    {\\n        \"date\": \"2017-06-23\",\\n        \"precipitation\": NaN\\n    },\\n    {\\n        \"date\": \"2017-06-23\",\\n        \"precipitation\": 0.12\\n    },\\n    {\\n        \"date\": \"2017-06-23\",\\n        \"precipitation\": 0.0\\n    },\\n    {\\n        \"date\": \"2017-06-23\",\\n        \"precipitation\": 0.0\\n    },\\n    {\\n        \"date\": \"2017-06-24\",\\n        \"precipitation\": 0.22\\n    },\\n    {\\n        \"date\": \"2017-06-24\",\\n        \"precipitation\": 0.0\\n    },\\n    {\\n        \"date\": \"2017-06-24\",\\n        \"precipitation\": 0.06\\n    },\\n    {\\n        \"date\": \"2017-06-24\",\\n        \"precipitation\": 0.0\\n    },\\n    {\\n        \"date\": \"2017-06-24\",\\n        \"precipitation\": 0.36\\n    },\\n    {\\n        \"date\": \"2017-06-25\",\\n        \"precipitation\": 0.08\\n    },\\n    {\\n        \"date\": \"2017-06-25\",\\n        \"precipitation\": 0.0\\n    },\\n    {\\n        \"date\": \"2017-06-25\",\\n        \"precipitation\": 0.0\\n    },\\n    {\\n        \"date\": \"2017-06-25\",\\n        \"precipitation\": 0.5\\n    },\\n    {\\n        \"date\": \"2017-06-25\",\\n        \"precipitation\": 0.02\\n    },\\n    {\\n        \"date\": \"2017-06-26\",\\n        \"precipitation\": NaN\\n    },\\n    {\\n        \"date\": \"2017-06-26\",\\n        \"precipitation\": 0.02\\n    },\\n    {\\n        \"date\": \"2017-06-26\",\\n        \"precipitation\": NaN\\n    },\\n    {\\n        \"date\": \"2017-06-26\",\\n        \"precipitation\": 0.02\\n    },\\n    {\\n        \"date\": \"2017-06-26\",\\n        \"precipitation\": 0.0\\n    },\\n    {\\n        \"date\": \"2017-06-26\",\\n        \"precipitation\": 0.06\\n    },\\n    {\\n        \"date\": \"2017-06-26\",\\n        \"precipitation\": 0.0\\n    },\\n    {\\n        \"date\": \"2017-06-27\",\\n        \"precipitation\": 0.1\\n    },\\n    {\\n        \"date\": \"2017-06-27\",\\n        \"precipitation\": 0.0\\n    },\\n    {\\n        \"date\": \"2017-06-27\",\\n        \"precipitation\": 0.0\\n    },\\n    {\\n        \"date\": \"2017-06-27\",\\n        \"precipitation\": 0.0\\n    },\\n    {\\n        \"date\": \"2017-06-27\",\\n        \"precipitation\": 0.01\\n    },\\n    {\\n        \"date\": \"2017-06-27\",\\n        \"precipitation\": 0.0\\n    },\\n    {\\n        \"date\": \"2017-06-28\",\\n        \"precipitation\": 0.0\\n    },\\n    {\\n        \"date\": \"2017-06-28\",\\n        \"precipitation\": 0.02\\n    },\\n    {\\n        \"date\": \"2017-06-28\",\\n        \"precipitation\": 0.0\\n    },\\n    {\\n        \"date\": \"2017-06-28\",\\n        \"precipitation\": 0.01\\n    },\\n    {\\n        \"date\": \"2017-06-28\",\\n        \"precipitation\": 0.0\\n    },\\n    {\\n        \"date\": \"2017-06-28\",\\n        \"precipitation\": 0.0\\n    },\\n    {\\n        \"date\": \"2017-06-29\",\\n        \"precipitation\": 0.04\\n    },\\n    {\\n        \"date\": \"2017-06-29\",\\n        \"precipitation\": 0.0\\n    },\\n    {\\n        \"date\": \"2017-06-29\",\\n        \"precipitation\": 0.0\\n    },\\n    {\\n        \"date\": \"2017-06-29\",\\n        \"precipitation\": 0.03\\n    },\\n    {\\n        \"date\": \"2017-06-29\",\\n        \"precipitation\": 0.0\\n    },\\n    {\\n        \"date\": \"2017-06-29\",\\n        \"precipitation\": NaN\\n    },\\n    {\\n        \"date\": \"2017-06-29\",\\n        \"precipitation\": 0.0\\n    },\\n    {\\n        \"date\": \"2017-06-30\",\\n        \"precipitation\": 0.07\\n    },\\n    {\\n        \"date\": \"2017-06-30\",\\n        \"precipitation\": 0.01\\n    },\\n    {\\n        \"date\": \"2017-06-30\",\\n        \"precipitation\": 0.04\\n    },\\n    {\\n        \"date\": \"2017-06-30\",\\n        \"precipitation\": 0.0\\n    },\\n    {\\n        \"date\": \"2017-06-30\",\\n        \"precipitation\": 0.12\\n    },\\n    {\\n        \"date\": \"2017-06-30\",\\n        \"precipitation\": 0.2\\n    },\\n    {\\n        \"date\": \"2017-06-30\",\\n        \"precipitation\": 0.08\\n    },\\n    {\\n        \"date\": \"2017-07-01\",\\n        \"precipitation\": 0.06\\n    },\\n    {\\n        \"date\": \"2017-07-01\",\\n        \"precipitation\": 0.1\\n    },\\n    {\\n        \"date\": \"2017-07-01\",\\n        \"precipitation\": 0.08\\n    },\\n    {\\n        \"date\": \"2017-07-01\",\\n        \"precipitation\": 0.02\\n    },\\n    {\\n        \"date\": \"2017-07-02\",\\n        \"precipitation\": NaN\\n    },\\n    {\\n        \"date\": \"2017-07-02\",\\n        \"precipitation\": 0.05\\n    },\\n    {\\n        \"date\": \"2017-07-02\",\\n        \"precipitation\": 0.02\\n    },\\n    {\\n        \"date\": \"2017-07-02\",\\n        \"precipitation\": 0.15\\n    },\\n    {\\n        \"date\": \"2017-07-02\",\\n        \"precipitation\": 0.5\\n    },\\n    {\\n        \"date\": \"2017-07-03\",\\n        \"precipitation\": 0.4\\n    },\\n    {\\n        \"date\": \"2017-07-03\",\\n        \"precipitation\": NaN\\n    },\\n    {\\n        \"date\": \"2017-07-03\",\\n        \"precipitation\": 0.13\\n    },\\n    {\\n        \"date\": \"2017-07-03\",\\n        \"precipitation\": 0.15\\n    },\\n    {\\n        \"date\": \"2017-07-03\",\\n        \"precipitation\": 0.02\\n    },\\n    {\\n        \"date\": \"2017-07-03\",\\n        \"precipitation\": NaN\\n    },\\n    {\\n        \"date\": \"2017-07-03\",\\n        \"precipitation\": 0.04\\n    },\\n    {\\n        \"date\": \"2017-07-04\",\\n        \"precipitation\": 0.0\\n    },\\n    {\\n        \"date\": \"2017-07-04\",\\n        \"precipitation\": 0.08\\n    },\\n    {\\n        \"date\": \"2017-07-04\",\\n        \"precipitation\": 0.04\\n    },\\n    {\\n        \"date\": \"2017-07-04\",\\n        \"precipitation\": 0.03\\n    },\\n    {\\n        \"date\": \"2017-07-05\",\\n        \"precipitation\": NaN\\n    },\\n    {\\n        \"date\": \"2017-07-05\",\\n        \"precipitation\": 0.0\\n    },\\n    {\\n        \"date\": \"2017-07-05\",\\n        \"precipitation\": 0.0\\n    },\\n    {\\n        \"date\": \"2017-07-05\",\\n        \"precipitation\": 0.0\\n    },\\n    {\\n        \"date\": \"2017-07-05\",\\n        \"precipitation\": 0.0\\n    },\\n    {\\n        \"date\": \"2017-07-05\",\\n        \"precipitation\": NaN\\n    },\\n    {\\n        \"date\": \"2017-07-05\",\\n        \"precipitation\": NaN\\n    },\\n    {\\n        \"date\": \"2017-07-06\",\\n        \"precipitation\": 0.0\\n    },\\n    {\\n        \"date\": \"2017-07-06\",\\n        \"precipitation\": 0.0\\n    },\\n    {\\n        \"date\": \"2017-07-06\",\\n        \"precipitation\": 0.02\\n    },\\n    {\\n        \"date\": \"2017-07-06\",\\n        \"precipitation\": 0.0\\n    },\\n    {\\n        \"date\": \"2017-07-06\",\\n        \"precipitation\": NaN\\n    },\\n    {\\n        \"date\": \"2017-07-06\",\\n        \"precipitation\": 0.0\\n    },\\n    {\\n        \"date\": \"2017-07-07\",\\n        \"precipitation\": 0.02\\n    },\\n    {\\n        \"date\": \"2017-07-07\",\\n        \"precipitation\": 0.3\\n    },\\n    {\\n        \"date\": \"2017-07-07\",\\n        \"precipitation\": NaN\\n    },\\n    {\\n        \"date\": \"2017-07-07\",\\n        \"precipitation\": 0.18\\n    },\\n    {\\n        \"date\": \"2017-07-07\",\\n        \"precipitation\": NaN\\n    },\\n    {\\n        \"date\": \"2017-07-07\",\\n        \"precipitation\": 0.0\\n    },\\n    {\\n        \"date\": \"2017-07-07\",\\n        \"precipitation\": 0.0\\n    },\\n    {\\n        \"date\": \"2017-07-08\",\\n        \"precipitation\": 0.0\\n    },\\n    {\\n        \"date\": \"2017-07-08\",\\n        \"precipitation\": 0.02\\n    },\\n    {\\n        \"date\": \"2017-07-08\",\\n        \"precipitation\": 0.0\\n    },\\n    {\\n        \"date\": \"2017-07-08\",\\n        \"precipitation\": 0.0\\n    },\\n    {\\n        \"date\": \"2017-07-08\",\\n        \"precipitation\": 0.02\\n    },\\n    {\\n        \"date\": \"2017-07-08\",\\n        \"precipitation\": 0.06\\n    },\\n    {\\n        \"date\": \"2017-07-09\",\\n        \"precipitation\": 0.0\\n    },\\n    {\\n        \"date\": \"2017-07-09\",\\n        \"precipitation\": 0.0\\n    },\\n    {\\n        \"date\": \"2017-07-09\",\\n        \"precipitation\": 0.0\\n    },\\n    {\\n        \"date\": \"2017-07-09\",\\n        \"precipitation\": 0.09\\n    },\\n    {\\n        \"date\": \"2017-07-09\",\\n        \"precipitation\": 0.0\\n    },\\n    {\\n        \"date\": \"2017-07-09\",\\n        \"precipitation\": 0.11\\n    },\\n    {\\n        \"date\": \"2017-07-10\",\\n        \"precipitation\": 0.0\\n    },\\n    {\\n        \"date\": \"2017-07-10\",\\n        \"precipitation\": 0.0\\n    },\\n    {\\n        \"date\": \"2017-07-10\",\\n        \"precipitation\": 0.02\\n    },\\n    {\\n        \"date\": \"2017-07-10\",\\n        \"precipitation\": 0.0\\n    },\\n    {\\n        \"date\": \"2017-07-10\",\\n        \"precipitation\": NaN\\n    },\\n    {\\n        \"date\": \"2017-07-10\",\\n        \"precipitation\": 0.02\\n    },\\n    {\\n        \"date\": \"2017-07-10\",\\n        \"precipitation\": 0.0\\n    },\\n    {\\n        \"date\": \"2017-07-11\",\\n        \"precipitation\": 0.02\\n    },\\n    {\\n        \"date\": \"2017-07-11\",\\n        \"precipitation\": 0.01\\n    },\\n    {\\n        \"date\": \"2017-07-11\",\\n        \"precipitation\": 0.0\\n    },\\n    {\\n        \"date\": \"2017-07-11\",\\n        \"precipitation\": 0.0\\n    },\\n    {\\n        \"date\": \"2017-07-11\",\\n        \"precipitation\": 0.0\\n    },\\n    {\\n        \"date\": \"2017-07-11\",\\n        \"precipitation\": 0.0\\n    },\\n    {\\n        \"date\": \"2017-07-11\",\\n        \"precipitation\": NaN\\n    },\\n    {\\n        \"date\": \"2017-07-12\",\\n        \"precipitation\": 0.05\\n    },\\n    {\\n        \"date\": \"2017-07-12\",\\n        \"precipitation\": NaN\\n    },\\n    {\\n        \"date\": \"2017-07-12\",\\n        \"precipitation\": 0.02\\n    },\\n    {\\n        \"date\": \"2017-07-12\",\\n        \"precipitation\": 0.01\\n    },\\n    {\\n        \"date\": \"2017-07-12\",\\n        \"precipitation\": 0.28\\n    },\\n    {\\n        \"date\": \"2017-07-12\",\\n        \"precipitation\": 0.0\\n    },\\n    {\\n        \"date\": \"2017-07-12\",\\n        \"precipitation\": 0.0\\n    },\\n    {\\n        \"date\": \"2017-07-13\",\\n        \"precipitation\": 0.33\\n    },\\n    {\\n        \"date\": \"2017-07-13\",\\n        \"precipitation\": 0.3\\n    },\\n    {\\n        \"date\": \"2017-07-13\",\\n        \"precipitation\": 0.11\\n    },\\n    {\\n        \"date\": \"2017-07-13\",\\n        \"precipitation\": 0.07\\n    },\\n    {\\n        \"date\": \"2017-07-13\",\\n        \"precipitation\": 0.32\\n    },\\n    {\\n        \"date\": \"2017-07-13\",\\n        \"precipitation\": NaN\\n    },\\n    {\\n        \"date\": \"2017-07-13\",\\n        \"precipitation\": 0.68\\n    },\\n    {\\n        \"date\": \"2017-07-14\",\\n        \"precipitation\": 0.0\\n    },\\n    {\\n        \"date\": \"2017-07-14\",\\n        \"precipitation\": 0.68\\n    },\\n    {\\n        \"date\": \"2017-07-14\",\\n        \"precipitation\": 0.02\\n    },\\n    {\\n        \"date\": \"2017-07-14\",\\n        \"precipitation\": 0.0\\n    },\\n    {\\n        \"date\": \"2017-07-14\",\\n        \"precipitation\": 0.05\\n    },\\n    {\\n        \"date\": \"2017-07-14\",\\n        \"precipitation\": 0.2\\n    },\\n    {\\n        \"date\": \"2017-07-15\",\\n        \"precipitation\": 0.0\\n    },\\n    {\\n        \"date\": \"2017-07-15\",\\n        \"precipitation\": 0.01\\n    },\\n    {\\n        \"date\": \"2017-07-15\",\\n        \"precipitation\": 0.03\\n    },\\n    {\\n        \"date\": \"2017-07-15\",\\n        \"precipitation\": 0.1\\n    },\\n    {\\n        \"date\": \"2017-07-15\",\\n        \"precipitation\": 0.0\\n    },\\n    {\\n        \"date\": \"2017-07-15\",\\n        \"precipitation\": 0.05\\n    },\\n    {\\n        \"date\": \"2017-07-16\",\\n        \"precipitation\": 0.5\\n    },\\n    {\\n        \"date\": \"2017-07-16\",\\n        \"precipitation\": 0.07\\n    },\\n    {\\n        \"date\": \"2017-07-16\",\\n        \"precipitation\": 0.02\\n    },\\n    {\\n        \"date\": \"2017-07-16\",\\n        \"precipitation\": 0.1\\n    },\\n    {\\n        \"date\": \"2017-07-16\",\\n        \"precipitation\": 0.12\\n    },\\n    {\\n        \"date\": \"2017-07-16\",\\n        \"precipitation\": 0.0\\n    },\\n    {\\n        \"date\": \"2017-07-17\",\\n        \"precipitation\": 0.12\\n    },\\n    {\\n        \"date\": \"2017-07-17\",\\n        \"precipitation\": 0.21\\n    },\\n    {\\n        \"date\": \"2017-07-17\",\\n        \"precipitation\": 0.0\\n    },\\n    {\\n        \"date\": \"2017-07-17\",\\n        \"precipitation\": 0.16\\n    },\\n    {\\n        \"date\": \"2017-07-17\",\\n        \"precipitation\": 0.03\\n    },\\n    {\\n        \"date\": \"2017-07-17\",\\n        \"precipitation\": 0.39\\n    },\\n    {\\n        \"date\": \"2017-07-18\",\\n        \"precipitation\": 0.0\\n    },\\n    {\\n        \"date\": \"2017-07-18\",\\n        \"precipitation\": 0.05\\n    },\\n    {\\n        \"date\": \"2017-07-18\",\\n        \"precipitation\": 0.0\\n    },\\n    {\\n        \"date\": \"2017-07-18\",\\n        \"precipitation\": 0.05\\n    },\\n    {\\n        \"date\": \"2017-07-18\",\\n        \"precipitation\": 0.0\\n    },\\n    {\\n        \"date\": \"2017-07-18\",\\n        \"precipitation\": 0.03\\n    },\\n    {\\n        \"date\": \"2017-07-18\",\\n        \"precipitation\": 2.4\\n    },\\n    {\\n        \"date\": \"2017-07-19\",\\n        \"precipitation\": 0.05\\n    },\\n    {\\n        \"date\": \"2017-07-19\",\\n        \"precipitation\": 0.0\\n    },\\n    {\\n        \"date\": \"2017-07-19\",\\n        \"precipitation\": 0.09\\n    },\\n    {\\n        \"date\": \"2017-07-19\",\\n        \"precipitation\": 0.27\\n    },\\n    {\\n        \"date\": \"2017-07-19\",\\n        \"precipitation\": 0.0\\n    },\\n    {\\n        \"date\": \"2017-07-19\",\\n        \"precipitation\": 0.0\\n    },\\n    {\\n        \"date\": \"2017-07-20\",\\n        \"precipitation\": 0.7\\n    },\\n    {\\n        \"date\": \"2017-07-20\",\\n        \"precipitation\": 0.0\\n    },\\n    {\\n        \"date\": \"2017-07-20\",\\n        \"precipitation\": 0.0\\n    },\\n    {\\n        \"date\": \"2017-07-20\",\\n        \"precipitation\": 0.12\\n    },\\n    {\\n        \"date\": \"2017-07-20\",\\n        \"precipitation\": 0.03\\n    },\\n    {\\n        \"date\": \"2017-07-20\",\\n        \"precipitation\": 0.33\\n    },\\n    {\\n        \"date\": \"2017-07-20\",\\n        \"precipitation\": 0.06\\n    },\\n    {\\n        \"date\": \"2017-07-21\",\\n        \"precipitation\": 0.03\\n    },\\n    {\\n        \"date\": \"2017-07-21\",\\n        \"precipitation\": 0.0\\n    },\\n    {\\n        \"date\": \"2017-07-21\",\\n        \"precipitation\": 0.0\\n    },\\n    {\\n        \"date\": \"2017-07-21\",\\n        \"precipitation\": 0.1\\n    },\\n    {\\n        \"date\": \"2017-07-21\",\\n        \"precipitation\": 0.0\\n    },\\n    {\\n        \"date\": \"2017-07-21\",\\n        \"precipitation\": 0.0\\n    },\\n    {\\n        \"date\": \"2017-07-21\",\\n        \"precipitation\": 0.0\\n    },\\n    {\\n        \"date\": \"2017-07-22\",\\n        \"precipitation\": 0.2\\n    },\\n    {\\n        \"date\": \"2017-07-22\",\\n        \"precipitation\": 0.0\\n    },\\n    {\\n        \"date\": \"2017-07-22\",\\n        \"precipitation\": 0.07\\n    },\\n    {\\n        \"date\": \"2017-07-22\",\\n        \"precipitation\": 4.0\\n    },\\n    {\\n        \"date\": \"2017-07-22\",\\n        \"precipitation\": 0.12\\n    },\\n    {\\n        \"date\": \"2017-07-22\",\\n        \"precipitation\": 0.03\\n    },\\n    {\\n        \"date\": \"2017-07-23\",\\n        \"precipitation\": 0.07\\n    },\\n    {\\n        \"date\": \"2017-07-23\",\\n        \"precipitation\": 0.2\\n    },\\n    {\\n        \"date\": \"2017-07-23\",\\n        \"precipitation\": 0.06\\n    },\\n    {\\n        \"date\": \"2017-07-23\",\\n        \"precipitation\": 0.0\\n    },\\n    {\\n        \"date\": \"2017-07-23\",\\n        \"precipitation\": 0.8\\n    },\\n    {\\n        \"date\": \"2017-07-24\",\\n        \"precipitation\": 0.84\\n    },\\n    {\\n        \"date\": \"2017-07-24\",\\n        \"precipitation\": 1.19\\n    },\\n    {\\n        \"date\": \"2017-07-24\",\\n        \"precipitation\": 0.58\\n    },\\n    {\\n        \"date\": \"2017-07-24\",\\n        \"precipitation\": 0.05\\n    },\\n    {\\n        \"date\": \"2017-07-24\",\\n        \"precipitation\": 0.61\\n    },\\n    {\\n        \"date\": \"2017-07-24\",\\n        \"precipitation\": NaN\\n    },\\n    {\\n        \"date\": \"2017-07-25\",\\n        \"precipitation\": 0.05\\n    },\\n    {\\n        \"date\": \"2017-07-25\",\\n        \"precipitation\": 0.03\\n    },\\n    {\\n        \"date\": \"2017-07-25\",\\n        \"precipitation\": 0.12\\n    },\\n    {\\n        \"date\": \"2017-07-25\",\\n        \"precipitation\": 0.3\\n    },\\n    {\\n        \"date\": \"2017-07-25\",\\n        \"precipitation\": 0.0\\n    },\\n    {\\n        \"date\": \"2017-07-25\",\\n        \"precipitation\": 0.11\\n    },\\n    {\\n        \"date\": \"2017-07-25\",\\n        \"precipitation\": 0.0\\n    },\\n    {\\n        \"date\": \"2017-07-26\",\\n        \"precipitation\": 0.3\\n    },\\n    {\\n        \"date\": \"2017-07-26\",\\n        \"precipitation\": 0.06\\n    },\\n    {\\n        \"date\": \"2017-07-26\",\\n        \"precipitation\": 0.0\\n    },\\n    {\\n        \"date\": \"2017-07-26\",\\n        \"precipitation\": 0.12\\n    },\\n    {\\n        \"date\": \"2017-07-26\",\\n        \"precipitation\": 0.02\\n    },\\n    {\\n        \"date\": \"2017-07-26\",\\n        \"precipitation\": 0.0\\n    },\\n    {\\n        \"date\": \"2017-07-26\",\\n        \"precipitation\": NaN\\n    },\\n    {\\n        \"date\": \"2017-07-27\",\\n        \"precipitation\": 0.0\\n    },\\n    {\\n        \"date\": \"2017-07-27\",\\n        \"precipitation\": 0.0\\n    },\\n    {\\n        \"date\": \"2017-07-27\",\\n        \"precipitation\": 0.0\\n    },\\n    {\\n        \"date\": \"2017-07-27\",\\n        \"precipitation\": NaN\\n    },\\n    {\\n        \"date\": \"2017-07-27\",\\n        \"precipitation\": 0.01\\n    },\\n    {\\n        \"date\": \"2017-07-27\",\\n        \"precipitation\": 0.0\\n    },\\n    {\\n        \"date\": \"2017-07-27\",\\n        \"precipitation\": 0.0\\n    },\\n    {\\n        \"date\": \"2017-07-28\",\\n        \"precipitation\": 0.13\\n    },\\n    {\\n        \"date\": \"2017-07-28\",\\n        \"precipitation\": 0.4\\n    },\\n    {\\n        \"date\": \"2017-07-28\",\\n        \"precipitation\": 0.0\\n    },\\n    {\\n        \"date\": \"2017-07-28\",\\n        \"precipitation\": 0.14\\n    },\\n    {\\n        \"date\": \"2017-07-28\",\\n        \"precipitation\": 0.09\\n    },\\n    {\\n        \"date\": \"2017-07-28\",\\n        \"precipitation\": 0.0\\n    },\\n    {\\n        \"date\": \"2017-07-28\",\\n        \"precipitation\": 0.01\\n    },\\n    {\\n        \"date\": \"2017-07-29\",\\n        \"precipitation\": 0.02\\n    },\\n    {\\n        \"date\": \"2017-07-29\",\\n        \"precipitation\": 0.06\\n    },\\n    {\\n        \"date\": \"2017-07-29\",\\n        \"precipitation\": 0.23\\n    },\\n    {\\n        \"date\": \"2017-07-29\",\\n        \"precipitation\": 0.0\\n    },\\n    {\\n        \"date\": \"2017-07-29\",\\n        \"precipitation\": 0.3\\n    },\\n    {\\n        \"date\": \"2017-07-29\",\\n        \"precipitation\": 0.0\\n    },\\n    {\\n        \"date\": \"2017-07-30\",\\n        \"precipitation\": 0.3\\n    },\\n    {\\n        \"date\": \"2017-07-30\",\\n        \"precipitation\": 0.0\\n    },\\n    {\\n        \"date\": \"2017-07-30\",\\n        \"precipitation\": 0.0\\n    },\\n    {\\n        \"date\": \"2017-07-30\",\\n        \"precipitation\": 0.0\\n    },\\n    {\\n        \"date\": \"2017-07-30\",\\n        \"precipitation\": 0.0\\n    },\\n    {\\n        \"date\": \"2017-07-31\",\\n        \"precipitation\": 0.0\\n    },\\n    {\\n        \"date\": \"2017-07-31\",\\n        \"precipitation\": 0.0\\n    },\\n    {\\n        \"date\": \"2017-07-31\",\\n        \"precipitation\": 0.0\\n    },\\n    {\\n        \"date\": \"2017-07-31\",\\n        \"precipitation\": NaN\\n    },\\n    {\\n        \"date\": \"2017-07-31\",\\n        \"precipitation\": 0.0\\n    },\\n    {\\n        \"date\": \"2017-07-31\",\\n        \"precipitation\": NaN\\n    },\\n    {\\n        \"date\": \"2017-07-31\",\\n        \"precipitation\": 0.0\\n    },\\n    {\\n        \"date\": \"2017-08-01\",\\n        \"precipitation\": 0.02\\n    },\\n    {\\n        \"date\": \"2017-08-01\",\\n        \"precipitation\": NaN\\n    },\\n    {\\n        \"date\": \"2017-08-01\",\\n        \"precipitation\": 0.12\\n    },\\n    {\\n        \"date\": \"2017-08-01\",\\n        \"precipitation\": 0.0\\n    },\\n    {\\n        \"date\": \"2017-08-02\",\\n        \"precipitation\": 0.0\\n    },\\n    {\\n        \"date\": \"2017-08-02\",\\n        \"precipitation\": 0.25\\n    },\\n    {\\n        \"date\": \"2017-08-02\",\\n        \"precipitation\": 0.05\\n    },\\n    {\\n        \"date\": \"2017-08-02\",\\n        \"precipitation\": 0.0\\n    },\\n    {\\n        \"date\": \"2017-08-03\",\\n        \"precipitation\": 0.01\\n    },\\n    {\\n        \"date\": \"2017-08-03\",\\n        \"precipitation\": 0.0\\n    },\\n    {\\n        \"date\": \"2017-08-03\",\\n        \"precipitation\": 0.06\\n    },\\n    {\\n        \"date\": \"2017-08-03\",\\n        \"precipitation\": 0.0\\n    },\\n    {\\n        \"date\": \"2017-08-04\",\\n        \"precipitation\": 0.0\\n    },\\n    {\\n        \"date\": \"2017-08-04\",\\n        \"precipitation\": 0.04\\n    },\\n    {\\n        \"date\": \"2017-08-04\",\\n        \"precipitation\": 0.0\\n    },\\n    {\\n        \"date\": \"2017-08-04\",\\n        \"precipitation\": 0.02\\n    },\\n    {\\n        \"date\": \"2017-08-05\",\\n        \"precipitation\": NaN\\n    },\\n    {\\n        \"date\": \"2017-08-05\",\\n        \"precipitation\": 0.0\\n    },\\n    {\\n        \"date\": \"2017-08-05\",\\n        \"precipitation\": 0.06\\n    },\\n    {\\n        \"date\": \"2017-08-06\",\\n        \"precipitation\": NaN\\n    },\\n    {\\n        \"date\": \"2017-08-06\",\\n        \"precipitation\": 0.0\\n    },\\n    {\\n        \"date\": \"2017-08-06\",\\n        \"precipitation\": 0.0\\n    },\\n    {\\n        \"date\": \"2017-08-06\",\\n        \"precipitation\": 0.0\\n    },\\n    {\\n        \"date\": \"2017-08-06\",\\n        \"precipitation\": 0.0\\n    },\\n    {\\n        \"date\": \"2017-08-07\",\\n        \"precipitation\": 0.0\\n    },\\n    {\\n        \"date\": \"2017-08-07\",\\n        \"precipitation\": 0.05\\n    },\\n    {\\n        \"date\": \"2017-08-07\",\\n        \"precipitation\": 0.0\\n    },\\n    {\\n        \"date\": \"2017-08-07\",\\n        \"precipitation\": 0.0\\n    },\\n    {\\n        \"date\": \"2017-08-08\",\\n        \"precipitation\": 0.0\\n    },\\n    {\\n        \"date\": \"2017-08-08\",\\n        \"precipitation\": 0.34\\n    },\\n    {\\n        \"date\": \"2017-08-08\",\\n        \"precipitation\": 0.0\\n    },\\n    {\\n        \"date\": \"2017-08-08\",\\n        \"precipitation\": 0.1\\n    },\\n    {\\n        \"date\": \"2017-08-09\",\\n        \"precipitation\": 0.0\\n    },\\n    {\\n        \"date\": \"2017-08-09\",\\n        \"precipitation\": 0.0\\n    },\\n    {\\n        \"date\": \"2017-08-09\",\\n        \"precipitation\": 0.15\\n    },\\n    {\\n        \"date\": \"2017-08-10\",\\n        \"precipitation\": 0.0\\n    },\\n    {\\n        \"date\": \"2017-08-10\",\\n        \"precipitation\": 0.07\\n    },\\n    {\\n        \"date\": \"2017-08-10\",\\n        \"precipitation\": 0.0\\n    },\\n    {\\n        \"date\": \"2017-08-10\",\\n        \"precipitation\": 0.0\\n    },\\n    {\\n        \"date\": \"2017-08-11\",\\n        \"precipitation\": 0.0\\n    },\\n    {\\n        \"date\": \"2017-08-11\",\\n        \"precipitation\": 0.0\\n    },\\n    {\\n        \"date\": \"2017-08-11\",\\n        \"precipitation\": NaN\\n    },\\n    {\\n        \"date\": \"2017-08-11\",\\n        \"precipitation\": 0.0\\n    },\\n    {\\n        \"date\": \"2017-08-12\",\\n        \"precipitation\": 0.0\\n    },\\n    {\\n        \"date\": \"2017-08-12\",\\n        \"precipitation\": 0.14\\n    },\\n    {\\n        \"date\": \"2017-08-12\",\\n        \"precipitation\": 0.0\\n    },\\n    {\\n        \"date\": \"2017-08-13\",\\n        \"precipitation\": 0.0\\n    },\\n    {\\n        \"date\": \"2017-08-13\",\\n        \"precipitation\": NaN\\n    },\\n    {\\n        \"date\": \"2017-08-13\",\\n        \"precipitation\": 0.0\\n    },\\n    {\\n        \"date\": \"2017-08-13\",\\n        \"precipitation\": NaN\\n    },\\n    {\\n        \"date\": \"2017-08-13\",\\n        \"precipitation\": 0.0\\n    },\\n    {\\n        \"date\": \"2017-08-14\",\\n        \"precipitation\": 0.08\\n    },\\n    {\\n        \"date\": \"2017-08-14\",\\n        \"precipitation\": 0.01\\n    },\\n    {\\n        \"date\": \"2017-08-14\",\\n        \"precipitation\": 0.22\\n    },\\n    {\\n        \"date\": \"2017-08-14\",\\n        \"precipitation\": 0.0\\n    },\\n    {\\n        \"date\": \"2017-08-14\",\\n        \"precipitation\": 0.0\\n    },\\n    {\\n        \"date\": \"2017-08-15\",\\n        \"precipitation\": 0.06\\n    },\\n    {\\n        \"date\": \"2017-08-15\",\\n        \"precipitation\": 0.42\\n    },\\n    {\\n        \"date\": \"2017-08-15\",\\n        \"precipitation\": 0.32\\n    },\\n    {\\n        \"date\": \"2017-08-15\",\\n        \"precipitation\": 0.0\\n    },\\n    {\\n        \"date\": \"2017-08-15\",\\n        \"precipitation\": 0.02\\n    },\\n    {\\n        \"date\": \"2017-08-16\",\\n        \"precipitation\": 0.42\\n    },\\n    {\\n        \"date\": \"2017-08-16\",\\n        \"precipitation\": 0.12\\n    },\\n    {\\n        \"date\": \"2017-08-16\",\\n        \"precipitation\": 0.07\\n    },\\n    {\\n        \"date\": \"2017-08-16\",\\n        \"precipitation\": 0.0\\n    },\\n    {\\n        \"date\": \"2017-08-17\",\\n        \"precipitation\": 0.13\\n    },\\n    {\\n        \"date\": \"2017-08-17\",\\n        \"precipitation\": 0.01\\n    },\\n    {\\n        \"date\": \"2017-08-17\",\\n        \"precipitation\": 0.0\\n    },\\n    {\\n        \"date\": \"2017-08-17\",\\n        \"precipitation\": 0.05\\n    },\\n    {\\n        \"date\": \"2017-08-18\",\\n        \"precipitation\": NaN\\n    },\\n    {\\n        \"date\": \"2017-08-18\",\\n        \"precipitation\": 0.06\\n    },\\n    {\\n        \"date\": \"2017-08-18\",\\n        \"precipitation\": 0.0\\n    },\\n    {\\n        \"date\": \"2017-08-18\",\\n        \"precipitation\": 0.0\\n    },\\n    {\\n        \"date\": \"2017-08-19\",\\n        \"precipitation\": 0.0\\n    },\\n    {\\n        \"date\": \"2017-08-19\",\\n        \"precipitation\": 0.09\\n    },\\n    {\\n        \"date\": \"2017-08-19\",\\n        \"precipitation\": NaN\\n    },\\n    {\\n        \"date\": \"2017-08-19\",\\n        \"precipitation\": 0.0\\n    },\\n    {\\n        \"date\": \"2017-08-20\",\\n        \"precipitation\": 0.0\\n    },\\n    {\\n        \"date\": \"2017-08-20\",\\n        \"precipitation\": 0.01\\n    },\\n    {\\n        \"date\": \"2017-08-20\",\\n        \"precipitation\": NaN\\n    },\\n    {\\n        \"date\": \"2017-08-21\",\\n        \"precipitation\": 0.56\\n    },\\n    {\\n        \"date\": \"2017-08-21\",\\n        \"precipitation\": 0.02\\n    },\\n    {\\n        \"date\": \"2017-08-21\",\\n        \"precipitation\": 0.0\\n    },\\n    {\\n        \"date\": \"2017-08-21\",\\n        \"precipitation\": NaN\\n    },\\n    {\\n        \"date\": \"2017-08-22\",\\n        \"precipitation\": 0.0\\n    },\\n    {\\n        \"date\": \"2017-08-22\",\\n        \"precipitation\": 0.5\\n    },\\n    {\\n        \"date\": \"2017-08-22\",\\n        \"precipitation\": 0.0\\n    },\\n    {\\n        \"date\": \"2017-08-23\",\\n        \"precipitation\": 0.0\\n    },\\n    {\\n        \"date\": \"2017-08-23\",\\n        \"precipitation\": 0.0\\n    },\\n    {\\n        \"date\": \"2017-08-23\",\\n        \"precipitation\": 0.08\\n    },\\n    {\\n        \"date\": \"2017-08-23\",\\n        \"precipitation\": 0.45\\n    }\\n]'"
      ]
     },
     "execution_count": 21,
     "metadata": {},
     "output_type": "execute_result"
    }
   ],
   "source": [
    "# Convert dictionary to JSON\n",
    "import json\n",
    "json.dumps(results_df_dict, indent=4)"
   ]
  },
  {
   "cell_type": "code",
   "execution_count": 22,
   "metadata": {},
   "outputs": [
    {
     "data": {
      "image/png": "[encoded data removed]",
      "text/plain": [
       "<Figure size 432x288 with 1 Axes>"
      ]
     },
     "metadata": {},
     "output_type": "display_data"
    }
   ],
   "source": [
    "# Use Pandas Plotting with Matplotlib to plot the data\n",
    "results_df.plot(title=\"Precipitation (12 months)\")\n",
    "plt.legend(loc='upper center')\n",
    "plt.savefig(\"Images/Precipitation.png\")\n",
    "plt.show()"
   ]
  },
  {
   "cell_type": "markdown",
   "metadata": {},
   "source": [
    "![precipitation](Images/precipitation.png)"
   ]
  },
  {
   "cell_type": "code",
   "execution_count": 23,
   "metadata": {},
   "outputs": [
    {
     "data": {
      "text/html": [
       "<div>\n",
       "<style scoped>\n",
       "    .dataframe tbody tr th:only-of-type {\n",
       "        vertical-align: middle;\n",
       "    }\n",
       "\n",
       "    .dataframe tbody tr th {\n",
       "        vertical-align: top;\n",
       "    }\n",
       "\n",
       "    .dataframe thead th {\n",
       "        text-align: right;\n",
       "    }\n",
       "</style>\n",
       "<table border=\"1\" class=\"dataframe\">\n",
       "  <thead>\n",
       "    <tr style=\"text-align: right;\">\n",
       "      <th></th>\n",
       "      <th>precipitation</th>\n",
       "    </tr>\n",
       "  </thead>\n",
       "  <tbody>\n",
       "    <tr>\n",
       "      <th>count</th>\n",
       "      <td>2021.000000</td>\n",
       "    </tr>\n",
       "    <tr>\n",
       "      <th>mean</th>\n",
       "      <td>0.177279</td>\n",
       "    </tr>\n",
       "    <tr>\n",
       "      <th>std</th>\n",
       "      <td>0.461190</td>\n",
       "    </tr>\n",
       "    <tr>\n",
       "      <th>min</th>\n",
       "      <td>0.000000</td>\n",
       "    </tr>\n",
       "    <tr>\n",
       "      <th>25%</th>\n",
       "      <td>0.000000</td>\n",
       "    </tr>\n",
       "    <tr>\n",
       "      <th>50%</th>\n",
       "      <td>0.020000</td>\n",
       "    </tr>\n",
       "    <tr>\n",
       "      <th>75%</th>\n",
       "      <td>0.130000</td>\n",
       "    </tr>\n",
       "    <tr>\n",
       "      <th>max</th>\n",
       "      <td>6.700000</td>\n",
       "    </tr>\n",
       "  </tbody>\n",
       "</table>\n",
       "</div>"
      ],
      "text/plain": [
       "       precipitation\n",
       "count    2021.000000\n",
       "mean        0.177279\n",
       "std         0.461190\n",
       "min         0.000000\n",
       "25%         0.000000\n",
       "50%         0.020000\n",
       "75%         0.130000\n",
       "max         6.700000"
      ]
     },
     "execution_count": 23,
     "metadata": {},
     "output_type": "execute_result"
    }
   ],
   "source": [
    "# Use Pandas to calcualte the summary statistics for the precipitation data\n",
    "results_df.describe()"
   ]
  },
  {
   "cell_type": "markdown",
   "metadata": {},
   "source": [
    "![describe](Images/describe.png)"
   ]
  },
  {
   "cell_type": "code",
   "execution_count": 24,
   "metadata": {},
   "outputs": [
    {
     "data": {
      "text/plain": [
       "9"
      ]
     },
     "execution_count": 24,
     "metadata": {},
     "output_type": "execute_result"
    }
   ],
   "source": [
    "# Design a query to show how many stations are available in this dataset?\n",
    "stations_available = session.query(Measurement.station).distinct().count()\n",
    "stations_available"
   ]
  },
  {
   "cell_type": "code",
   "execution_count": 25,
   "metadata": {},
   "outputs": [
    {
     "data": {
      "text/plain": [
       "[('USC00519397'),\n",
       " ('USC00513117'),\n",
       " ('USC00514830'),\n",
       " ('USC00517948'),\n",
       " ('USC00518838'),\n",
       " ('USC00519523'),\n",
       " ('USC00519281'),\n",
       " ('USC00511918'),\n",
       " ('USC00516128')]"
      ]
     },
     "execution_count": 25,
     "metadata": {},
     "output_type": "execute_result"
    }
   ],
   "source": [
    "# All stations\n",
    "all_stations = session.query(Station.station).all()\n",
    "all_stations"
   ]
  },
  {
   "cell_type": "code",
   "execution_count": 26,
   "metadata": {},
   "outputs": [
    {
     "data": {
      "text/plain": [
       "[('USC00519281', 2772),\n",
       " ('USC00519397', 2724),\n",
       " ('USC00513117', 2709),\n",
       " ('USC00519523', 2669),\n",
       " ('USC00516128', 2612),\n",
       " ('USC00514830', 2202),\n",
       " ('USC00511918', 1979),\n",
       " ('USC00517948', 1372),\n",
       " ('USC00518838', 511)]"
      ]
     },
     "execution_count": 26,
     "metadata": {},
     "output_type": "execute_result"
    }
   ],
   "source": [
    "# What are the most active stations? (i.e. what stations have the most rows)?\n",
    "# List the stations and the counts in descending order.\n",
    "active_stations = session.query(Measurement.station,\n",
    "                                func.count(Measurement.station)).\\\n",
    "                                group_by(Measurement.station).\\\n",
    "                                order_by(func.count(Measurement.station).\\\n",
    "                                desc()).all()\n",
    "active_stations"
   ]
  },
  {
   "cell_type": "code",
   "execution_count": 27,
   "metadata": {},
   "outputs": [
    {
     "data": {
      "text/plain": [
       "'USC00519281'"
      ]
     },
     "execution_count": 27,
     "metadata": {},
     "output_type": "execute_result"
    }
   ],
   "source": [
    "# Most active station\n",
    "m_active_station=active_stations[0][0]\n",
    "m_active_station"
   ]
  },
  {
   "cell_type": "code",
   "execution_count": 28,
   "metadata": {},
   "outputs": [
    {
     "name": "stdout",
     "output_type": "stream",
     "text": [
      "Low: 54.0, High: 85.0, Average: 71.66\n"
     ]
    }
   ],
   "source": [
    "# Using the station id from the previous query, calculate the lowest temperature recorded, \n",
    "# highest temperature recorded, and average temperature most active station?\n",
    "sel = [func.min(Measurement.tobs), \n",
    "       func.max(Measurement.tobs), \n",
    "       func.avg(Measurement.tobs)]\n",
    "active_temps = session.query(*sel).filter(Measurement.station == m_active_station).all()\n",
    "#         order_by(Measurement.tobs).all()\n",
    "active_temps\n",
    "print(f\"Low: {active_temps[0][0]}, High: {active_temps[0][1]}, Average: {round(active_temps[0][2],2)}\")"
   ]
  },
  {
   "cell_type": "code",
   "execution_count": 29,
   "metadata": {},
   "outputs": [
    {
     "data": {
      "text/plain": [
       "('USC00519281', 2772)"
      ]
     },
     "execution_count": 29,
     "metadata": {},
     "output_type": "execute_result"
    }
   ],
   "source": [
    "# Choose the station with the highest number of temperature observations.\n",
    "most_temps_obv = session.query(Measurement.station, func.count(Measurement.tobs)).\\\n",
    "                              group_by(Measurement.station).\\\n",
    "                              order_by(func.count(Measurement.tobs).desc())\n",
    "most_temps_obv = most_temps_obv[0]\n",
    "most_temps_obv"
   ]
  },
  {
   "cell_type": "code",
   "execution_count": 30,
   "metadata": {},
   "outputs": [
    {
     "name": "stdout",
     "output_type": "stream",
     "text": [
      "2016-08-23\n"
     ]
    },
    {
     "data": {
      "text/html": [
       "<div>\n",
       "<style scoped>\n",
       "    .dataframe tbody tr th:only-of-type {\n",
       "        vertical-align: middle;\n",
       "    }\n",
       "\n",
       "    .dataframe tbody tr th {\n",
       "        vertical-align: top;\n",
       "    }\n",
       "\n",
       "    .dataframe thead th {\n",
       "        text-align: right;\n",
       "    }\n",
       "</style>\n",
       "<table border=\"1\" class=\"dataframe\">\n",
       "  <thead>\n",
       "    <tr style=\"text-align: right;\">\n",
       "      <th></th>\n",
       "      <th>tempurature</th>\n",
       "    </tr>\n",
       "  </thead>\n",
       "  <tbody>\n",
       "    <tr>\n",
       "      <th>0</th>\n",
       "      <td>77.0</td>\n",
       "    </tr>\n",
       "    <tr>\n",
       "      <th>1</th>\n",
       "      <td>77.0</td>\n",
       "    </tr>\n",
       "    <tr>\n",
       "      <th>2</th>\n",
       "      <td>80.0</td>\n",
       "    </tr>\n",
       "    <tr>\n",
       "      <th>3</th>\n",
       "      <td>80.0</td>\n",
       "    </tr>\n",
       "    <tr>\n",
       "      <th>4</th>\n",
       "      <td>75.0</td>\n",
       "    </tr>\n",
       "  </tbody>\n",
       "</table>\n",
       "</div>"
      ],
      "text/plain": [
       "   tempurature\n",
       "0         77.0\n",
       "1         77.0\n",
       "2         80.0\n",
       "3         80.0\n",
       "4         75.0"
      ]
     },
     "execution_count": 30,
     "metadata": {},
     "output_type": "execute_result"
    }
   ],
   "source": [
    "# Query the last 12 months of temperature observation data for this station and plot the results as a histogram\n",
    "prev_year = dt.date(2017, 8, 23) - dt.timedelta(days=365)\n",
    "print(prev_year)\n",
    "results_most_temps = session.query(Measurement.tobs).\\\n",
    "                    filter(Measurement.date >= prev_year).\\\n",
    "                    filter(Measurement.station == most_temps_obv[0]).all()\n",
    "# results_most_temps\n",
    "\n",
    "results_most_temps_df = pd.DataFrame(results_most_temps, columns=['tempurature'])\n",
    "results_most_temps_df.head()"
   ]
  },
  {
   "cell_type": "code",
   "execution_count": 31,
   "metadata": {},
   "outputs": [
    {
     "data": {
      "image/png": "[encoded data removed]",
      "text/plain": [
       "<Figure size 432x288 with 1 Axes>"
      ]
     },
     "metadata": {},
     "output_type": "display_data"
    }
   ],
   "source": [
    "# Create a histogram of the precipitation measurements\n",
    "results_most_temps_df.plot.hist(bins=12, title=\"Temperature vs. Frequency\")\n",
    "plt.xlabel('Temperature')\n",
    "plt.tight_layout()\n",
    "plt.savefig(\"Images/Temperature_vs_Frequency.png\")\n",
    "plt.show()"
   ]
  },
  {
   "cell_type": "markdown",
   "metadata": {},
   "source": [
    "![precipitation](Images/station-histogram.png)"
   ]
  },
  {
   "cell_type": "code",
   "execution_count": 32,
   "metadata": {},
   "outputs": [
    {
     "name": "stdout",
     "output_type": "stream",
     "text": [
      "[(62.0, 69.57142857142857, 74.0)]\n"
     ]
    }
   ],
   "source": [
    "# This function called `calc_temps` will accept start date and end date in the format '%Y-%m-%d' \n",
    "# and return the minimum, average, and maximum temperatures for that range of dates\n",
    "def calc_temps(start_date, end_date):\n",
    "    \"\"\"TMIN, TAVG, and TMAX for a list of dates.\n",
    "    \n",
    "    Args:\n",
    "        start_date (string): A date string in the format %Y-%m-%d\n",
    "        end_date (string): A date string in the format %Y-%m-%d\n",
    "        \n",
    "    Returns:\n",
    "        TMIN, TAVE, and TMAX\n",
    "    \"\"\"\n",
    "    # Query the min, avg, and max temps\n",
    "    return session.query(func.min(Measurement.tobs), func.avg(Measurement.tobs), func.max(Measurement.tobs)).\\\n",
    "        filter(Measurement.date >= start_date).filter(Measurement.date <= end_date).all()\n",
    "\n",
    "# Use function with dates provided\n",
    "print(calc_temps('2012-02-28', '2012-03-05'))"
   ]
  },
  {
   "cell_type": "code",
   "execution_count": 33,
   "metadata": {},
   "outputs": [
    {
     "data": {
      "text/plain": [
       "[(64.0, 72.02777777777777, 78.0)]"
      ]
     },
     "execution_count": 33,
     "metadata": {},
     "output_type": "execute_result"
    }
   ],
   "source": [
    "# Use your previous function `calc_temps` to calculate the tmin, tavg, and tmax \n",
    "# for your trip using the previous year's data for those same dates.\n",
    "trip = calc_temps('2017-02-28','2017-03-05')\n",
    "trip"
   ]
  },
  {
   "cell_type": "code",
   "execution_count": 34,
   "metadata": {},
   "outputs": [
    {
     "data": {
      "text/html": [
       "<div>\n",
       "<style scoped>\n",
       "    .dataframe tbody tr th:only-of-type {\n",
       "        vertical-align: middle;\n",
       "    }\n",
       "\n",
       "    .dataframe tbody tr th {\n",
       "        vertical-align: top;\n",
       "    }\n",
       "\n",
       "    .dataframe thead th {\n",
       "        text-align: right;\n",
       "    }\n",
       "</style>\n",
       "<table border=\"1\" class=\"dataframe\">\n",
       "  <thead>\n",
       "    <tr style=\"text-align: right;\">\n",
       "      <th></th>\n",
       "      <th>Min</th>\n",
       "      <th>Avg</th>\n",
       "      <th>Max</th>\n",
       "    </tr>\n",
       "  </thead>\n",
       "  <tbody>\n",
       "    <tr>\n",
       "      <th>0</th>\n",
       "      <td>64.0</td>\n",
       "      <td>72.027778</td>\n",
       "      <td>78.0</td>\n",
       "    </tr>\n",
       "  </tbody>\n",
       "</table>\n",
       "</div>"
      ],
      "text/plain": [
       "    Min        Avg   Max\n",
       "0  64.0  72.027778  78.0"
      ]
     },
     "execution_count": 34,
     "metadata": {},
     "output_type": "execute_result"
    }
   ],
   "source": [
    "# Create a dataframe to store these values\n",
    "trip_df = pd.DataFrame(trip, columns=['Min', 'Avg', 'Max'])\n",
    "trip_df"
   ]
  },
  {
   "cell_type": "code",
   "execution_count": 35,
   "metadata": {},
   "outputs": [
    {
     "data": {
      "image/png": "[encoded data removed]",
      "text/plain": [
       "<Figure size 288x432 with 1 Axes>"
      ]
     },
     "metadata": {},
     "output_type": "display_data"
    }
   ],
   "source": [
    "# Plot the results from your previous query as a bar chart.\n",
    "# Use \"Trip Avg Temp\" as your Title\n",
    "# Use the average temperature for the y value\n",
    "# Use the peak-to-peak (tmax-tmin) value as the y error bar (yerr)\n",
    "\n",
    "trip_df.plot.bar(y='Avg', yerr=(trip_df['Max'] - trip_df['Min']), title='Trip Avg Temp', alpha=0.5, figsize=(4,6))\n",
    "plt.xticks(np.arange(1, 1.0))\n",
    "plt.ylabel(\"Temp (F)\")\n",
    "plt.tight_layout()\n",
    "plt.savefig(\"Images/Trip_Avg_Temp.png\")\n",
    "plt.show()"
   ]
  },
  {
   "cell_type": "code",
   "execution_count": 36,
   "metadata": {},
   "outputs": [
    {
     "name": "stdout",
     "output_type": "stream",
     "text": [
      "[('USC00519281', 'WAIHEE 837.5, HI US', 21.45167, -157.84888999999998, 32.9, 0.41), ('USC00516128', 'MANOA LYON ARBO 785.2, HI US', 21.3331, -157.8025, 152.4, 0.35), ('USC00519397', 'WAIKIKI 717.2, HI US', 21.2716, -157.8168, 3.0, 0.35), ('USC00517948', 'PEARL CITY, HI US', 21.3934, -157.9751, 11.9, 0.14), ('USC00513117', 'KANEOHE 838.1, HI US', 21.4234, -157.8015, 14.6, 0.1), ('USC00519523', 'WAIMANALO EXPERIMENTAL FARM, HI US', 21.33556, -157.71139, 19.5, 0.0), ('USC00514830', 'KUALOA RANCH HEADQUARTERS 886.9, HI US', 21.5213, -157.8374, 7.0, None)]\n"
     ]
    }
   ],
   "source": [
    "# Calculate the rainfall per weather station for your trip dates using the previous year's matching dates.\n",
    "# Sort this in descending order by precipitation amount and list the station, name, latitude, longitude, and elevation\n",
    "\n",
    "def precipitation (start_date, end_date):\n",
    "    \"\"\"Precipitation information for each station\n",
    "    \n",
    "    Args:\n",
    "        start_date (string): A date string in the format %Y-%m-%d\n",
    "        end_date (string): A date string in the format %Y-%m-%d\n",
    "        \n",
    "    Returns:\n",
    "        Precipitation amount, station, name, latitude, longitude, and elevation\n",
    "    \"\"\"\n",
    "    \n",
    "    # Query\n",
    "    \n",
    "    sel = [Measurement.station,\n",
    "          Station.name,\n",
    "          Station.latitude,\n",
    "          Station.longitude,\n",
    "          Station.elevation,\n",
    "          Measurement.prcp]\n",
    "    \n",
    "    return session.query(*sel).\\\n",
    "        filter(Measurement.station == Station.station).filter(Measurement.date >= start_date).\\\n",
    "        filter(Measurement.date <= end_date).\\\n",
    "        group_by(Measurement.station).\\\n",
    "        order_by(Measurement.prcp.desc()).all()\n",
    "\n",
    "print(precipitation('2017-02-28','2017-03-05'))"
   ]
  },
  {
   "cell_type": "code",
   "execution_count": 37,
   "metadata": {},
   "outputs": [
    {
     "data": {
      "text/plain": [
       "[('2017-02-28', 69.0, 72.28571428571429, 74.0),\n",
       " ('2017-03-01', 64.0, 69.0, 73.0),\n",
       " ('2017-03-02', 72.0, 73.16666666666667, 75.0),\n",
       " ('2017-03-03', 69.0, 72.71428571428571, 78.0),\n",
       " ('2017-03-04', 70.0, 74.8, 77.0),\n",
       " ('2017-03-05', 68.0, 70.5, 73.0),\n",
       " ('2017-03-06', 66.0, 69.71428571428571, 76.0),\n",
       " ('2017-03-07', 62.0, 68.0, 74.0),\n",
       " ('2017-03-08', 64.0, 69.0, 74.0),\n",
       " ('2017-03-09', 67.0, 69.28571428571429, 72.0),\n",
       " ('2017-03-10', 65.0, 68.42857142857143, 75.0),\n",
       " ('2017-03-11', 68.0, 76.6, 82.0),\n",
       " ('2017-03-12', 69.0, 73.4, 80.0),\n",
       " ('2017-03-13', 66.0, 70.14285714285714, 77.0),\n",
       " ('2017-03-14', 67.0, 72.42857142857143, 77.0),\n",
       " ('2017-03-15', 69.0, 72.16666666666667, 76.0),\n",
       " ('2017-03-16', 66.0, 71.28571428571429, 77.0),\n",
       " ('2017-03-17', 68.0, 70.5, 72.0),\n",
       " ('2017-03-18', 65.0, 70.16666666666667, 76.0),\n",
       " ('2017-03-19', 72.0, 73.4, 74.0),\n",
       " ('2017-03-20', 69.0, 73.66666666666667, 77.0),\n",
       " ('2017-03-21', 72.0, 73.83333333333333, 76.0),\n",
       " ('2017-03-22', 72.0, 74.0, 76.0),\n",
       " ('2017-03-23', 70.0, 73.16666666666667, 78.0),\n",
       " ('2017-03-24', 70.0, 72.83333333333333, 76.0),\n",
       " ('2017-03-25', 72.0, 74.2, 76.0),\n",
       " ('2017-03-26', 72.0, 76.0, 80.0),\n",
       " ('2017-03-27', 74.0, 75.5, 78.0),\n",
       " ('2017-03-28', 69.0, 74.57142857142857, 78.0),\n",
       " ('2017-03-29', 68.0, 73.0, 77.0),\n",
       " ('2017-03-30', 73.0, 76.16666666666667, 78.0),\n",
       " ('2017-03-31', 71.0, 75.28571428571429, 78.0),\n",
       " ('2017-04-01', 69.0, 75.5, 80.0),\n",
       " ('2017-04-02', 71.0, 75.33333333333333, 79.0),\n",
       " ('2017-04-03', 70.0, 74.42857142857143, 77.0),\n",
       " ('2017-04-04', 67.0, 74.14285714285714, 78.0),\n",
       " ('2017-04-05', 69.0, 73.85714285714286, 78.0),\n",
       " ('2017-04-06', 67.0, 73.42857142857143, 77.0),\n",
       " ('2017-04-07', 74.0, 75.83333333333333, 78.0),\n",
       " ('2017-04-08', 73.0, 75.75, 77.0),\n",
       " ('2017-04-09', 69.0, 73.33333333333333, 78.0),\n",
       " ('2017-04-10', 67.0, 73.42857142857143, 79.0),\n",
       " ('2017-04-11', 70.0, 75.71428571428571, 82.0),\n",
       " ('2017-04-12', 69.0, 74.57142857142857, 80.0),\n",
       " ('2017-04-13', 69.0, 74.57142857142857, 79.0),\n",
       " ('2017-04-14', 70.0, 73.83333333333333, 77.0),\n",
       " ('2017-04-15', 70.0, 74.0, 79.0),\n",
       " ('2017-04-16', 69.0, 71.8, 74.0),\n",
       " ('2017-04-17', 67.0, 70.14285714285714, 74.0),\n",
       " ('2017-04-18', 68.0, 73.0, 76.0),\n",
       " ('2017-04-19', 67.0, 73.57142857142857, 83.0),\n",
       " ('2017-04-20', 69.0, 74.71428571428571, 78.0),\n",
       " ('2017-04-21', 69.0, 70.85714285714286, 74.0),\n",
       " ('2017-04-22', 72.0, 73.8, 76.0),\n",
       " ('2017-04-23', 70.0, 74.5, 77.0),\n",
       " ('2017-04-24', 68.0, 76.14285714285714, 80.0),\n",
       " ('2017-04-25', 72.0, 75.57142857142857, 78.0),\n",
       " ('2017-04-26', 74.0, 77.5, 81.0),\n",
       " ('2017-04-27', 70.0, 75.57142857142857, 78.0),\n",
       " ('2017-04-28', 67.0, 73.28571428571429, 77.0),\n",
       " ('2017-04-29', 66.0, 69.83333333333333, 72.0),\n",
       " ('2017-04-30', 58.0, 61.5, 64.0),\n",
       " ('2017-05-01', 65.0, 72.0, 78.0),\n",
       " ('2017-05-02', 73.0, 76.5, 79.0),\n",
       " ('2017-05-03', 70.0, 75.6, 78.0),\n",
       " ('2017-05-04', 74.0, 76.33333333333333, 78.0),\n",
       " ('2017-05-05', 70.0, 76.33333333333333, 79.0),\n",
       " ('2017-05-06', 74.0, 77.5, 80.0),\n",
       " ('2017-05-07', 70.0, 75.4, 79.0),\n",
       " ('2017-05-08', 66.0, 72.83333333333333, 80.0),\n",
       " ('2017-05-09', 67.0, 73.4, 79.0),\n",
       " ('2017-05-10', 72.0, 75.16666666666667, 78.0),\n",
       " ('2017-05-11', 70.0, 75.6, 78.0),\n",
       " ('2017-05-12', 70.0, 75.5, 79.0),\n",
       " ('2017-05-13', 71.0, 75.4, 79.0),\n",
       " ('2017-05-14', 70.0, 75.4, 78.0),\n",
       " ('2017-05-15', 72.0, 75.5, 78.0),\n",
       " ('2017-05-16', 71.0, 75.16666666666667, 78.0),\n",
       " ('2017-05-17', 71.0, 75.5, 78.0),\n",
       " ('2017-05-18', 69.0, 71.66666666666667, 78.0),\n",
       " ('2017-05-19', 68.0, 73.25, 79.0),\n",
       " ('2017-05-20', 70.0, 75.66666666666667, 79.0),\n",
       " ('2017-05-21', 69.0, 74.2, 80.0),\n",
       " ('2017-05-22', 71.0, 75.16666666666667, 79.0),\n",
       " ('2017-05-23', 69.0, 75.66666666666667, 87.0),\n",
       " ('2017-05-24', 70.0, 74.66666666666667, 77.0),\n",
       " ('2017-05-25', 69.0, 74.83333333333333, 79.0),\n",
       " ('2017-05-26', 72.0, 75.0, 79.0),\n",
       " ('2017-05-27', 69.0, 74.5, 79.0),\n",
       " ('2017-05-28', 71.0, 76.5, 82.0),\n",
       " ('2017-05-29', 71.0, 75.8, 80.0),\n",
       " ('2017-05-30', 72.0, 75.5, 81.0),\n",
       " ('2017-05-31', 75.0, 78.0, 81.0),\n",
       " ('2017-06-01', 74.0, 78.16666666666667, 81.0),\n",
       " ('2017-06-02', 76.0, 78.16666666666667, 81.0),\n",
       " ('2017-06-03', 74.0, 77.33333333333333, 80.0),\n",
       " ('2017-06-04', 77.0, 78.5, 81.0),\n",
       " ('2017-06-05', 74.0, 77.42857142857143, 81.0),\n",
       " ('2017-06-06', 74.0, 77.28571428571429, 80.0),\n",
       " ('2017-06-07', 75.0, 78.14285714285714, 81.0),\n",
       " ('2017-06-08', 75.0, 77.14285714285714, 80.0),\n",
       " ('2017-06-09', 72.0, 78.16666666666667, 81.0),\n",
       " ('2017-06-10', 72.0, 75.16666666666667, 78.0),\n",
       " ('2017-06-11', 73.0, 77.0, 81.0),\n",
       " ('2017-06-12', 74.0, 77.66666666666667, 83.0),\n",
       " ('2017-06-13', 73.0, 76.85714285714286, 81.0),\n",
       " ('2017-06-14', 74.0, 77.28571428571429, 80.0),\n",
       " ('2017-06-15', 75.0, 77.14285714285714, 78.0),\n",
       " ('2017-06-16', 73.0, 77.14285714285714, 80.0),\n",
       " ('2017-06-17', 72.0, 77.16666666666667, 80.0),\n",
       " ('2017-06-18', 72.0, 76.0, 78.0),\n",
       " ('2017-06-19', 72.0, 77.0, 80.0),\n",
       " ('2017-06-20', 72.0, 75.83333333333333, 79.0),\n",
       " ('2017-06-21', 74.0, 77.66666666666667, 82.0),\n",
       " ('2017-06-22', 72.0, 77.66666666666667, 81.0),\n",
       " ('2017-06-23', 71.0, 75.42857142857143, 79.0),\n",
       " ('2017-06-24', 73.0, 77.2, 82.0),\n",
       " ('2017-06-25', 71.0, 76.6, 80.0),\n",
       " ('2017-06-26', 73.0, 79.0, 82.0),\n",
       " ('2017-06-27', 74.0, 78.0, 81.0),\n",
       " ('2017-06-28', 74.0, 77.66666666666667, 80.0),\n",
       " ('2017-06-29', 76.0, 77.14285714285714, 79.0),\n",
       " ('2017-06-30', 74.0, 75.71428571428571, 81.0),\n",
       " ('2017-07-01', 74.0, 77.25, 80.0),\n",
       " ('2017-07-02', 77.0, 79.2, 81.0),\n",
       " ('2017-07-03', 76.0, 79.57142857142857, 87.0),\n",
       " ('2017-07-04', 77.0, 78.0, 80.0),\n",
       " ('2017-07-05', 75.0, 78.57142857142857, 81.0),\n",
       " ('2017-07-06', 74.0, 77.16666666666667, 81.0),\n",
       " ('2017-07-07', 74.0, 77.14285714285714, 79.0),\n",
       " ('2017-07-08', 71.0, 77.16666666666667, 81.0),\n",
       " ('2017-07-09', 76.0, 79.33333333333333, 82.0),\n",
       " ('2017-07-10', 69.0, 77.85714285714286, 82.0),\n",
       " ('2017-07-11', 72.0, 77.0, 81.0),\n",
       " ('2017-07-12', 72.0, 78.28571428571429, 82.0),\n",
       " ('2017-07-13', 74.0, 78.14285714285714, 81.0),\n",
       " ('2017-07-14', 76.0, 78.83333333333333, 81.0),\n",
       " ('2017-07-15', 78.0, 80.16666666666667, 82.0),\n",
       " ('2017-07-16', 75.0, 78.33333333333333, 82.0),\n",
       " ('2017-07-17', 72.0, 77.83333333333333, 82.0),\n",
       " ('2017-07-18', 76.0, 79.14285714285714, 83.0),\n",
       " ('2017-07-19', 74.0, 78.16666666666667, 81.0),\n",
       " ('2017-07-20', 75.0, 78.42857142857143, 80.0),\n",
       " ('2017-07-21', 72.0, 78.14285714285714, 81.0),\n",
       " ('2017-07-22', 72.0, 77.66666666666667, 81.0),\n",
       " ('2017-07-23', 75.0, 79.6, 82.0),\n",
       " ('2017-07-24', 75.0, 77.66666666666667, 79.0),\n",
       " ('2017-07-25', 77.0, 79.28571428571429, 81.0),\n",
       " ('2017-07-26', 73.0, 78.42857142857143, 84.0),\n",
       " ('2017-07-27', 75.0, 78.0, 80.0),\n",
       " ('2017-07-28', 73.0, 79.14285714285714, 81.0),\n",
       " ('2017-07-29', 77.0, 80.5, 83.0),\n",
       " ('2017-07-30', 78.0, 80.6, 84.0),\n",
       " ('2017-07-31', 74.0, 78.71428571428571, 82.0),\n",
       " ('2017-08-01', 72.0, 74.5, 77.0),\n",
       " ('2017-08-02', 73.0, 79.0, 83.0),\n",
       " ('2017-08-03', 76.0, 79.0, 81.0),\n",
       " ('2017-08-04', 77.0, 80.0, 82.0),\n",
       " ('2017-08-05', 77.0, 80.0, 82.0),\n",
       " ('2017-08-06', 79.0, 81.4, 83.0),\n",
       " ('2017-08-07', 78.0, 80.5, 83.0),\n",
       " ('2017-08-08', 74.0, 78.5, 82.0),\n",
       " ('2017-08-09', 71.0, 77.33333333333333, 81.0),\n",
       " ('2017-08-10', 75.0, 79.25, 81.0),\n",
       " ('2017-08-11', 72.0, 78.0, 81.0),\n",
       " ('2017-08-12', 74.0, 79.0, 83.0),\n",
       " ('2017-08-13', 77.0, 80.6, 84.0),\n",
       " ('2017-08-14', 75.0, 78.2, 81.0),\n",
       " ('2017-08-15', 70.0, 77.2, 82.0),\n",
       " ('2017-08-16', 71.0, 77.0, 82.0),\n",
       " ('2017-08-17', 72.0, 77.25, 83.0),\n",
       " ('2017-08-18', 76.0, 78.0, 80.0),\n",
       " ('2017-08-19', 71.0, 78.75, 85.0),\n",
       " ('2017-08-20', 78.0, 79.66666666666667, 81.0),\n",
       " ('2017-08-21', 76.0, 79.5, 82.0),\n",
       " ('2017-08-22', 76.0, 80.0, 82.0),\n",
       " ('2017-08-23', 76.0, 80.25, 82.0)]"
      ]
     },
     "execution_count": 37,
     "metadata": {},
     "output_type": "execute_result"
    }
   ],
   "source": [
    "# Start date for Flask activity\n",
    "\n",
    "from_start = session.query(Measurement.date, func.min(Measurement.tobs), func.avg(Measurement.tobs), func.max(Measurement.tobs)).\\\n",
    "    filter(Measurement.date >= '2017-02-28').\\\n",
    "    group_by(Measurement.date).all()\n",
    "from_start"
   ]
  },
  {
   "cell_type": "code",
   "execution_count": 38,
   "metadata": {},
   "outputs": [
    {
     "data": {
      "text/plain": [
       "[('2016-02-28', 66.0, 71.33333333333333, 80.0),\n",
       " ('2016-02-29', 67.0, 71.16666666666667, 79.0),\n",
       " ('2016-03-01', 68.0, 71.71428571428571, 73.0),\n",
       " ('2016-03-02', 63.0, 68.28571428571429, 71.0),\n",
       " ('2016-03-03', 63.0, 68.42857142857143, 72.0),\n",
       " ('2016-03-04', 62.0, 68.33333333333333, 75.0),\n",
       " ('2016-03-05', 66.0, 70.2, 76.0),\n",
       " ('2016-03-06', 68.0, 71.0, 76.0),\n",
       " ('2016-03-07', 63.0, 69.28571428571429, 78.0),\n",
       " ('2016-03-08', 72.0, 75.42857142857143, 78.0),\n",
       " ('2016-03-09', 66.0, 68.14285714285714, 74.0),\n",
       " ('2016-03-10', 67.0, 69.28571428571429, 71.0),\n",
       " ('2016-03-11', 66.0, 70.14285714285714, 72.0),\n",
       " ('2016-03-12', 70.0, 72.16666666666667, 73.0),\n",
       " ('2016-03-13', 69.0, 71.75, 74.0),\n",
       " ('2016-03-14', 67.0, 71.85714285714286, 77.0),\n",
       " ('2016-03-15', 66.0, 68.33333333333333, 71.0),\n",
       " ('2016-03-16', 68.0, 71.71428571428571, 78.0),\n",
       " ('2016-03-17', 65.0, 68.33333333333333, 70.0),\n",
       " ('2016-03-18', 66.0, 69.0, 71.0),\n",
       " ('2016-03-19', 67.0, 69.6, 72.0),\n",
       " ('2016-03-20', 68.0, 71.8, 75.0),\n",
       " ('2016-03-21', 66.0, 71.16666666666667, 74.0),\n",
       " ('2016-03-22', 65.0, 70.85714285714286, 76.0),\n",
       " ('2016-03-23', 63.0, 69.28571428571429, 74.0),\n",
       " ('2016-03-24', 64.0, 71.0, 76.0),\n",
       " ('2016-03-25', 69.0, 72.33333333333333, 75.0),\n",
       " ('2016-03-26', 67.0, 72.33333333333333, 77.0),\n",
       " ('2016-03-27', 67.0, 71.0, 76.0),\n",
       " ('2016-03-28', 68.0, 72.71428571428571, 82.0),\n",
       " ('2016-03-29', 69.0, 72.85714285714286, 77.0),\n",
       " ('2016-03-30', 62.0, 68.57142857142857, 74.0),\n",
       " ('2016-03-31', 65.0, 69.71428571428571, 74.0),\n",
       " ('2016-04-01', 68.0, 72.71428571428571, 77.0),\n",
       " ('2016-04-02', 71.0, 73.66666666666667, 77.0),\n",
       " ('2016-04-03', 71.0, 74.5, 78.0),\n",
       " ('2016-04-04', 69.0, 74.57142857142857, 78.0),\n",
       " ('2016-04-05', 65.0, 72.83333333333333, 78.0),\n",
       " ('2016-04-06', 67.0, 70.14285714285714, 72.0),\n",
       " ('2016-04-07', 65.0, 69.71428571428571, 73.0),\n",
       " ('2016-04-08', 68.0, 73.42857142857143, 77.0),\n",
       " ('2016-04-09', 71.0, 74.0, 76.0),\n",
       " ('2016-04-10', 68.0, 73.33333333333333, 78.0),\n",
       " ('2016-04-11', 67.0, 73.0, 78.0),\n",
       " ('2016-04-12', 70.0, 74.66666666666667, 77.0),\n",
       " ('2016-04-13', 71.0, 75.16666666666667, 77.0),\n",
       " ('2016-04-14', 71.0, 74.83333333333333, 77.0),\n",
       " ('2016-04-15', 70.0, 75.66666666666667, 79.0),\n",
       " ('2016-04-16', 72.0, 75.4, 80.0),\n",
       " ('2016-04-17', 66.0, 70.33333333333333, 74.0),\n",
       " ('2016-04-18', 68.0, 71.85714285714286, 76.0),\n",
       " ('2016-04-19', 67.0, 71.33333333333333, 74.0),\n",
       " ('2016-04-20', 69.0, 73.14285714285714, 75.0),\n",
       " ('2016-04-21', 68.0, 73.57142857142857, 76.0),\n",
       " ('2016-04-22', 69.0, 74.57142857142857, 77.0),\n",
       " ('2016-04-23', 68.0, 73.83333333333333, 77.0),\n",
       " ('2016-04-24', 69.0, 74.5, 77.0),\n",
       " ('2016-04-25', 74.0, 77.0, 79.0),\n",
       " ('2016-04-26', 72.0, 75.71428571428571, 78.0),\n",
       " ('2016-04-27', 73.0, 75.14285714285714, 79.0),\n",
       " ('2016-04-28', 73.0, 76.85714285714286, 79.0),\n",
       " ('2016-04-29', 73.0, 76.14285714285714, 79.0),\n",
       " ('2016-04-30', 72.0, 75.0, 77.0),\n",
       " ('2016-05-01', 71.0, 75.83333333333333, 79.0),\n",
       " ('2016-05-02', 72.0, 74.14285714285714, 77.0),\n",
       " ('2016-05-03', 72.0, 75.28571428571429, 78.0),\n",
       " ('2016-05-04', 69.0, 73.85714285714286, 77.0),\n",
       " ('2016-05-05', 68.0, 74.28571428571429, 77.0),\n",
       " ('2016-05-06', 66.0, 72.0, 76.0),\n",
       " ('2016-05-07', 68.0, 70.0, 73.0),\n",
       " ('2016-05-08', 67.0, 69.4, 73.0),\n",
       " ('2016-05-09', 68.0, 72.42857142857143, 74.0),\n",
       " ('2016-05-10', 68.0, 72.28571428571429, 76.0),\n",
       " ('2016-05-11', 67.0, 72.83333333333333, 76.0),\n",
       " ('2016-05-12', 65.0, 71.28571428571429, 75.0),\n",
       " ('2016-05-13', 68.0, 71.85714285714286, 75.0),\n",
       " ('2016-05-14', 70.0, 72.8, 77.0),\n",
       " ('2016-05-15', 73.0, 76.5, 79.0),\n",
       " ('2016-05-16', 71.0, 76.0, 78.0),\n",
       " ('2016-05-17', 71.0, 76.14285714285714, 78.0),\n",
       " ('2016-05-18', 70.0, 74.57142857142857, 79.0),\n",
       " ('2016-05-19', 71.0, 75.85714285714286, 78.0),\n",
       " ('2016-05-20', 71.0, 75.71428571428571, 79.0),\n",
       " ('2016-05-21', 75.0, 76.6, 78.0),\n",
       " ('2016-05-22', 75.0, 77.2, 79.0),\n",
       " ('2016-05-23', 73.0, 76.85714285714286, 79.0),\n",
       " ('2016-05-24', 67.0, 73.28571428571429, 78.0),\n",
       " ('2016-05-25', 69.0, 74.57142857142857, 78.0),\n",
       " ('2016-05-26', 71.0, 75.85714285714286, 81.0),\n",
       " ('2016-05-27', 75.0, 77.8, 80.0),\n",
       " ('2016-05-28', 72.0, 76.2, 79.0),\n",
       " ('2016-05-29', 71.0, 74.8, 78.0),\n",
       " ('2016-05-30', 70.0, 72.83333333333333, 78.0),\n",
       " ('2016-05-31', 69.0, 71.33333333333333, 74.0),\n",
       " ('2016-06-01', 64.0, 70.71428571428571, 76.0),\n",
       " ('2016-06-02', 65.0, 70.28571428571429, 75.0),\n",
       " ('2016-06-03', 68.0, 72.0, 75.0),\n",
       " ('2016-06-04', 65.0, 70.5, 75.0),\n",
       " ('2016-06-05', 70.0, 72.4, 76.0),\n",
       " ('2016-06-06', 72.0, 75.0, 78.0),\n",
       " ('2016-06-07', 71.0, 75.28571428571429, 78.0),\n",
       " ('2016-06-08', 71.0, 75.14285714285714, 80.0),\n",
       " ('2016-06-09', 69.0, 72.42857142857143, 76.0),\n",
       " ('2016-06-10', 70.0, 74.66666666666667, 78.0),\n",
       " ('2016-06-11', 72.0, 75.5, 78.0),\n",
       " ('2016-06-12', 74.0, 76.0, 78.0),\n",
       " ('2016-06-13', 73.0, 77.14285714285714, 80.0),\n",
       " ('2016-06-14', 72.0, 77.28571428571429, 81.0),\n",
       " ('2016-06-15', 70.0, 76.57142857142857, 80.0),\n",
       " ('2016-06-16', 70.0, 75.5, 79.0),\n",
       " ('2016-06-17', 69.0, 73.28571428571429, 76.0),\n",
       " ('2016-06-18', 73.0, 75.83333333333333, 78.0),\n",
       " ('2016-06-19', 74.0, 76.5, 79.0),\n",
       " ('2016-06-20', 72.0, 75.57142857142857, 80.0),\n",
       " ('2016-06-21', 71.0, 75.0, 80.0),\n",
       " ('2016-06-22', 73.0, 77.0, 79.0),\n",
       " ('2016-06-23', 72.0, 76.57142857142857, 80.0),\n",
       " ('2016-06-24', 76.0, 77.66666666666667, 80.0),\n",
       " ('2016-06-25', 71.0, 75.5, 80.0),\n",
       " ('2016-06-26', 74.0, 77.16666666666667, 79.0),\n",
       " ('2016-06-27', 72.0, 75.71428571428571, 81.0),\n",
       " ('2016-06-28', 71.0, 75.57142857142857, 78.0),\n",
       " ('2016-06-29', 72.0, 77.57142857142857, 80.0),\n",
       " ('2016-06-30', 77.0, 78.66666666666667, 81.0),\n",
       " ('2016-07-01', 74.0, 77.16666666666667, 80.0),\n",
       " ('2016-07-02', 77.0, 79.25, 82.0),\n",
       " ('2016-07-03', 76.0, 76.5, 77.0),\n",
       " ('2016-07-04', 74.0, 78.0, 81.0),\n",
       " ('2016-07-05', 71.0, 75.85714285714286, 79.0),\n",
       " ('2016-07-06', 71.0, 75.42857142857143, 78.0),\n",
       " ('2016-07-07', 73.0, 76.57142857142857, 80.0),\n",
       " ('2016-07-08', 73.0, 77.85714285714286, 80.0),\n",
       " ('2016-07-09', 71.0, 77.66666666666667, 81.0),\n",
       " ('2016-07-10', 72.0, 76.0, 78.0),\n",
       " ('2016-07-11', 72.0, 76.0, 80.0),\n",
       " ('2016-07-12', 75.0, 78.85714285714286, 80.0),\n",
       " ('2016-07-13', 74.0, 76.66666666666667, 79.0),\n",
       " ('2016-07-14', 73.0, 78.14285714285714, 82.0),\n",
       " ('2016-07-15', 71.0, 76.71428571428571, 80.0),\n",
       " ('2016-07-16', 73.0, 77.0, 80.0),\n",
       " ('2016-07-17', 74.0, 77.4, 82.0),\n",
       " ('2016-07-18', 72.0, 76.57142857142857, 80.0),\n",
       " ('2016-07-19', 73.0, 77.71428571428571, 80.0),\n",
       " ('2016-07-20', 74.0, 78.42857142857143, 82.0),\n",
       " ('2016-07-21', 77.0, 78.4, 80.0),\n",
       " ('2016-07-22', 76.0, 77.25, 78.0),\n",
       " ('2016-07-23', 74.0, 76.4, 79.0),\n",
       " ('2016-07-24', 75.0, 77.2, 79.0),\n",
       " ('2016-07-25', 77.0, 79.0, 81.0),\n",
       " ('2016-07-26', 76.0, 78.83333333333333, 82.0),\n",
       " ('2016-07-27', 76.0, 79.42857142857143, 83.0),\n",
       " ('2016-07-28', 76.0, 79.66666666666667, 82.0),\n",
       " ('2016-07-29', 74.0, 78.0, 82.0),\n",
       " ('2016-07-30', 76.0, 76.8, 78.0),\n",
       " ('2016-07-31', 75.0, 76.4, 80.0),\n",
       " ('2016-08-01', 73.0, 76.16666666666667, 78.0),\n",
       " ('2016-08-02', 72.0, 76.57142857142857, 80.0),\n",
       " ('2016-08-03', 74.0, 78.42857142857143, 82.0),\n",
       " ('2016-08-04', 74.0, 78.0, 81.0),\n",
       " ('2016-08-05', 75.0, 78.5, 81.0),\n",
       " ('2016-08-06', 76.0, 78.16666666666667, 80.0),\n",
       " ('2016-08-07', 77.0, 78.83333333333333, 83.0),\n",
       " ('2016-08-08', 75.0, 79.57142857142857, 83.0),\n",
       " ('2016-08-09', 73.0, 78.71428571428571, 81.0),\n",
       " ('2016-08-10', 76.0, 80.14285714285714, 82.0),\n",
       " ('2016-08-11', 74.0, 78.57142857142857, 80.0),\n",
       " ('2016-08-12', 71.0, 76.71428571428571, 81.0),\n",
       " ('2016-08-13', 74.0, 79.0, 83.0),\n",
       " ('2016-08-14', 72.0, 77.2, 82.0),\n",
       " ('2016-08-15', 72.0, 77.71428571428571, 81.0),\n",
       " ('2016-08-16', 72.0, 77.85714285714286, 81.0),\n",
       " ('2016-08-17', 73.0, 78.28571428571429, 82.0),\n",
       " ('2016-08-18', 73.0, 78.85714285714286, 81.0),\n",
       " ('2016-08-19', 73.0, 77.5, 80.0),\n",
       " ('2016-08-20', 76.0, 79.66666666666667, 81.0),\n",
       " ('2016-08-21', 74.0, 77.0, 80.0),\n",
       " ('2016-08-22', 72.0, 77.28571428571429, 80.0),\n",
       " ('2016-08-23', 74.0, 78.28571428571429, 81.0),\n",
       " ('2016-08-24', 74.0, 77.57142857142857, 80.0),\n",
       " ('2016-08-25', 77.0, 79.42857142857143, 81.0),\n",
       " ('2016-08-26', 78.0, 80.5, 84.0),\n",
       " ('2016-08-27', 73.0, 76.83333333333333, 81.0),\n",
       " ('2016-08-28', 71.0, 76.0, 81.0),\n",
       " ('2016-08-29', 78.0, 78.71428571428571, 80.0),\n",
       " ('2016-08-30', 75.0, 77.33333333333333, 79.0),\n",
       " ('2016-08-31', 76.0, 78.28571428571429, 80.0),\n",
       " ('2016-09-01', 77.0, 80.16666666666667, 82.0),\n",
       " ('2016-09-02', 75.0, 79.42857142857143, 81.0),\n",
       " ('2016-09-03', 75.0, 77.4, 79.0),\n",
       " ('2016-09-04', 73.0, 77.0, 84.0),\n",
       " ('2016-09-05', 76.0, 79.5, 84.0),\n",
       " ('2016-09-06', 73.0, 75.66666666666667, 80.0),\n",
       " ('2016-09-07', 74.0, 75.83333333333333, 80.0),\n",
       " ('2016-09-08', 74.0, 78.71428571428571, 81.0),\n",
       " ('2016-09-09', 75.0, 77.42857142857143, 79.0),\n",
       " ('2016-09-10', 75.0, 76.8, 78.0),\n",
       " ('2016-09-11', 71.0, 77.2, 83.0),\n",
       " ('2016-09-12', 72.0, 76.85714285714286, 79.0),\n",
       " ('2016-09-13', 75.0, 77.57142857142857, 79.0),\n",
       " ('2016-09-14', 73.0, 75.85714285714286, 79.0),\n",
       " ('2016-09-15', 73.0, 77.85714285714286, 81.0),\n",
       " ('2016-09-16', 73.0, 77.85714285714286, 80.0),\n",
       " ('2016-09-17', 76.0, 78.6, 81.0),\n",
       " ('2016-09-18', 75.0, 78.6, 81.0),\n",
       " ('2016-09-19', 70.0, 76.57142857142857, 79.0),\n",
       " ('2016-09-20', 70.0, 75.85714285714286, 80.0),\n",
       " ('2016-09-21', 73.0, 76.66666666666667, 80.0),\n",
       " ('2016-09-22', 73.0, 76.57142857142857, 79.0),\n",
       " ('2016-09-23', 73.0, 78.57142857142857, 82.0),\n",
       " ('2016-09-24', 77.0, 80.16666666666667, 83.0),\n",
       " ('2016-09-25', 76.0, 79.0, 82.0),\n",
       " ('2016-09-26', 74.0, 77.71428571428571, 80.0),\n",
       " ('2016-09-27', 74.0, 78.0, 80.0),\n",
       " ('2016-09-28', 77.0, 78.28571428571429, 80.0),\n",
       " ('2016-09-29', 76.0, 78.85714285714286, 82.0),\n",
       " ('2016-09-30', 73.0, 78.0, 80.0),\n",
       " ('2016-10-01', 74.0, 77.5, 80.0),\n",
       " ('2016-10-02', 73.0, 78.16666666666667, 81.0),\n",
       " ('2016-10-03', 76.0, 78.57142857142857, 80.0),\n",
       " ('2016-10-04', 74.0, 78.28571428571429, 81.0),\n",
       " ('2016-10-05', 75.0, 78.71428571428571, 80.0),\n",
       " ('2016-10-06', 75.0, 77.85714285714286, 80.0),\n",
       " ('2016-10-07', 73.0, 77.42857142857143, 79.0),\n",
       " ('2016-10-08', 73.0, 76.6, 82.0),\n",
       " ('2016-10-09', 72.0, 76.4, 80.0),\n",
       " ('2016-10-10', 71.0, 75.0, 78.0),\n",
       " ('2016-10-11', 74.0, 78.28571428571429, 81.0),\n",
       " ('2016-10-12', 75.0, 78.83333333333333, 81.0),\n",
       " ('2016-10-13', 75.0, 78.57142857142857, 81.0),\n",
       " ('2016-10-14', 73.0, 78.0, 80.0),\n",
       " ('2016-10-15', 74.0, 77.66666666666667, 81.0),\n",
       " ('2016-10-16', 75.0, 78.0, 81.0),\n",
       " ('2016-10-17', 70.0, 77.14285714285714, 80.0),\n",
       " ('2016-10-18', 74.0, 78.42857142857143, 80.0),\n",
       " ('2016-10-19', 70.0, 77.57142857142857, 81.0),\n",
       " ('2016-10-20', 73.0, 76.83333333333333, 79.0),\n",
       " ('2016-10-21', 74.0, 76.85714285714286, 79.0),\n",
       " ('2016-10-22', 75.0, 77.6, 80.0),\n",
       " ('2016-10-23', 72.0, 76.83333333333333, 81.0),\n",
       " ('2016-10-24', 71.0, 75.28571428571429, 77.0),\n",
       " ('2016-10-25', 74.0, 77.0, 81.0),\n",
       " ('2016-10-26', 73.0, 75.16666666666667, 78.0),\n",
       " ('2016-10-27', 71.0, 76.0, 78.0),\n",
       " ('2016-10-28', 68.0, 75.57142857142857, 78.0),\n",
       " ('2016-10-29', 71.0, 76.0, 78.0),\n",
       " ('2016-10-30', 76.0, 77.16666666666667, 79.0),\n",
       " ('2016-10-31', 69.0, 75.42857142857143, 78.0),\n",
       " ('2016-11-01', 73.0, 76.16666666666667, 79.0),\n",
       " ('2016-11-02', 75.0, 76.33333333333333, 78.0),\n",
       " ('2016-11-03', 74.0, 75.66666666666667, 77.0),\n",
       " ('2016-11-04', 74.0, 76.0, 77.0),\n",
       " ('2016-11-05', 69.0, 74.5, 78.0),\n",
       " ('2016-11-06', 71.0, 75.83333333333333, 78.0),\n",
       " ('2016-11-07', 63.0, 71.0, 76.0),\n",
       " ('2016-11-08', 70.0, 72.16666666666667, 77.0),\n",
       " ('2016-11-09', 68.0, 72.14285714285714, 76.0),\n",
       " ('2016-11-10', 67.0, 70.83333333333333, 75.0),\n",
       " ('2016-11-11', 67.0, 72.83333333333333, 77.0),\n",
       " ('2016-11-12', 68.0, 73.83333333333333, 79.0),\n",
       " ('2016-11-13', 72.0, 75.0, 79.0),\n",
       " ('2016-11-14', 74.0, 77.0, 79.0),\n",
       " ('2016-11-15', 72.0, 76.28571428571429, 78.0),\n",
       " ('2016-11-16', 72.0, 76.0, 78.0),\n",
       " ('2016-11-17', 75.0, 76.28571428571429, 77.0),\n",
       " ('2016-11-18', 75.0, 76.4, 78.0),\n",
       " ('2016-11-19', 73.0, 74.25, 76.0),\n",
       " ('2016-11-20', 74.0, 76.0, 80.0),\n",
       " ('2016-11-21', 71.0, 73.83333333333333, 76.0),\n",
       " ('2016-11-22', 73.0, 75.28571428571429, 76.0),\n",
       " ('2016-11-23', 69.0, 73.66666666666667, 77.0),\n",
       " ('2016-11-24', 69.0, 73.6, 75.0),\n",
       " ('2016-11-25', 69.0, 74.0, 76.0),\n",
       " ('2016-11-26', 70.0, 75.0, 78.0),\n",
       " ('2016-11-27', 69.0, 74.5, 78.0),\n",
       " ('2016-11-28', 71.0, 75.0, 77.0),\n",
       " ('2016-11-29', 67.0, 72.42857142857143, 76.0),\n",
       " ('2016-11-30', 72.0, 74.42857142857143, 76.0),\n",
       " ('2016-12-01', 71.0, 73.71428571428571, 76.0),\n",
       " ('2016-12-02', 70.0, 72.28571428571429, 77.0),\n",
       " ('2016-12-03', 67.0, 71.5, 75.0),\n",
       " ('2016-12-04', 69.0, 73.0, 77.0),\n",
       " ('2016-12-05', 67.0, 69.14285714285714, 76.0),\n",
       " ('2016-12-06', 67.0, 69.16666666666667, 74.0),\n",
       " ('2016-12-07', 68.0, 71.14285714285714, 76.0),\n",
       " ('2016-12-08', 70.0, 72.0, 75.0),\n",
       " ('2016-12-09', 68.0, 69.66666666666667, 72.0),\n",
       " ('2016-12-10', 68.0, 71.0, 76.0),\n",
       " ('2016-12-11', 69.0, 71.6, 78.0),\n",
       " ('2016-12-12', 65.0, 68.14285714285714, 75.0),\n",
       " ('2016-12-13', 65.0, 68.42857142857143, 72.0),\n",
       " ('2016-12-14', 68.0, 69.71428571428571, 72.0),\n",
       " ('2016-12-15', 62.0, 68.42857142857143, 75.0),\n",
       " ('2016-12-16', 60.0, 65.42857142857143, 75.0),\n",
       " ('2016-12-17', 70.0, 72.6, 76.0),\n",
       " ('2016-12-18', 67.0, 71.0, 76.0),\n",
       " ('2016-12-19', 69.0, 72.28571428571429, 78.0),\n",
       " ('2016-12-20', 73.0, 75.57142857142857, 77.0),\n",
       " ('2016-12-21', 70.0, 73.71428571428571, 77.0),\n",
       " ('2016-12-22', 68.0, 71.0, 73.0),\n",
       " ('2016-12-23', 68.0, 70.42857142857143, 73.0),\n",
       " ('2016-12-24', 69.0, 73.66666666666667, 78.0),\n",
       " ('2016-12-25', 69.0, 73.8, 78.0),\n",
       " ('2016-12-26', 71.0, 73.33333333333333, 75.0),\n",
       " ('2016-12-27', 71.0, 73.0, 75.0),\n",
       " ('2016-12-28', 71.0, 71.57142857142857, 73.0),\n",
       " ('2016-12-29', 69.0, 72.71428571428571, 77.0),\n",
       " ('2016-12-30', 65.0, 69.0, 72.0),\n",
       " ('2016-12-31', 65.0, 68.2, 72.0),\n",
       " ('2017-01-01', 62.0, 69.33333333333333, 74.0),\n",
       " ('2017-01-02', 66.0, 69.2, 74.0),\n",
       " ('2017-01-03', 63.0, 67.66666666666667, 73.0),\n",
       " ('2017-01-04', 62.0, 67.16666666666667, 73.0),\n",
       " ('2017-01-05', 63.0, 67.5, 72.0),\n",
       " ('2017-01-06', 62.0, 67.66666666666667, 74.0),\n",
       " ('2017-01-07', 66.0, 70.16666666666667, 72.0),\n",
       " ('2017-01-08', 60.0, 67.66666666666667, 74.0),\n",
       " ('2017-01-09', 62.0, 67.71428571428571, 77.0),\n",
       " ('2017-01-10', 62.0, 66.71428571428571, 75.0),\n",
       " ('2017-01-11', 63.0, 69.33333333333333, 78.0),\n",
       " ('2017-01-12', 65.0, 69.16666666666667, 81.0),\n",
       " ('2017-01-13', 67.0, 69.33333333333333, 75.0),\n",
       " ('2017-01-14', 65.0, 71.0, 77.0),\n",
       " ('2017-01-15', 66.0, 69.8, 78.0),\n",
       " ('2017-01-16', 67.0, 72.33333333333333, 80.0),\n",
       " ('2017-01-17', 66.0, 70.5, 75.0),\n",
       " ('2017-01-18', 72.0, 73.28571428571429, 75.0),\n",
       " ('2017-01-19', 66.0, 72.85714285714286, 78.0),\n",
       " ('2017-01-20', 67.0, 71.0, 74.0),\n",
       " ('2017-01-21', 67.0, 71.5, 74.0),\n",
       " ('2017-01-22', 68.0, 71.2, 74.0),\n",
       " ('2017-01-23', 70.0, 73.0, 77.0),\n",
       " ('2017-01-24', 67.0, 70.33333333333333, 74.0),\n",
       " ('2017-01-25', 69.0, 71.0, 73.0),\n",
       " ('2017-01-26', 67.0, 71.14285714285714, 74.0),\n",
       " ('2017-01-27', 63.0, 68.0, 74.0),\n",
       " ('2017-01-28', 64.0, 68.0, 76.0),\n",
       " ('2017-01-29', 67.0, 69.4, 73.0),\n",
       " ('2017-01-30', 66.0, 68.42857142857143, 71.0),\n",
       " ('2017-01-31', 65.0, 68.28571428571429, 70.0),\n",
       " ('2017-02-01', 62.0, 68.0, 72.0),\n",
       " ('2017-02-02', 59.0, 64.14285714285714, 72.0),\n",
       " ('2017-02-03', 60.0, 66.0, 73.0),\n",
       " ('2017-02-04', 66.0, 70.2, 76.0),\n",
       " ('2017-02-05', 69.0, 74.5, 80.0),\n",
       " ('2017-02-06', 73.0, 75.28571428571429, 77.0),\n",
       " ('2017-02-07', 64.0, 68.28571428571429, 76.0),\n",
       " ('2017-02-08', 59.0, 65.85714285714286, 74.0),\n",
       " ('2017-02-09', 59.0, 63.285714285714285, 71.0),\n",
       " ('2017-02-10', 62.0, 68.28571428571429, 74.0),\n",
       " ('2017-02-11', 65.0, 67.83333333333333, 70.0),\n",
       " ('2017-02-12', 65.0, 69.83333333333333, 76.0),\n",
       " ('2017-02-13', 68.0, 74.14285714285714, 80.0),\n",
       " ('2017-02-14', 72.0, 76.66666666666667, 79.0),\n",
       " ('2017-02-15', 71.0, 74.57142857142857, 76.0),\n",
       " ('2017-02-16', 65.0, 71.0, 74.0),\n",
       " ('2017-02-17', 67.0, 71.5, 77.0),\n",
       " ('2017-02-18', 67.0, 70.4, 74.0),\n",
       " ('2017-02-19', 68.0, 69.25, 70.0),\n",
       " ('2017-02-20', 69.0, 70.66666666666667, 72.0),\n",
       " ('2017-02-21', 65.0, 69.66666666666667, 71.0),\n",
       " ('2017-02-22', 69.0, 71.14285714285714, 72.0),\n",
       " ('2017-02-23', 70.0, 72.42857142857143, 75.0),\n",
       " ('2017-02-24', 68.0, 69.42857142857143, 71.0),\n",
       " ('2017-02-25', 61.0, 63.5, 66.0),\n",
       " ('2017-02-26', 63.0, 66.83333333333333, 75.0),\n",
       " ('2017-02-27', 65.0, 69.85714285714286, 77.0),\n",
       " ('2017-02-28', 69.0, 72.28571428571429, 74.0),\n",
       " ('2017-03-01', 64.0, 69.0, 73.0),\n",
       " ('2017-03-02', 72.0, 73.16666666666667, 75.0),\n",
       " ('2017-03-03', 69.0, 72.71428571428571, 78.0),\n",
       " ('2017-03-04', 70.0, 74.8, 77.0),\n",
       " ('2017-03-05', 68.0, 70.5, 73.0)]"
      ]
     },
     "execution_count": 38,
     "metadata": {},
     "output_type": "execute_result"
    }
   ],
   "source": [
    "# Start and End date for Flask activity\n",
    "\n",
    "start_end = session.query(Measurement.date, func.min(Measurement.tobs), func.avg(Measurement.tobs), func.max(Measurement.tobs)).\\\n",
    "    filter(Measurement.date >= '2016-02-28').\\\n",
    "    filter(Measurement.date <= '2017-03-05').\\\n",
    "    group_by(Measurement.date).all()\n",
    "start_end"
   ]
  },
  {
   "cell_type": "markdown",
   "metadata": {},
   "source": [
    "## Optional Challenge Assignment"
   ]
  },
  {
   "cell_type": "code",
   "execution_count": null,
   "metadata": {},
   "outputs": [],
   "source": [
    "# Create a query that will calculate the daily normals \n",
    "# (i.e. the averages for tmin, tmax, and tavg for all historic data matching a specific month and day)\n",
    "\n",
    "def daily_normals(date):\n",
    "    \"\"\"Daily Normals.\n",
    "    \n",
    "    Args:\n",
    "        date (str): A date string in the format '%m-%d'\n",
    "        \n",
    "    Returns:\n",
    "        A list of tuples containing the daily normals, tmin, tavg, and tmax\n",
    "    \n",
    "    \"\"\"\n",
    "    \n",
    "    sel = [func.min(Measurement.tobs), func.avg(Measurement.tobs), func.max(Measurement.tobs)]\n",
    "    return session.query(*sel).filter(func.strftime(\"%m-%d\", Measurement.date) == date).all()\n",
    "    \n",
    "daily_normals(\"01-01\")"
   ]
  },
  {
   "cell_type": "code",
   "execution_count": null,
   "metadata": {},
   "outputs": [],
   "source": [
    "# calculate the daily normals for your trip\n",
    "# push each tuple of calculations into a list called `normals`\n",
    "\n",
    "# Set the start and end date of the trip\n",
    "\n",
    "# Use the start and end date to create a range of dates\n",
    "\n",
    "# Stip off the year and save a list of %m-%d strings\n",
    "\n",
    "# Loop through the list of %m-%d strings and calculate the normals for each date\n"
   ]
  },
  {
   "cell_type": "code",
   "execution_count": null,
   "metadata": {},
   "outputs": [],
   "source": [
    "# Load the previous query results into a Pandas DataFrame and add the `trip_dates` range as the `date` index\n"
   ]
  },
  {
   "cell_type": "code",
   "execution_count": null,
   "metadata": {},
   "outputs": [],
   "source": [
    "# Plot the daily normals as an area plot with `stacked=False`\n"
   ]
  }
 ],
 "metadata": {
  "kernel_info": {
   "name": "python3"
  },
  "kernelspec": {
   "display_name": "Python 3",
   "language": "python",
   "name": "python3"
  },
  "language_info": {
   "codemirror_mode": {
    "name": "ipython",
    "version": 3
   },
   "file_extension": ".py",
   "mimetype": "text/x-python",
   "name": "python",
   "nbconvert_exporter": "python",
   "pygments_lexer": "ipython3",
   "version": "3.7.0"
  },
  "nteract": {
   "version": "0.9.1"
  },
  "varInspector": {
   "cols": {
    "lenName": 16,
    "lenType": 16,
    "lenVar": 40
   },
   "kernels_config": {
    "python": {
     "delete_cmd_postfix": "",
     "delete_cmd_prefix": "del ",
     "library": "var_list.py",
     "varRefreshCmd": "print(var_dic_list())"
    },
    "r": {
     "delete_cmd_postfix": ") ",
     "delete_cmd_prefix": "rm(",
     "library": "var_list.r",
     "varRefreshCmd": "cat(var_dic_list()) "
    }
   },
   "types_to_exclude": [
    "module",
    "function",
    "builtin_function_or_method",
    "instance",
    "_Feature"
   ],
   "window_display": false
  }
 },
 "nbformat": 4,
 "nbformat_minor": 2
}
